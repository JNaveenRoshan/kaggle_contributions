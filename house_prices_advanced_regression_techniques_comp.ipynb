{
 "cells": [
  {
   "cell_type": "markdown",
   "metadata": {
    "papermill": {
     "duration": 0.080406,
     "end_time": "2020-10-18T18:21:49.040753",
     "exception": false,
     "start_time": "2020-10-18T18:21:48.960347",
     "status": "completed"
    },
    "tags": []
   },
   "source": [
    "## House Prices Prediction\n",
    "\n",
    "### Competition Link:\n",
    "https://www.kaggle.com/c/house-prices-advanced-regression-techniques\n",
    "\n",
    "### Problem Statement:\n",
    "To predict the sale prices of the houses given the features of the location and the house\n",
    "\n",
    "### Data \n",
    "Dataset is called Ames Housing dataset compiled by dean de cock in kaggle\n",
    "\n",
    "**Link**:https://www.kaggle.com/c/house-prices-advanced-regression-techniques/data\n",
    "\n",
    "### Evaluation\n",
    "The Kaggle vealuates our submission on the basis of Root-Mean-Squared-Error (RMSE)\n",
    "\n",
    "**Link**:https://www.kaggle.com/c/house-prices-advanced-regression-techniques/overview/evaluation\n",
    "\n",
    "### Features\n",
    "To know more about the data there is a data dictionary available which was also compiled by Dean de Cockunder the data fields heading\n",
    "\n",
    "**Link**:https://www.kaggle.com/c/house-prices-advanced-regression-techniques/data\n"
   ]
  },
  {
   "cell_type": "code",
   "execution_count": 1,
   "metadata": {
    "_cell_guid": "b1076dfc-b9ad-4769-8c92-a6c4dae69d19",
    "_uuid": "8f2839f25d086af736a60e9eeb907d3b93b6e0e5",
    "execution": {
     "iopub.execute_input": "2020-10-18T18:21:49.203070Z",
     "iopub.status.busy": "2020-10-18T18:21:49.202306Z",
     "iopub.status.idle": "2020-10-18T18:21:49.205572Z",
     "shell.execute_reply": "2020-10-18T18:21:49.204966Z"
    },
    "papermill": {
     "duration": 0.087352,
     "end_time": "2020-10-18T18:21:49.205699",
     "exception": false,
     "start_time": "2020-10-18T18:21:49.118347",
     "status": "completed"
    },
    "tags": []
   },
   "outputs": [],
   "source": [
    "# Importing all the necessary packages\n",
    "import pandas as pd\n",
    "import numpy as np\n",
    "import matplotlib.pyplot as plt\n"
   ]
  },
  {
   "cell_type": "markdown",
   "metadata": {
    "papermill": {
     "duration": 0.077519,
     "end_time": "2020-10-18T18:21:49.361666",
     "exception": false,
     "start_time": "2020-10-18T18:21:49.284147",
     "status": "completed"
    },
    "tags": []
   },
   "source": [
    "## Getting the data ready"
   ]
  },
  {
   "cell_type": "code",
   "execution_count": 2,
   "metadata": {
    "_cell_guid": "79c7e3d0-c299-4dcb-8224-4455121ee9b0",
    "_uuid": "d629ff2d2480ee46fbb7e2d37f6b5fab8052498a",
    "execution": {
     "iopub.execute_input": "2020-10-18T18:21:49.526661Z",
     "iopub.status.busy": "2020-10-18T18:21:49.525737Z",
     "iopub.status.idle": "2020-10-18T18:21:49.602756Z",
     "shell.execute_reply": "2020-10-18T18:21:49.601811Z"
    },
    "papermill": {
     "duration": 0.164236,
     "end_time": "2020-10-18T18:21:49.602899",
     "exception": false,
     "start_time": "2020-10-18T18:21:49.438663",
     "status": "completed"
    },
    "tags": []
   },
   "outputs": [
    {
     "name": "stdout",
     "output_type": "stream",
     "text": [
      "<class 'pandas.core.frame.DataFrame'>\n",
      "RangeIndex: 1460 entries, 0 to 1459\n",
      "Data columns (total 81 columns):\n",
      " #   Column         Non-Null Count  Dtype  \n",
      "---  ------         --------------  -----  \n",
      " 0   Id             1460 non-null   int64  \n",
      " 1   MSSubClass     1460 non-null   int64  \n",
      " 2   MSZoning       1460 non-null   object \n",
      " 3   LotFrontage    1201 non-null   float64\n",
      " 4   LotArea        1460 non-null   int64  \n",
      " 5   Street         1460 non-null   object \n",
      " 6   Alley          91 non-null     object \n",
      " 7   LotShape       1460 non-null   object \n",
      " 8   LandContour    1460 non-null   object \n",
      " 9   Utilities      1460 non-null   object \n",
      " 10  LotConfig      1460 non-null   object \n",
      " 11  LandSlope      1460 non-null   object \n",
      " 12  Neighborhood   1460 non-null   object \n",
      " 13  Condition1     1460 non-null   object \n",
      " 14  Condition2     1460 non-null   object \n",
      " 15  BldgType       1460 non-null   object \n",
      " 16  HouseStyle     1460 non-null   object \n",
      " 17  OverallQual    1460 non-null   int64  \n",
      " 18  OverallCond    1460 non-null   int64  \n",
      " 19  YearBuilt      1460 non-null   int64  \n",
      " 20  YearRemodAdd   1460 non-null   int64  \n",
      " 21  RoofStyle      1460 non-null   object \n",
      " 22  RoofMatl       1460 non-null   object \n",
      " 23  Exterior1st    1460 non-null   object \n",
      " 24  Exterior2nd    1460 non-null   object \n",
      " 25  MasVnrType     1452 non-null   object \n",
      " 26  MasVnrArea     1452 non-null   float64\n",
      " 27  ExterQual      1460 non-null   object \n",
      " 28  ExterCond      1460 non-null   object \n",
      " 29  Foundation     1460 non-null   object \n",
      " 30  BsmtQual       1423 non-null   object \n",
      " 31  BsmtCond       1423 non-null   object \n",
      " 32  BsmtExposure   1422 non-null   object \n",
      " 33  BsmtFinType1   1423 non-null   object \n",
      " 34  BsmtFinSF1     1460 non-null   int64  \n",
      " 35  BsmtFinType2   1422 non-null   object \n",
      " 36  BsmtFinSF2     1460 non-null   int64  \n",
      " 37  BsmtUnfSF      1460 non-null   int64  \n",
      " 38  TotalBsmtSF    1460 non-null   int64  \n",
      " 39  Heating        1460 non-null   object \n",
      " 40  HeatingQC      1460 non-null   object \n",
      " 41  CentralAir     1460 non-null   object \n",
      " 42  Electrical     1459 non-null   object \n",
      " 43  1stFlrSF       1460 non-null   int64  \n",
      " 44  2ndFlrSF       1460 non-null   int64  \n",
      " 45  LowQualFinSF   1460 non-null   int64  \n",
      " 46  GrLivArea      1460 non-null   int64  \n",
      " 47  BsmtFullBath   1460 non-null   int64  \n",
      " 48  BsmtHalfBath   1460 non-null   int64  \n",
      " 49  FullBath       1460 non-null   int64  \n",
      " 50  HalfBath       1460 non-null   int64  \n",
      " 51  BedroomAbvGr   1460 non-null   int64  \n",
      " 52  KitchenAbvGr   1460 non-null   int64  \n",
      " 53  KitchenQual    1460 non-null   object \n",
      " 54  TotRmsAbvGrd   1460 non-null   int64  \n",
      " 55  Functional     1460 non-null   object \n",
      " 56  Fireplaces     1460 non-null   int64  \n",
      " 57  FireplaceQu    770 non-null    object \n",
      " 58  GarageType     1379 non-null   object \n",
      " 59  GarageYrBlt    1379 non-null   float64\n",
      " 60  GarageFinish   1379 non-null   object \n",
      " 61  GarageCars     1460 non-null   int64  \n",
      " 62  GarageArea     1460 non-null   int64  \n",
      " 63  GarageQual     1379 non-null   object \n",
      " 64  GarageCond     1379 non-null   object \n",
      " 65  PavedDrive     1460 non-null   object \n",
      " 66  WoodDeckSF     1460 non-null   int64  \n",
      " 67  OpenPorchSF    1460 non-null   int64  \n",
      " 68  EnclosedPorch  1460 non-null   int64  \n",
      " 69  3SsnPorch      1460 non-null   int64  \n",
      " 70  ScreenPorch    1460 non-null   int64  \n",
      " 71  PoolArea       1460 non-null   int64  \n",
      " 72  PoolQC         7 non-null      object \n",
      " 73  Fence          281 non-null    object \n",
      " 74  MiscFeature    54 non-null     object \n",
      " 75  MiscVal        1460 non-null   int64  \n",
      " 76  MoSold         1460 non-null   int64  \n",
      " 77  YrSold         1460 non-null   int64  \n",
      " 78  SaleType       1460 non-null   object \n",
      " 79  SaleCondition  1460 non-null   object \n",
      " 80  SalePrice      1460 non-null   int64  \n",
      "dtypes: float64(3), int64(35), object(43)\n",
      "memory usage: 924.0+ KB\n"
     ]
    }
   ],
   "source": [
    "# Creating a dataframe \n",
    "df=pd.read_csv(\"../input/dean-de-cock-house-prices/train.csv\",low_memory=False)\n",
    "df.info()"
   ]
  },
  {
   "cell_type": "code",
   "execution_count": 3,
   "metadata": {
    "execution": {
     "iopub.execute_input": "2020-10-18T18:21:49.777003Z",
     "iopub.status.busy": "2020-10-18T18:21:49.775786Z",
     "iopub.status.idle": "2020-10-18T18:21:49.785899Z",
     "shell.execute_reply": "2020-10-18T18:21:49.786464Z"
    },
    "papermill": {
     "duration": 0.104953,
     "end_time": "2020-10-18T18:21:49.786627",
     "exception": false,
     "start_time": "2020-10-18T18:21:49.681674",
     "status": "completed"
    },
    "tags": []
   },
   "outputs": [
    {
     "data": {
      "text/plain": [
       "Id                 0\n",
       "MSSubClass         0\n",
       "MSZoning           0\n",
       "LotFrontage      259\n",
       "LotArea            0\n",
       "                ... \n",
       "MoSold             0\n",
       "YrSold             0\n",
       "SaleType           0\n",
       "SaleCondition      0\n",
       "SalePrice          0\n",
       "Length: 81, dtype: int64"
      ]
     },
     "execution_count": 3,
     "metadata": {},
     "output_type": "execute_result"
    }
   ],
   "source": [
    "# Checking for missing values\n",
    "df.isna().sum()"
   ]
  },
  {
   "cell_type": "code",
   "execution_count": 4,
   "metadata": {
    "execution": {
     "iopub.execute_input": "2020-10-18T18:21:49.950425Z",
     "iopub.status.busy": "2020-10-18T18:21:49.949520Z",
     "iopub.status.idle": "2020-10-18T18:21:49.953662Z",
     "shell.execute_reply": "2020-10-18T18:21:49.952911Z"
    },
    "papermill": {
     "duration": 0.087739,
     "end_time": "2020-10-18T18:21:49.953788",
     "exception": false,
     "start_time": "2020-10-18T18:21:49.866049",
     "status": "completed"
    },
    "tags": []
   },
   "outputs": [],
   "source": [
    "# Creating a copy of the dataframe so the edits doesn't affect the original dataframe\n",
    "df_tmp=df.copy()"
   ]
  },
  {
   "cell_type": "code",
   "execution_count": 5,
   "metadata": {
    "execution": {
     "iopub.execute_input": "2020-10-18T18:21:50.128739Z",
     "iopub.status.busy": "2020-10-18T18:21:50.127905Z",
     "iopub.status.idle": "2020-10-18T18:21:50.140725Z",
     "shell.execute_reply": "2020-10-18T18:21:50.140003Z"
    },
    "papermill": {
     "duration": 0.105725,
     "end_time": "2020-10-18T18:21:50.140847",
     "exception": false,
     "start_time": "2020-10-18T18:21:50.035122",
     "status": "completed"
    },
    "tags": []
   },
   "outputs": [
    {
     "data": {
      "text/html": [
       "<div>\n",
       "<style scoped>\n",
       "    .dataframe tbody tr th:only-of-type {\n",
       "        vertical-align: middle;\n",
       "    }\n",
       "\n",
       "    .dataframe tbody tr th {\n",
       "        vertical-align: top;\n",
       "    }\n",
       "\n",
       "    .dataframe thead th {\n",
       "        text-align: right;\n",
       "    }\n",
       "</style>\n",
       "<table border=\"1\" class=\"dataframe\">\n",
       "  <thead>\n",
       "    <tr style=\"text-align: right;\">\n",
       "      <th></th>\n",
       "      <th>0</th>\n",
       "      <th>1</th>\n",
       "      <th>2</th>\n",
       "      <th>3</th>\n",
       "      <th>4</th>\n",
       "    </tr>\n",
       "  </thead>\n",
       "  <tbody>\n",
       "    <tr>\n",
       "      <th>Id</th>\n",
       "      <td>1</td>\n",
       "      <td>2</td>\n",
       "      <td>3</td>\n",
       "      <td>4</td>\n",
       "      <td>5</td>\n",
       "    </tr>\n",
       "    <tr>\n",
       "      <th>MSSubClass</th>\n",
       "      <td>60</td>\n",
       "      <td>20</td>\n",
       "      <td>60</td>\n",
       "      <td>70</td>\n",
       "      <td>60</td>\n",
       "    </tr>\n",
       "    <tr>\n",
       "      <th>MSZoning</th>\n",
       "      <td>RL</td>\n",
       "      <td>RL</td>\n",
       "      <td>RL</td>\n",
       "      <td>RL</td>\n",
       "      <td>RL</td>\n",
       "    </tr>\n",
       "    <tr>\n",
       "      <th>LotFrontage</th>\n",
       "      <td>65</td>\n",
       "      <td>80</td>\n",
       "      <td>68</td>\n",
       "      <td>60</td>\n",
       "      <td>84</td>\n",
       "    </tr>\n",
       "    <tr>\n",
       "      <th>LotArea</th>\n",
       "      <td>8450</td>\n",
       "      <td>9600</td>\n",
       "      <td>11250</td>\n",
       "      <td>9550</td>\n",
       "      <td>14260</td>\n",
       "    </tr>\n",
       "    <tr>\n",
       "      <th>...</th>\n",
       "      <td>...</td>\n",
       "      <td>...</td>\n",
       "      <td>...</td>\n",
       "      <td>...</td>\n",
       "      <td>...</td>\n",
       "    </tr>\n",
       "    <tr>\n",
       "      <th>MoSold</th>\n",
       "      <td>2</td>\n",
       "      <td>5</td>\n",
       "      <td>9</td>\n",
       "      <td>2</td>\n",
       "      <td>12</td>\n",
       "    </tr>\n",
       "    <tr>\n",
       "      <th>YrSold</th>\n",
       "      <td>2008</td>\n",
       "      <td>2007</td>\n",
       "      <td>2008</td>\n",
       "      <td>2006</td>\n",
       "      <td>2008</td>\n",
       "    </tr>\n",
       "    <tr>\n",
       "      <th>SaleType</th>\n",
       "      <td>WD</td>\n",
       "      <td>WD</td>\n",
       "      <td>WD</td>\n",
       "      <td>WD</td>\n",
       "      <td>WD</td>\n",
       "    </tr>\n",
       "    <tr>\n",
       "      <th>SaleCondition</th>\n",
       "      <td>Normal</td>\n",
       "      <td>Normal</td>\n",
       "      <td>Normal</td>\n",
       "      <td>Abnorml</td>\n",
       "      <td>Normal</td>\n",
       "    </tr>\n",
       "    <tr>\n",
       "      <th>SalePrice</th>\n",
       "      <td>208500</td>\n",
       "      <td>181500</td>\n",
       "      <td>223500</td>\n",
       "      <td>140000</td>\n",
       "      <td>250000</td>\n",
       "    </tr>\n",
       "  </tbody>\n",
       "</table>\n",
       "<p>81 rows × 5 columns</p>\n",
       "</div>"
      ],
      "text/plain": [
       "                    0       1       2        3       4\n",
       "Id                  1       2       3        4       5\n",
       "MSSubClass         60      20      60       70      60\n",
       "MSZoning           RL      RL      RL       RL      RL\n",
       "LotFrontage        65      80      68       60      84\n",
       "LotArea          8450    9600   11250     9550   14260\n",
       "...               ...     ...     ...      ...     ...\n",
       "MoSold              2       5       9        2      12\n",
       "YrSold           2008    2007    2008     2006    2008\n",
       "SaleType           WD      WD      WD       WD      WD\n",
       "SaleCondition  Normal  Normal  Normal  Abnorml  Normal\n",
       "SalePrice      208500  181500  223500   140000  250000\n",
       "\n",
       "[81 rows x 5 columns]"
      ]
     },
     "execution_count": 5,
     "metadata": {},
     "output_type": "execute_result"
    }
   ],
   "source": [
    "df_tmp.head().T"
   ]
  },
  {
   "cell_type": "markdown",
   "metadata": {
    "papermill": {
     "duration": 0.079804,
     "end_time": "2020-10-18T18:21:50.301157",
     "exception": false,
     "start_time": "2020-10-18T18:21:50.221353",
     "status": "completed"
    },
    "tags": []
   },
   "source": [
    "## Filling the missing values in the df_tmp data"
   ]
  },
  {
   "cell_type": "code",
   "execution_count": 6,
   "metadata": {
    "execution": {
     "iopub.execute_input": "2020-10-18T18:21:50.469925Z",
     "iopub.status.busy": "2020-10-18T18:21:50.469022Z",
     "iopub.status.idle": "2020-10-18T18:21:50.473117Z",
     "shell.execute_reply": "2020-10-18T18:21:50.473638Z"
    },
    "papermill": {
     "duration": 0.092265,
     "end_time": "2020-10-18T18:21:50.473803",
     "exception": false,
     "start_time": "2020-10-18T18:21:50.381538",
     "status": "completed"
    },
    "tags": []
   },
   "outputs": [
    {
     "data": {
      "text/plain": [
       "0       65.0\n",
       "1       80.0\n",
       "2       68.0\n",
       "3       60.0\n",
       "4       84.0\n",
       "        ... \n",
       "1455    62.0\n",
       "1456    85.0\n",
       "1457    66.0\n",
       "1458    68.0\n",
       "1459    75.0\n",
       "Name: LotFrontage, Length: 1460, dtype: float64"
      ]
     },
     "execution_count": 6,
     "metadata": {},
     "output_type": "execute_result"
    }
   ],
   "source": [
    "df_tmp.LotFrontage"
   ]
  },
  {
   "cell_type": "markdown",
   "metadata": {
    "papermill": {
     "duration": 0.080273,
     "end_time": "2020-10-18T18:21:50.636714",
     "exception": false,
     "start_time": "2020-10-18T18:21:50.556441",
     "status": "completed"
    },
    "tags": []
   },
   "source": [
    "### Coverting the strings features into pandas categorical features"
   ]
  },
  {
   "cell_type": "code",
   "execution_count": 7,
   "metadata": {
    "execution": {
     "iopub.execute_input": "2020-10-18T18:21:50.813157Z",
     "iopub.status.busy": "2020-10-18T18:21:50.811910Z",
     "iopub.status.idle": "2020-10-18T18:21:50.818630Z",
     "shell.execute_reply": "2020-10-18T18:21:50.817625Z"
    },
    "papermill": {
     "duration": 0.101017,
     "end_time": "2020-10-18T18:21:50.818807",
     "exception": false,
     "start_time": "2020-10-18T18:21:50.717790",
     "status": "completed"
    },
    "tags": []
   },
   "outputs": [
    {
     "name": "stdout",
     "output_type": "stream",
     "text": [
      "MSZoning\n",
      "Street\n",
      "Alley\n",
      "LotShape\n",
      "LandContour\n",
      "Utilities\n",
      "LotConfig\n",
      "LandSlope\n",
      "Neighborhood\n",
      "Condition1\n",
      "Condition2\n",
      "BldgType\n",
      "HouseStyle\n",
      "RoofStyle\n",
      "RoofMatl\n",
      "Exterior1st\n",
      "Exterior2nd\n",
      "MasVnrType\n",
      "ExterQual\n",
      "ExterCond\n",
      "Foundation\n",
      "BsmtQual\n",
      "BsmtCond\n",
      "BsmtExposure\n",
      "BsmtFinType1\n",
      "BsmtFinType2\n",
      "Heating\n",
      "HeatingQC\n",
      "CentralAir\n",
      "Electrical\n",
      "KitchenQual\n",
      "Functional\n",
      "FireplaceQu\n",
      "GarageType\n",
      "GarageFinish\n",
      "GarageQual\n",
      "GarageCond\n",
      "PavedDrive\n",
      "PoolQC\n",
      "Fence\n",
      "MiscFeature\n",
      "SaleType\n",
      "SaleCondition\n"
     ]
    }
   ],
   "source": [
    "# Checking the columns that contain strings\n",
    "for label,content in df_tmp.items():\n",
    "    if pd.api.types.is_string_dtype(content):\n",
    "        print(label)"
   ]
  },
  {
   "cell_type": "code",
   "execution_count": 8,
   "metadata": {
    "execution": {
     "iopub.execute_input": "2020-10-18T18:21:50.993375Z",
     "iopub.status.busy": "2020-10-18T18:21:50.992576Z",
     "iopub.status.idle": "2020-10-18T18:21:51.056698Z",
     "shell.execute_reply": "2020-10-18T18:21:51.055913Z"
    },
    "papermill": {
     "duration": 0.156331,
     "end_time": "2020-10-18T18:21:51.056881",
     "exception": false,
     "start_time": "2020-10-18T18:21:50.900550",
     "status": "completed"
    },
    "tags": []
   },
   "outputs": [],
   "source": [
    "# Converting all the string data features into pandas categorical features\n",
    "for label,content in df_tmp.items():\n",
    "    if pd.api.types.is_string_dtype(content):\n",
    "        df_tmp[label]=content.astype(\"category\").cat.as_ordered()\n",
    "        "
   ]
  },
  {
   "cell_type": "code",
   "execution_count": 9,
   "metadata": {
    "execution": {
     "iopub.execute_input": "2020-10-18T18:21:51.228653Z",
     "iopub.status.busy": "2020-10-18T18:21:51.227848Z",
     "iopub.status.idle": "2020-10-18T18:21:51.277581Z",
     "shell.execute_reply": "2020-10-18T18:21:51.278222Z"
    },
    "papermill": {
     "duration": 0.138881,
     "end_time": "2020-10-18T18:21:51.278396",
     "exception": false,
     "start_time": "2020-10-18T18:21:51.139515",
     "status": "completed"
    },
    "tags": []
   },
   "outputs": [
    {
     "name": "stdout",
     "output_type": "stream",
     "text": [
      "<class 'pandas.core.frame.DataFrame'>\n",
      "RangeIndex: 1460 entries, 0 to 1459\n",
      "Data columns (total 81 columns):\n",
      " #   Column         Non-Null Count  Dtype   \n",
      "---  ------         --------------  -----   \n",
      " 0   Id             1460 non-null   int64   \n",
      " 1   MSSubClass     1460 non-null   int64   \n",
      " 2   MSZoning       1460 non-null   category\n",
      " 3   LotFrontage    1201 non-null   float64 \n",
      " 4   LotArea        1460 non-null   int64   \n",
      " 5   Street         1460 non-null   category\n",
      " 6   Alley          91 non-null     category\n",
      " 7   LotShape       1460 non-null   category\n",
      " 8   LandContour    1460 non-null   category\n",
      " 9   Utilities      1460 non-null   category\n",
      " 10  LotConfig      1460 non-null   category\n",
      " 11  LandSlope      1460 non-null   category\n",
      " 12  Neighborhood   1460 non-null   category\n",
      " 13  Condition1     1460 non-null   category\n",
      " 14  Condition2     1460 non-null   category\n",
      " 15  BldgType       1460 non-null   category\n",
      " 16  HouseStyle     1460 non-null   category\n",
      " 17  OverallQual    1460 non-null   int64   \n",
      " 18  OverallCond    1460 non-null   int64   \n",
      " 19  YearBuilt      1460 non-null   int64   \n",
      " 20  YearRemodAdd   1460 non-null   int64   \n",
      " 21  RoofStyle      1460 non-null   category\n",
      " 22  RoofMatl       1460 non-null   category\n",
      " 23  Exterior1st    1460 non-null   category\n",
      " 24  Exterior2nd    1460 non-null   category\n",
      " 25  MasVnrType     1452 non-null   category\n",
      " 26  MasVnrArea     1452 non-null   float64 \n",
      " 27  ExterQual      1460 non-null   category\n",
      " 28  ExterCond      1460 non-null   category\n",
      " 29  Foundation     1460 non-null   category\n",
      " 30  BsmtQual       1423 non-null   category\n",
      " 31  BsmtCond       1423 non-null   category\n",
      " 32  BsmtExposure   1422 non-null   category\n",
      " 33  BsmtFinType1   1423 non-null   category\n",
      " 34  BsmtFinSF1     1460 non-null   int64   \n",
      " 35  BsmtFinType2   1422 non-null   category\n",
      " 36  BsmtFinSF2     1460 non-null   int64   \n",
      " 37  BsmtUnfSF      1460 non-null   int64   \n",
      " 38  TotalBsmtSF    1460 non-null   int64   \n",
      " 39  Heating        1460 non-null   category\n",
      " 40  HeatingQC      1460 non-null   category\n",
      " 41  CentralAir     1460 non-null   category\n",
      " 42  Electrical     1459 non-null   category\n",
      " 43  1stFlrSF       1460 non-null   int64   \n",
      " 44  2ndFlrSF       1460 non-null   int64   \n",
      " 45  LowQualFinSF   1460 non-null   int64   \n",
      " 46  GrLivArea      1460 non-null   int64   \n",
      " 47  BsmtFullBath   1460 non-null   int64   \n",
      " 48  BsmtHalfBath   1460 non-null   int64   \n",
      " 49  FullBath       1460 non-null   int64   \n",
      " 50  HalfBath       1460 non-null   int64   \n",
      " 51  BedroomAbvGr   1460 non-null   int64   \n",
      " 52  KitchenAbvGr   1460 non-null   int64   \n",
      " 53  KitchenQual    1460 non-null   category\n",
      " 54  TotRmsAbvGrd   1460 non-null   int64   \n",
      " 55  Functional     1460 non-null   category\n",
      " 56  Fireplaces     1460 non-null   int64   \n",
      " 57  FireplaceQu    770 non-null    category\n",
      " 58  GarageType     1379 non-null   category\n",
      " 59  GarageYrBlt    1379 non-null   float64 \n",
      " 60  GarageFinish   1379 non-null   category\n",
      " 61  GarageCars     1460 non-null   int64   \n",
      " 62  GarageArea     1460 non-null   int64   \n",
      " 63  GarageQual     1379 non-null   category\n",
      " 64  GarageCond     1379 non-null   category\n",
      " 65  PavedDrive     1460 non-null   category\n",
      " 66  WoodDeckSF     1460 non-null   int64   \n",
      " 67  OpenPorchSF    1460 non-null   int64   \n",
      " 68  EnclosedPorch  1460 non-null   int64   \n",
      " 69  3SsnPorch      1460 non-null   int64   \n",
      " 70  ScreenPorch    1460 non-null   int64   \n",
      " 71  PoolArea       1460 non-null   int64   \n",
      " 72  PoolQC         7 non-null      category\n",
      " 73  Fence          281 non-null    category\n",
      " 74  MiscFeature    54 non-null     category\n",
      " 75  MiscVal        1460 non-null   int64   \n",
      " 76  MoSold         1460 non-null   int64   \n",
      " 77  YrSold         1460 non-null   int64   \n",
      " 78  SaleType       1460 non-null   category\n",
      " 79  SaleCondition  1460 non-null   category\n",
      " 80  SalePrice      1460 non-null   int64   \n",
      "dtypes: category(43), float64(3), int64(35)\n",
      "memory usage: 505.3 KB\n"
     ]
    }
   ],
   "source": [
    "df_tmp.info()"
   ]
  },
  {
   "cell_type": "code",
   "execution_count": 10,
   "metadata": {
    "execution": {
     "iopub.execute_input": "2020-10-18T18:21:51.450184Z",
     "iopub.status.busy": "2020-10-18T18:21:51.449361Z",
     "iopub.status.idle": "2020-10-18T18:21:51.453676Z",
     "shell.execute_reply": "2020-10-18T18:21:51.452927Z"
    },
    "papermill": {
     "duration": 0.09258,
     "end_time": "2020-10-18T18:21:51.453801",
     "exception": false,
     "start_time": "2020-10-18T18:21:51.361221",
     "status": "completed"
    },
    "tags": []
   },
   "outputs": [
    {
     "data": {
      "text/plain": [
       "Index(['Gar2', 'Othr', 'Shed', 'TenC'], dtype='object')"
      ]
     },
     "execution_count": 10,
     "metadata": {},
     "output_type": "execute_result"
    }
   ],
   "source": [
    "df_tmp.MiscFeature.cat.categories"
   ]
  },
  {
   "cell_type": "code",
   "execution_count": 11,
   "metadata": {
    "execution": {
     "iopub.execute_input": "2020-10-18T18:21:51.645081Z",
     "iopub.status.busy": "2020-10-18T18:21:51.643921Z",
     "iopub.status.idle": "2020-10-18T18:21:51.657503Z",
     "shell.execute_reply": "2020-10-18T18:21:51.656238Z"
    },
    "papermill": {
     "duration": 0.120144,
     "end_time": "2020-10-18T18:21:51.657708",
     "exception": false,
     "start_time": "2020-10-18T18:21:51.537564",
     "status": "completed"
    },
    "tags": []
   },
   "outputs": [
    {
     "data": {
      "text/plain": [
       "0      -1\n",
       "1      -1\n",
       "2      -1\n",
       "3      -1\n",
       "4      -1\n",
       "       ..\n",
       "1455   -1\n",
       "1456   -1\n",
       "1457    2\n",
       "1458   -1\n",
       "1459   -1\n",
       "Length: 1460, dtype: int8"
      ]
     },
     "execution_count": 11,
     "metadata": {},
     "output_type": "execute_result"
    }
   ],
   "source": [
    "df_tmp.MiscFeature.cat.codes"
   ]
  },
  {
   "cell_type": "markdown",
   "metadata": {
    "papermill": {
     "duration": 0.083069,
     "end_time": "2020-10-18T18:21:51.839300",
     "exception": false,
     "start_time": "2020-10-18T18:21:51.756231",
     "status": "completed"
    },
    "tags": []
   },
   "source": [
    "### Checking for missing values in the numeric columns"
   ]
  },
  {
   "cell_type": "code",
   "execution_count": 12,
   "metadata": {
    "execution": {
     "iopub.execute_input": "2020-10-18T18:21:52.017166Z",
     "iopub.status.busy": "2020-10-18T18:21:52.015980Z",
     "iopub.status.idle": "2020-10-18T18:21:52.029105Z",
     "shell.execute_reply": "2020-10-18T18:21:52.028150Z"
    },
    "papermill": {
     "duration": 0.107087,
     "end_time": "2020-10-18T18:21:52.029266",
     "exception": false,
     "start_time": "2020-10-18T18:21:51.922179",
     "status": "completed"
    },
    "tags": []
   },
   "outputs": [
    {
     "name": "stdout",
     "output_type": "stream",
     "text": [
      "LotFrontage\n",
      "MasVnrArea\n",
      "GarageYrBlt\n"
     ]
    }
   ],
   "source": [
    "for label,content in df_tmp.items():\n",
    "    if pd.api.types.is_numeric_dtype(content):\n",
    "        if pd.isnull(content).sum():\n",
    "            print(label)"
   ]
  },
  {
   "cell_type": "code",
   "execution_count": 13,
   "metadata": {
    "execution": {
     "iopub.execute_input": "2020-10-18T18:21:52.225157Z",
     "iopub.status.busy": "2020-10-18T18:21:52.219797Z",
     "iopub.status.idle": "2020-10-18T18:21:52.228790Z",
     "shell.execute_reply": "2020-10-18T18:21:52.228117Z"
    },
    "papermill": {
     "duration": 0.114396,
     "end_time": "2020-10-18T18:21:52.228921",
     "exception": false,
     "start_time": "2020-10-18T18:21:52.114525",
     "status": "completed"
    },
    "tags": []
   },
   "outputs": [],
   "source": [
    "# Fill the numeric columns with median as median is so robust than mean\n",
    "for label,content in df_tmp.items():\n",
    "    if pd.api.types.is_numeric_dtype(content):\n",
    "        if pd.isnull(content).sum():\n",
    "            #Adding a binary column to tell if the data was missing\n",
    "            df_tmp[label+\"_is_missing\"]=pd.isnull(content)\n",
    "            #Filling the missing values with the median\n",
    "            df_tmp[label]=content.fillna(content.median())\n",
    "            "
   ]
  },
  {
   "cell_type": "code",
   "execution_count": 14,
   "metadata": {
    "execution": {
     "iopub.execute_input": "2020-10-18T18:21:52.415949Z",
     "iopub.status.busy": "2020-10-18T18:21:52.414803Z",
     "iopub.status.idle": "2020-10-18T18:21:52.418638Z",
     "shell.execute_reply": "2020-10-18T18:21:52.417944Z"
    },
    "papermill": {
     "duration": 0.1055,
     "end_time": "2020-10-18T18:21:52.418777",
     "exception": false,
     "start_time": "2020-10-18T18:21:52.313277",
     "status": "completed"
    },
    "tags": []
   },
   "outputs": [],
   "source": [
    "for label,content in df_tmp.items():\n",
    "    if pd.api.types.is_numeric_dtype(content):\n",
    "        if pd.isnull(content).sum():\n",
    "            print(label)"
   ]
  },
  {
   "cell_type": "markdown",
   "metadata": {
    "papermill": {
     "duration": 0.086817,
     "end_time": "2020-10-18T18:21:52.591157",
     "exception": false,
     "start_time": "2020-10-18T18:21:52.504340",
     "status": "completed"
    },
    "tags": []
   },
   "source": [
    "### As the above for loop did not print any output it is clear that all the numerical columns are filled "
   ]
  },
  {
   "cell_type": "code",
   "execution_count": 15,
   "metadata": {
    "execution": {
     "iopub.execute_input": "2020-10-18T18:21:52.780439Z",
     "iopub.status.busy": "2020-10-18T18:21:52.776689Z",
     "iopub.status.idle": "2020-10-18T18:21:52.788269Z",
     "shell.execute_reply": "2020-10-18T18:21:52.789180Z"
    },
    "papermill": {
     "duration": 0.109872,
     "end_time": "2020-10-18T18:21:52.789399",
     "exception": false,
     "start_time": "2020-10-18T18:21:52.679527",
     "status": "completed"
    },
    "tags": []
   },
   "outputs": [
    {
     "name": "stdout",
     "output_type": "stream",
     "text": [
      "Alley\n",
      "MasVnrType\n",
      "BsmtQual\n",
      "BsmtCond\n",
      "BsmtExposure\n",
      "BsmtFinType1\n",
      "BsmtFinType2\n",
      "Electrical\n",
      "FireplaceQu\n",
      "GarageType\n",
      "GarageFinish\n",
      "GarageQual\n",
      "GarageCond\n",
      "PoolQC\n",
      "Fence\n",
      "MiscFeature\n"
     ]
    }
   ],
   "source": [
    "for label,content in df_tmp.items():\n",
    "    if not pd.api.types.is_numeric_dtype(content):\n",
    "        if pd.isnull(content).sum():\n",
    "            print(label)"
   ]
  },
  {
   "cell_type": "markdown",
   "metadata": {
    "papermill": {
     "duration": 0.084824,
     "end_time": "2020-10-18T18:21:52.959619",
     "exception": false,
     "start_time": "2020-10-18T18:21:52.874795",
     "status": "completed"
    },
    "tags": []
   },
   "source": [
    "### **Note:** As we saw before cat.codes has -1 values due to the missing values but our model doesn't accept negative values so cat.codes+1 will make it 0"
   ]
  },
  {
   "cell_type": "code",
   "execution_count": 16,
   "metadata": {
    "execution": {
     "iopub.execute_input": "2020-10-18T18:21:53.153408Z",
     "iopub.status.busy": "2020-10-18T18:21:53.152253Z",
     "iopub.status.idle": "2020-10-18T18:21:53.188712Z",
     "shell.execute_reply": "2020-10-18T18:21:53.188082Z"
    },
    "papermill": {
     "duration": 0.143581,
     "end_time": "2020-10-18T18:21:53.188847",
     "exception": false,
     "start_time": "2020-10-18T18:21:53.045266",
     "status": "completed"
    },
    "tags": []
   },
   "outputs": [],
   "source": [
    "\n",
    "for label,content in df_tmp.items():\n",
    "    if not pd.api.types.is_numeric_dtype(content):\n",
    "            #Adding a column to let us know what we are missing\n",
    "            df_tmp[label+\"_is_missing\"]=pd.isnull(content)\n",
    "            #Turn categories into number and add +1 to the codes\n",
    "            df_tmp[label]=pd.Categorical(content).codes+1\n",
    "            #Check the note above to understand why I'm using codes+1"
   ]
  },
  {
   "cell_type": "code",
   "execution_count": 17,
   "metadata": {
    "execution": {
     "iopub.execute_input": "2020-10-18T18:21:53.373069Z",
     "iopub.status.busy": "2020-10-18T18:21:53.372008Z",
     "iopub.status.idle": "2020-10-18T18:21:53.375468Z",
     "shell.execute_reply": "2020-10-18T18:21:53.374871Z"
    },
    "papermill": {
     "duration": 0.100168,
     "end_time": "2020-10-18T18:21:53.375602",
     "exception": false,
     "start_time": "2020-10-18T18:21:53.275434",
     "status": "completed"
    },
    "tags": []
   },
   "outputs": [],
   "source": [
    "# Checking to make sure that all the missing values in categories are filled\n",
    "for label,content in df_tmp.items():\n",
    "    if not pd.api.types.is_numeric_dtype(content):\n",
    "            if pd.isnull(content).sum():\n",
    "                print(label)"
   ]
  },
  {
   "cell_type": "code",
   "execution_count": 18,
   "metadata": {
    "execution": {
     "iopub.execute_input": "2020-10-18T18:21:53.550705Z",
     "iopub.status.busy": "2020-10-18T18:21:53.549374Z",
     "iopub.status.idle": "2020-10-18T18:21:53.555209Z",
     "shell.execute_reply": "2020-10-18T18:21:53.554533Z"
    },
    "papermill": {
     "duration": 0.095009,
     "end_time": "2020-10-18T18:21:53.555329",
     "exception": false,
     "start_time": "2020-10-18T18:21:53.460320",
     "status": "completed"
    },
    "tags": []
   },
   "outputs": [
    {
     "data": {
      "text/plain": [
       "array([0, 0, 0, ..., 3, 0, 0], dtype=int8)"
      ]
     },
     "execution_count": 18,
     "metadata": {},
     "output_type": "execute_result"
    }
   ],
   "source": [
    "# Checking the categorical codes of MiscFeature column\n",
    "pd.Categorical(df_tmp[\"MiscFeature\"]).codes"
   ]
  },
  {
   "cell_type": "code",
   "execution_count": 19,
   "metadata": {
    "execution": {
     "iopub.execute_input": "2020-10-18T18:21:53.740988Z",
     "iopub.status.busy": "2020-10-18T18:21:53.740238Z",
     "iopub.status.idle": "2020-10-18T18:21:53.749885Z",
     "shell.execute_reply": "2020-10-18T18:21:53.749170Z"
    },
    "papermill": {
     "duration": 0.108486,
     "end_time": "2020-10-18T18:21:53.750027",
     "exception": false,
     "start_time": "2020-10-18T18:21:53.641541",
     "status": "completed"
    },
    "tags": []
   },
   "outputs": [
    {
     "data": {
      "text/plain": [
       "Id                          0\n",
       "MSSubClass                  0\n",
       "MSZoning                    0\n",
       "LotFrontage                 0\n",
       "LotArea                     0\n",
       "                           ..\n",
       "PoolQC_is_missing           0\n",
       "Fence_is_missing            0\n",
       "MiscFeature_is_missing      0\n",
       "SaleType_is_missing         0\n",
       "SaleCondition_is_missing    0\n",
       "Length: 127, dtype: int64"
      ]
     },
     "execution_count": 19,
     "metadata": {},
     "output_type": "execute_result"
    }
   ],
   "source": [
    "df_tmp.isna().sum()"
   ]
  },
  {
   "cell_type": "markdown",
   "metadata": {
    "papermill": {
     "duration": 0.085871,
     "end_time": "2020-10-18T18:21:53.922204",
     "exception": false,
     "start_time": "2020-10-18T18:21:53.836333",
     "status": "completed"
    },
    "tags": []
   },
   "source": [
    "## Building the Model"
   ]
  },
  {
   "cell_type": "code",
   "execution_count": 20,
   "metadata": {
    "execution": {
     "iopub.execute_input": "2020-10-18T18:21:54.102514Z",
     "iopub.status.busy": "2020-10-18T18:21:54.101699Z",
     "iopub.status.idle": "2020-10-18T18:21:55.365827Z",
     "shell.execute_reply": "2020-10-18T18:21:55.365014Z"
    },
    "papermill": {
     "duration": 1.355468,
     "end_time": "2020-10-18T18:21:55.365985",
     "exception": false,
     "start_time": "2020-10-18T18:21:54.010517",
     "status": "completed"
    },
    "tags": []
   },
   "outputs": [],
   "source": [
    "#Building our baseline model\n",
    "from sklearn.ensemble import RandomForestRegressor\n",
    "from sklearn.model_selection import train_test_split"
   ]
  },
  {
   "cell_type": "code",
   "execution_count": 21,
   "metadata": {
    "execution": {
     "iopub.execute_input": "2020-10-18T18:21:55.551740Z",
     "iopub.status.busy": "2020-10-18T18:21:55.550671Z",
     "iopub.status.idle": "2020-10-18T18:21:55.555112Z",
     "shell.execute_reply": "2020-10-18T18:21:55.554371Z"
    },
    "papermill": {
     "duration": 0.102824,
     "end_time": "2020-10-18T18:21:55.555239",
     "exception": false,
     "start_time": "2020-10-18T18:21:55.452415",
     "status": "completed"
    },
    "tags": []
   },
   "outputs": [
    {
     "name": "stdout",
     "output_type": "stream",
     "text": [
      "<class 'pandas.core.frame.DataFrame'>\n",
      "RangeIndex: 1460 entries, 0 to 1459\n",
      "Columns: 127 entries, Id to SaleCondition_is_missing\n",
      "dtypes: bool(46), float64(3), int64(35), int8(43)\n",
      "memory usage: 560.5 KB\n"
     ]
    }
   ],
   "source": [
    "df_tmp.info()"
   ]
  },
  {
   "cell_type": "code",
   "execution_count": 22,
   "metadata": {
    "execution": {
     "iopub.execute_input": "2020-10-18T18:21:55.738141Z",
     "iopub.status.busy": "2020-10-18T18:21:55.737343Z",
     "iopub.status.idle": "2020-10-18T18:21:56.956414Z",
     "shell.execute_reply": "2020-10-18T18:21:56.955545Z"
    },
    "papermill": {
     "duration": 1.314423,
     "end_time": "2020-10-18T18:21:56.956578",
     "exception": false,
     "start_time": "2020-10-18T18:21:55.642155",
     "status": "completed"
    },
    "tags": []
   },
   "outputs": [
    {
     "name": "stdout",
     "output_type": "stream",
     "text": [
      "CPU times: user 4.18 s, sys: 42.5 ms, total: 4.23 s\n",
      "Wall time: 1.21 s\n"
     ]
    },
    {
     "data": {
      "text/plain": [
       "RandomForestRegressor(n_jobs=-1, random_state=69)"
      ]
     },
     "execution_count": 22,
     "metadata": {},
     "output_type": "execute_result"
    }
   ],
   "source": [
    "%%time\n",
    "model=RandomForestRegressor(n_jobs=-1,random_state=69)\n",
    "\n",
    "\n",
    "X=df_tmp.drop(\"SalePrice\",axis=1)\n",
    "y=df_tmp[\"SalePrice\"]\n",
    "#Fit the model\n",
    "model.fit(X,y)\n"
   ]
  },
  {
   "cell_type": "code",
   "execution_count": 23,
   "metadata": {
    "execution": {
     "iopub.execute_input": "2020-10-18T18:21:57.143745Z",
     "iopub.status.busy": "2020-10-18T18:21:57.142092Z",
     "iopub.status.idle": "2020-10-18T18:21:57.273778Z",
     "shell.execute_reply": "2020-10-18T18:21:57.274586Z"
    },
    "papermill": {
     "duration": 0.228585,
     "end_time": "2020-10-18T18:21:57.274756",
     "exception": false,
     "start_time": "2020-10-18T18:21:57.046171",
     "status": "completed"
    },
    "tags": []
   },
   "outputs": [
    {
     "data": {
      "text/plain": [
       "0.9813900625565077"
      ]
     },
     "execution_count": 23,
     "metadata": {},
     "output_type": "execute_result"
    }
   ],
   "source": [
    "model.score(X,y)"
   ]
  },
  {
   "cell_type": "markdown",
   "metadata": {
    "papermill": {
     "duration": 0.088633,
     "end_time": "2020-10-18T18:21:57.455407",
     "exception": false,
     "start_time": "2020-10-18T18:21:57.366774",
     "status": "completed"
    },
    "tags": []
   },
   "source": [
    "### Building a evaluation function (RMSE) "
   ]
  },
  {
   "cell_type": "code",
   "execution_count": 24,
   "metadata": {
    "execution": {
     "iopub.execute_input": "2020-10-18T18:21:57.691979Z",
     "iopub.status.busy": "2020-10-18T18:21:57.691203Z",
     "iopub.status.idle": "2020-10-18T18:21:57.694771Z",
     "shell.execute_reply": "2020-10-18T18:21:57.694042Z"
    },
    "papermill": {
     "duration": 0.150968,
     "end_time": "2020-10-18T18:21:57.694891",
     "exception": false,
     "start_time": "2020-10-18T18:21:57.543923",
     "status": "completed"
    },
    "tags": []
   },
   "outputs": [],
   "source": [
    "from sklearn.metrics import mean_squared_error\n",
    "def rmsle(y_true,y_preds):\n",
    "    return np.sqrt(mean_squared_error(y_true,y_preds))\n",
    "def show_scores(model,X,y):\n",
    "    y_preds=model.predict(X)\n",
    "    scores={\"Root Mean Squared Error\":rmsle(y,y_preds)}\n",
    "    return scores"
   ]
  },
  {
   "cell_type": "code",
   "execution_count": 25,
   "metadata": {
    "execution": {
     "iopub.execute_input": "2020-10-18T18:21:57.883866Z",
     "iopub.status.busy": "2020-10-18T18:21:57.882656Z",
     "iopub.status.idle": "2020-10-18T18:21:58.011699Z",
     "shell.execute_reply": "2020-10-18T18:21:58.011098Z"
    },
    "papermill": {
     "duration": 0.227885,
     "end_time": "2020-10-18T18:21:58.011829",
     "exception": false,
     "start_time": "2020-10-18T18:21:57.783944",
     "status": "completed"
    },
    "tags": []
   },
   "outputs": [
    {
     "data": {
      "text/plain": [
       "{'Root Mean Squared Error': 10833.694708763096}"
      ]
     },
     "execution_count": 25,
     "metadata": {},
     "output_type": "execute_result"
    }
   ],
   "source": [
    "show_scores(model,X,y)"
   ]
  },
  {
   "cell_type": "markdown",
   "metadata": {
    "papermill": {
     "duration": 0.090276,
     "end_time": "2020-10-18T18:21:58.193530",
     "exception": false,
     "start_time": "2020-10-18T18:21:58.103254",
     "status": "completed"
    },
    "tags": []
   },
   "source": [
    "## Hyperparameter tuning using RandomizedSearch CV"
   ]
  },
  {
   "cell_type": "code",
   "execution_count": 26,
   "metadata": {
    "execution": {
     "iopub.execute_input": "2020-10-18T18:21:58.384998Z",
     "iopub.status.busy": "2020-10-18T18:21:58.384052Z",
     "iopub.status.idle": "2020-10-18T18:22:25.015464Z",
     "shell.execute_reply": "2020-10-18T18:22:25.014636Z"
    },
    "papermill": {
     "duration": 26.731867,
     "end_time": "2020-10-18T18:22:25.015603",
     "exception": false,
     "start_time": "2020-10-18T18:21:58.283736",
     "status": "completed"
    },
    "tags": []
   },
   "outputs": [
    {
     "name": "stdout",
     "output_type": "stream",
     "text": [
      "Fitting 5 folds for each of 20 candidates, totalling 100 fits\n"
     ]
    },
    {
     "name": "stderr",
     "output_type": "stream",
     "text": [
      "[Parallel(n_jobs=1)]: Using backend SequentialBackend with 1 concurrent workers.\n",
      "[Parallel(n_jobs=1)]: Done 100 out of 100 | elapsed:   25.9s finished\n"
     ]
    },
    {
     "name": "stdout",
     "output_type": "stream",
     "text": [
      "CPU times: user 26.5 s, sys: 70.6 ms, total: 26.6 s\n",
      "Wall time: 26.6 s\n"
     ]
    },
    {
     "data": {
      "text/plain": [
       "RandomizedSearchCV(cv=5, estimator=RandomForestRegressor(), n_iter=20,\n",
       "                   param_distributions={'max_depth': [None, 3, 5, 10],\n",
       "                                        'max_features': [0.5, 1, 'sqrt',\n",
       "                                                         'auto'],\n",
       "                                        'min_samples_leaf': array([ 1,  3,  5,  7,  9, 11, 13, 15, 17, 19]),\n",
       "                                        'min_samples_split': array([ 2,  4,  6,  8, 10, 12, 14, 16, 18]),\n",
       "                                        'n_estimators': array([10, 20, 30, 40, 50, 60, 70, 80, 90])},\n",
       "                   random_state=69, verbose=True)"
      ]
     },
     "execution_count": 26,
     "metadata": {},
     "output_type": "execute_result"
    }
   ],
   "source": [
    "%%time \n",
    "\n",
    "from sklearn.model_selection import RandomizedSearchCV\n",
    "# Tuning the hyper parameters of the model\n",
    "rs_grid={\n",
    "    \"n_estimators\":np.arange(10,100,10),\n",
    "    \"max_depth\":[None,3,5,10],\n",
    "    \"min_samples_split\":np.arange(2,20,2),\n",
    "    \"min_samples_leaf\":np.arange(1,20,2),\n",
    "    \"max_features\":[0.5,1,\"sqrt\",\"auto\"]\n",
    "}\n",
    "\n",
    "rs_model=RandomizedSearchCV(RandomForestRegressor(),param_distributions=rs_grid,n_iter=20,cv=5,verbose=True,random_state=69)\n",
    "\n",
    "rs_model.fit(X,y)"
   ]
  },
  {
   "cell_type": "code",
   "execution_count": 27,
   "metadata": {
    "execution": {
     "iopub.execute_input": "2020-10-18T18:22:25.208469Z",
     "iopub.status.busy": "2020-10-18T18:22:25.207339Z",
     "iopub.status.idle": "2020-10-18T18:22:25.211363Z",
     "shell.execute_reply": "2020-10-18T18:22:25.211895Z"
    },
    "papermill": {
     "duration": 0.102999,
     "end_time": "2020-10-18T18:22:25.212084",
     "exception": false,
     "start_time": "2020-10-18T18:22:25.109085",
     "status": "completed"
    },
    "tags": []
   },
   "outputs": [
    {
     "data": {
      "text/plain": [
       "{'n_estimators': 60,\n",
       " 'min_samples_split': 8,\n",
       " 'min_samples_leaf': 1,\n",
       " 'max_features': 0.5,\n",
       " 'max_depth': 10}"
      ]
     },
     "execution_count": 27,
     "metadata": {},
     "output_type": "execute_result"
    }
   ],
   "source": [
    "rs_model.best_params_"
   ]
  },
  {
   "cell_type": "markdown",
   "metadata": {
    "papermill": {
     "duration": 0.093187,
     "end_time": "2020-10-18T18:22:25.398683",
     "exception": false,
     "start_time": "2020-10-18T18:22:25.305496",
     "status": "completed"
    },
    "tags": []
   },
   "source": [
    "### Training the model with the best parameters"
   ]
  },
  {
   "cell_type": "code",
   "execution_count": 28,
   "metadata": {
    "execution": {
     "iopub.execute_input": "2020-10-18T18:22:25.591383Z",
     "iopub.status.busy": "2020-10-18T18:22:25.590293Z",
     "iopub.status.idle": "2020-10-18T18:22:25.593907Z",
     "shell.execute_reply": "2020-10-18T18:22:25.593335Z"
    },
    "papermill": {
     "duration": 0.102032,
     "end_time": "2020-10-18T18:22:25.594060",
     "exception": false,
     "start_time": "2020-10-18T18:22:25.492028",
     "status": "completed"
    },
    "tags": []
   },
   "outputs": [],
   "source": [
    "ideal_model=RandomForestRegressor(n_estimators=60,min_samples_split=8,min_samples_leaf=1,max_features=0.5,max_depth=10,n_jobs=-1,random_state=69)"
   ]
  },
  {
   "cell_type": "code",
   "execution_count": 29,
   "metadata": {
    "execution": {
     "iopub.execute_input": "2020-10-18T18:22:25.790221Z",
     "iopub.status.busy": "2020-10-18T18:22:25.788591Z",
     "iopub.status.idle": "2020-10-18T18:22:26.161190Z",
     "shell.execute_reply": "2020-10-18T18:22:26.161761Z"
    },
    "papermill": {
     "duration": 0.474267,
     "end_time": "2020-10-18T18:22:26.161935",
     "exception": false,
     "start_time": "2020-10-18T18:22:25.687668",
     "status": "completed"
    },
    "tags": []
   },
   "outputs": [
    {
     "data": {
      "text/plain": [
       "RandomForestRegressor(max_depth=10, max_features=0.5, min_samples_split=8,\n",
       "                      n_estimators=60, n_jobs=-1, random_state=69)"
      ]
     },
     "execution_count": 29,
     "metadata": {},
     "output_type": "execute_result"
    }
   ],
   "source": [
    "ideal_model.fit(X,y)"
   ]
  },
  {
   "cell_type": "code",
   "execution_count": 30,
   "metadata": {
    "execution": {
     "iopub.execute_input": "2020-10-18T18:22:26.355227Z",
     "iopub.status.busy": "2020-10-18T18:22:26.354163Z",
     "iopub.status.idle": "2020-10-18T18:22:26.359432Z",
     "shell.execute_reply": "2020-10-18T18:22:26.358686Z"
    },
    "papermill": {
     "duration": 0.104072,
     "end_time": "2020-10-18T18:22:26.359562",
     "exception": false,
     "start_time": "2020-10-18T18:22:26.255490",
     "status": "completed"
    },
    "tags": []
   },
   "outputs": [
    {
     "data": {
      "text/plain": [
       "(1460, 126)"
      ]
     },
     "execution_count": 30,
     "metadata": {},
     "output_type": "execute_result"
    }
   ],
   "source": [
    "X.shape"
   ]
  },
  {
   "cell_type": "markdown",
   "metadata": {
    "papermill": {
     "duration": 0.093651,
     "end_time": "2020-10-18T18:22:26.547520",
     "exception": false,
     "start_time": "2020-10-18T18:22:26.453869",
     "status": "completed"
    },
    "tags": []
   },
   "source": [
    "### Creating a dataframe for the testdata"
   ]
  },
  {
   "cell_type": "code",
   "execution_count": 31,
   "metadata": {
    "execution": {
     "iopub.execute_input": "2020-10-18T18:22:26.749561Z",
     "iopub.status.busy": "2020-10-18T18:22:26.748703Z",
     "iopub.status.idle": "2020-10-18T18:22:26.822285Z",
     "shell.execute_reply": "2020-10-18T18:22:26.821506Z"
    },
    "papermill": {
     "duration": 0.180747,
     "end_time": "2020-10-18T18:22:26.822414",
     "exception": false,
     "start_time": "2020-10-18T18:22:26.641667",
     "status": "completed"
    },
    "tags": []
   },
   "outputs": [
    {
     "data": {
      "text/html": [
       "<div>\n",
       "<style scoped>\n",
       "    .dataframe tbody tr th:only-of-type {\n",
       "        vertical-align: middle;\n",
       "    }\n",
       "\n",
       "    .dataframe tbody tr th {\n",
       "        vertical-align: top;\n",
       "    }\n",
       "\n",
       "    .dataframe thead th {\n",
       "        text-align: right;\n",
       "    }\n",
       "</style>\n",
       "<table border=\"1\" class=\"dataframe\">\n",
       "  <thead>\n",
       "    <tr style=\"text-align: right;\">\n",
       "      <th></th>\n",
       "      <th>Id</th>\n",
       "      <th>MSSubClass</th>\n",
       "      <th>MSZoning</th>\n",
       "      <th>LotFrontage</th>\n",
       "      <th>LotArea</th>\n",
       "      <th>Street</th>\n",
       "      <th>Alley</th>\n",
       "      <th>LotShape</th>\n",
       "      <th>LandContour</th>\n",
       "      <th>Utilities</th>\n",
       "      <th>...</th>\n",
       "      <th>ScreenPorch</th>\n",
       "      <th>PoolArea</th>\n",
       "      <th>PoolQC</th>\n",
       "      <th>Fence</th>\n",
       "      <th>MiscFeature</th>\n",
       "      <th>MiscVal</th>\n",
       "      <th>MoSold</th>\n",
       "      <th>YrSold</th>\n",
       "      <th>SaleType</th>\n",
       "      <th>SaleCondition</th>\n",
       "    </tr>\n",
       "  </thead>\n",
       "  <tbody>\n",
       "    <tr>\n",
       "      <th>0</th>\n",
       "      <td>1461</td>\n",
       "      <td>20</td>\n",
       "      <td>RH</td>\n",
       "      <td>80.0</td>\n",
       "      <td>11622</td>\n",
       "      <td>Pave</td>\n",
       "      <td>NaN</td>\n",
       "      <td>Reg</td>\n",
       "      <td>Lvl</td>\n",
       "      <td>AllPub</td>\n",
       "      <td>...</td>\n",
       "      <td>120</td>\n",
       "      <td>0</td>\n",
       "      <td>NaN</td>\n",
       "      <td>MnPrv</td>\n",
       "      <td>NaN</td>\n",
       "      <td>0</td>\n",
       "      <td>6</td>\n",
       "      <td>2010</td>\n",
       "      <td>WD</td>\n",
       "      <td>Normal</td>\n",
       "    </tr>\n",
       "    <tr>\n",
       "      <th>1</th>\n",
       "      <td>1462</td>\n",
       "      <td>20</td>\n",
       "      <td>RL</td>\n",
       "      <td>81.0</td>\n",
       "      <td>14267</td>\n",
       "      <td>Pave</td>\n",
       "      <td>NaN</td>\n",
       "      <td>IR1</td>\n",
       "      <td>Lvl</td>\n",
       "      <td>AllPub</td>\n",
       "      <td>...</td>\n",
       "      <td>0</td>\n",
       "      <td>0</td>\n",
       "      <td>NaN</td>\n",
       "      <td>NaN</td>\n",
       "      <td>Gar2</td>\n",
       "      <td>12500</td>\n",
       "      <td>6</td>\n",
       "      <td>2010</td>\n",
       "      <td>WD</td>\n",
       "      <td>Normal</td>\n",
       "    </tr>\n",
       "    <tr>\n",
       "      <th>2</th>\n",
       "      <td>1463</td>\n",
       "      <td>60</td>\n",
       "      <td>RL</td>\n",
       "      <td>74.0</td>\n",
       "      <td>13830</td>\n",
       "      <td>Pave</td>\n",
       "      <td>NaN</td>\n",
       "      <td>IR1</td>\n",
       "      <td>Lvl</td>\n",
       "      <td>AllPub</td>\n",
       "      <td>...</td>\n",
       "      <td>0</td>\n",
       "      <td>0</td>\n",
       "      <td>NaN</td>\n",
       "      <td>MnPrv</td>\n",
       "      <td>NaN</td>\n",
       "      <td>0</td>\n",
       "      <td>3</td>\n",
       "      <td>2010</td>\n",
       "      <td>WD</td>\n",
       "      <td>Normal</td>\n",
       "    </tr>\n",
       "    <tr>\n",
       "      <th>3</th>\n",
       "      <td>1464</td>\n",
       "      <td>60</td>\n",
       "      <td>RL</td>\n",
       "      <td>78.0</td>\n",
       "      <td>9978</td>\n",
       "      <td>Pave</td>\n",
       "      <td>NaN</td>\n",
       "      <td>IR1</td>\n",
       "      <td>Lvl</td>\n",
       "      <td>AllPub</td>\n",
       "      <td>...</td>\n",
       "      <td>0</td>\n",
       "      <td>0</td>\n",
       "      <td>NaN</td>\n",
       "      <td>NaN</td>\n",
       "      <td>NaN</td>\n",
       "      <td>0</td>\n",
       "      <td>6</td>\n",
       "      <td>2010</td>\n",
       "      <td>WD</td>\n",
       "      <td>Normal</td>\n",
       "    </tr>\n",
       "    <tr>\n",
       "      <th>4</th>\n",
       "      <td>1465</td>\n",
       "      <td>120</td>\n",
       "      <td>RL</td>\n",
       "      <td>43.0</td>\n",
       "      <td>5005</td>\n",
       "      <td>Pave</td>\n",
       "      <td>NaN</td>\n",
       "      <td>IR1</td>\n",
       "      <td>HLS</td>\n",
       "      <td>AllPub</td>\n",
       "      <td>...</td>\n",
       "      <td>144</td>\n",
       "      <td>0</td>\n",
       "      <td>NaN</td>\n",
       "      <td>NaN</td>\n",
       "      <td>NaN</td>\n",
       "      <td>0</td>\n",
       "      <td>1</td>\n",
       "      <td>2010</td>\n",
       "      <td>WD</td>\n",
       "      <td>Normal</td>\n",
       "    </tr>\n",
       "    <tr>\n",
       "      <th>...</th>\n",
       "      <td>...</td>\n",
       "      <td>...</td>\n",
       "      <td>...</td>\n",
       "      <td>...</td>\n",
       "      <td>...</td>\n",
       "      <td>...</td>\n",
       "      <td>...</td>\n",
       "      <td>...</td>\n",
       "      <td>...</td>\n",
       "      <td>...</td>\n",
       "      <td>...</td>\n",
       "      <td>...</td>\n",
       "      <td>...</td>\n",
       "      <td>...</td>\n",
       "      <td>...</td>\n",
       "      <td>...</td>\n",
       "      <td>...</td>\n",
       "      <td>...</td>\n",
       "      <td>...</td>\n",
       "      <td>...</td>\n",
       "      <td>...</td>\n",
       "    </tr>\n",
       "    <tr>\n",
       "      <th>1454</th>\n",
       "      <td>2915</td>\n",
       "      <td>160</td>\n",
       "      <td>RM</td>\n",
       "      <td>21.0</td>\n",
       "      <td>1936</td>\n",
       "      <td>Pave</td>\n",
       "      <td>NaN</td>\n",
       "      <td>Reg</td>\n",
       "      <td>Lvl</td>\n",
       "      <td>AllPub</td>\n",
       "      <td>...</td>\n",
       "      <td>0</td>\n",
       "      <td>0</td>\n",
       "      <td>NaN</td>\n",
       "      <td>NaN</td>\n",
       "      <td>NaN</td>\n",
       "      <td>0</td>\n",
       "      <td>6</td>\n",
       "      <td>2006</td>\n",
       "      <td>WD</td>\n",
       "      <td>Normal</td>\n",
       "    </tr>\n",
       "    <tr>\n",
       "      <th>1455</th>\n",
       "      <td>2916</td>\n",
       "      <td>160</td>\n",
       "      <td>RM</td>\n",
       "      <td>21.0</td>\n",
       "      <td>1894</td>\n",
       "      <td>Pave</td>\n",
       "      <td>NaN</td>\n",
       "      <td>Reg</td>\n",
       "      <td>Lvl</td>\n",
       "      <td>AllPub</td>\n",
       "      <td>...</td>\n",
       "      <td>0</td>\n",
       "      <td>0</td>\n",
       "      <td>NaN</td>\n",
       "      <td>NaN</td>\n",
       "      <td>NaN</td>\n",
       "      <td>0</td>\n",
       "      <td>4</td>\n",
       "      <td>2006</td>\n",
       "      <td>WD</td>\n",
       "      <td>Abnorml</td>\n",
       "    </tr>\n",
       "    <tr>\n",
       "      <th>1456</th>\n",
       "      <td>2917</td>\n",
       "      <td>20</td>\n",
       "      <td>RL</td>\n",
       "      <td>160.0</td>\n",
       "      <td>20000</td>\n",
       "      <td>Pave</td>\n",
       "      <td>NaN</td>\n",
       "      <td>Reg</td>\n",
       "      <td>Lvl</td>\n",
       "      <td>AllPub</td>\n",
       "      <td>...</td>\n",
       "      <td>0</td>\n",
       "      <td>0</td>\n",
       "      <td>NaN</td>\n",
       "      <td>NaN</td>\n",
       "      <td>NaN</td>\n",
       "      <td>0</td>\n",
       "      <td>9</td>\n",
       "      <td>2006</td>\n",
       "      <td>WD</td>\n",
       "      <td>Abnorml</td>\n",
       "    </tr>\n",
       "    <tr>\n",
       "      <th>1457</th>\n",
       "      <td>2918</td>\n",
       "      <td>85</td>\n",
       "      <td>RL</td>\n",
       "      <td>62.0</td>\n",
       "      <td>10441</td>\n",
       "      <td>Pave</td>\n",
       "      <td>NaN</td>\n",
       "      <td>Reg</td>\n",
       "      <td>Lvl</td>\n",
       "      <td>AllPub</td>\n",
       "      <td>...</td>\n",
       "      <td>0</td>\n",
       "      <td>0</td>\n",
       "      <td>NaN</td>\n",
       "      <td>MnPrv</td>\n",
       "      <td>Shed</td>\n",
       "      <td>700</td>\n",
       "      <td>7</td>\n",
       "      <td>2006</td>\n",
       "      <td>WD</td>\n",
       "      <td>Normal</td>\n",
       "    </tr>\n",
       "    <tr>\n",
       "      <th>1458</th>\n",
       "      <td>2919</td>\n",
       "      <td>60</td>\n",
       "      <td>RL</td>\n",
       "      <td>74.0</td>\n",
       "      <td>9627</td>\n",
       "      <td>Pave</td>\n",
       "      <td>NaN</td>\n",
       "      <td>Reg</td>\n",
       "      <td>Lvl</td>\n",
       "      <td>AllPub</td>\n",
       "      <td>...</td>\n",
       "      <td>0</td>\n",
       "      <td>0</td>\n",
       "      <td>NaN</td>\n",
       "      <td>NaN</td>\n",
       "      <td>NaN</td>\n",
       "      <td>0</td>\n",
       "      <td>11</td>\n",
       "      <td>2006</td>\n",
       "      <td>WD</td>\n",
       "      <td>Normal</td>\n",
       "    </tr>\n",
       "  </tbody>\n",
       "</table>\n",
       "<p>1459 rows × 80 columns</p>\n",
       "</div>"
      ],
      "text/plain": [
       "        Id  MSSubClass MSZoning  LotFrontage  LotArea Street Alley LotShape  \\\n",
       "0     1461          20       RH         80.0    11622   Pave   NaN      Reg   \n",
       "1     1462          20       RL         81.0    14267   Pave   NaN      IR1   \n",
       "2     1463          60       RL         74.0    13830   Pave   NaN      IR1   \n",
       "3     1464          60       RL         78.0     9978   Pave   NaN      IR1   \n",
       "4     1465         120       RL         43.0     5005   Pave   NaN      IR1   \n",
       "...    ...         ...      ...          ...      ...    ...   ...      ...   \n",
       "1454  2915         160       RM         21.0     1936   Pave   NaN      Reg   \n",
       "1455  2916         160       RM         21.0     1894   Pave   NaN      Reg   \n",
       "1456  2917          20       RL        160.0    20000   Pave   NaN      Reg   \n",
       "1457  2918          85       RL         62.0    10441   Pave   NaN      Reg   \n",
       "1458  2919          60       RL         74.0     9627   Pave   NaN      Reg   \n",
       "\n",
       "     LandContour Utilities  ... ScreenPorch PoolArea PoolQC  Fence  \\\n",
       "0            Lvl    AllPub  ...         120        0    NaN  MnPrv   \n",
       "1            Lvl    AllPub  ...           0        0    NaN    NaN   \n",
       "2            Lvl    AllPub  ...           0        0    NaN  MnPrv   \n",
       "3            Lvl    AllPub  ...           0        0    NaN    NaN   \n",
       "4            HLS    AllPub  ...         144        0    NaN    NaN   \n",
       "...          ...       ...  ...         ...      ...    ...    ...   \n",
       "1454         Lvl    AllPub  ...           0        0    NaN    NaN   \n",
       "1455         Lvl    AllPub  ...           0        0    NaN    NaN   \n",
       "1456         Lvl    AllPub  ...           0        0    NaN    NaN   \n",
       "1457         Lvl    AllPub  ...           0        0    NaN  MnPrv   \n",
       "1458         Lvl    AllPub  ...           0        0    NaN    NaN   \n",
       "\n",
       "     MiscFeature MiscVal MoSold  YrSold  SaleType  SaleCondition  \n",
       "0            NaN       0      6    2010        WD         Normal  \n",
       "1           Gar2   12500      6    2010        WD         Normal  \n",
       "2            NaN       0      3    2010        WD         Normal  \n",
       "3            NaN       0      6    2010        WD         Normal  \n",
       "4            NaN       0      1    2010        WD         Normal  \n",
       "...          ...     ...    ...     ...       ...            ...  \n",
       "1454         NaN       0      6    2006        WD         Normal  \n",
       "1455         NaN       0      4    2006        WD        Abnorml  \n",
       "1456         NaN       0      9    2006        WD        Abnorml  \n",
       "1457        Shed     700      7    2006        WD         Normal  \n",
       "1458         NaN       0     11    2006        WD         Normal  \n",
       "\n",
       "[1459 rows x 80 columns]"
      ]
     },
     "execution_count": 31,
     "metadata": {},
     "output_type": "execute_result"
    }
   ],
   "source": [
    "test_df=pd.read_csv(\"../input/dean-de-cock-house-prices/test.csv\")\n",
    "test_df"
   ]
  },
  {
   "cell_type": "code",
   "execution_count": 32,
   "metadata": {
    "execution": {
     "iopub.execute_input": "2020-10-18T18:22:27.020374Z",
     "iopub.status.busy": "2020-10-18T18:22:27.019339Z",
     "iopub.status.idle": "2020-10-18T18:22:27.023783Z",
     "shell.execute_reply": "2020-10-18T18:22:27.023098Z"
    },
    "papermill": {
     "duration": 0.105834,
     "end_time": "2020-10-18T18:22:27.023908",
     "exception": false,
     "start_time": "2020-10-18T18:22:26.918074",
     "status": "completed"
    },
    "tags": []
   },
   "outputs": [
    {
     "data": {
      "text/plain": [
       "(1459, 80)"
      ]
     },
     "execution_count": 32,
     "metadata": {},
     "output_type": "execute_result"
    }
   ],
   "source": [
    "test_df.shape"
   ]
  },
  {
   "cell_type": "markdown",
   "metadata": {
    "papermill": {
     "duration": 0.095975,
     "end_time": "2020-10-18T18:22:27.216632",
     "exception": false,
     "start_time": "2020-10-18T18:22:27.120657",
     "status": "completed"
    },
    "tags": []
   },
   "source": [
    "### Preprocessing the dataframe in the same format as training data"
   ]
  },
  {
   "cell_type": "code",
   "execution_count": 33,
   "metadata": {
    "execution": {
     "iopub.execute_input": "2020-10-18T18:22:27.426875Z",
     "iopub.status.busy": "2020-10-18T18:22:27.425743Z",
     "iopub.status.idle": "2020-10-18T18:22:27.432796Z",
     "shell.execute_reply": "2020-10-18T18:22:27.432190Z"
    },
    "papermill": {
     "duration": 0.120854,
     "end_time": "2020-10-18T18:22:27.432923",
     "exception": false,
     "start_time": "2020-10-18T18:22:27.312069",
     "status": "completed"
    },
    "tags": []
   },
   "outputs": [
    {
     "name": "stdout",
     "output_type": "stream",
     "text": [
      "LotFrontage\n",
      "MasVnrArea\n",
      "BsmtFinSF1\n",
      "BsmtFinSF2\n",
      "BsmtUnfSF\n",
      "TotalBsmtSF\n",
      "BsmtFullBath\n",
      "BsmtHalfBath\n",
      "GarageYrBlt\n",
      "GarageCars\n",
      "GarageArea\n"
     ]
    }
   ],
   "source": [
    "# Checking for the missing numeric features\n",
    "for label,content in test_df.items():\n",
    "    if pd.api.types.is_numeric_dtype(content):\n",
    "        if pd.isnull(content).sum():\n",
    "            print(label)"
   ]
  },
  {
   "cell_type": "code",
   "execution_count": 34,
   "metadata": {
    "execution": {
     "iopub.execute_input": "2020-10-18T18:22:27.639682Z",
     "iopub.status.busy": "2020-10-18T18:22:27.638891Z",
     "iopub.status.idle": "2020-10-18T18:22:27.654830Z",
     "shell.execute_reply": "2020-10-18T18:22:27.653843Z"
    },
    "papermill": {
     "duration": 0.125776,
     "end_time": "2020-10-18T18:22:27.655011",
     "exception": false,
     "start_time": "2020-10-18T18:22:27.529235",
     "status": "completed"
    },
    "tags": []
   },
   "outputs": [
    {
     "name": "stdout",
     "output_type": "stream",
     "text": [
      "<class 'pandas.core.frame.DataFrame'>\n",
      "RangeIndex: 1459 entries, 0 to 1458\n",
      "Data columns (total 80 columns):\n",
      " #   Column         Non-Null Count  Dtype  \n",
      "---  ------         --------------  -----  \n",
      " 0   Id             1459 non-null   int64  \n",
      " 1   MSSubClass     1459 non-null   int64  \n",
      " 2   MSZoning       1455 non-null   object \n",
      " 3   LotFrontage    1232 non-null   float64\n",
      " 4   LotArea        1459 non-null   int64  \n",
      " 5   Street         1459 non-null   object \n",
      " 6   Alley          107 non-null    object \n",
      " 7   LotShape       1459 non-null   object \n",
      " 8   LandContour    1459 non-null   object \n",
      " 9   Utilities      1457 non-null   object \n",
      " 10  LotConfig      1459 non-null   object \n",
      " 11  LandSlope      1459 non-null   object \n",
      " 12  Neighborhood   1459 non-null   object \n",
      " 13  Condition1     1459 non-null   object \n",
      " 14  Condition2     1459 non-null   object \n",
      " 15  BldgType       1459 non-null   object \n",
      " 16  HouseStyle     1459 non-null   object \n",
      " 17  OverallQual    1459 non-null   int64  \n",
      " 18  OverallCond    1459 non-null   int64  \n",
      " 19  YearBuilt      1459 non-null   int64  \n",
      " 20  YearRemodAdd   1459 non-null   int64  \n",
      " 21  RoofStyle      1459 non-null   object \n",
      " 22  RoofMatl       1459 non-null   object \n",
      " 23  Exterior1st    1458 non-null   object \n",
      " 24  Exterior2nd    1458 non-null   object \n",
      " 25  MasVnrType     1443 non-null   object \n",
      " 26  MasVnrArea     1444 non-null   float64\n",
      " 27  ExterQual      1459 non-null   object \n",
      " 28  ExterCond      1459 non-null   object \n",
      " 29  Foundation     1459 non-null   object \n",
      " 30  BsmtQual       1415 non-null   object \n",
      " 31  BsmtCond       1414 non-null   object \n",
      " 32  BsmtExposure   1415 non-null   object \n",
      " 33  BsmtFinType1   1417 non-null   object \n",
      " 34  BsmtFinSF1     1458 non-null   float64\n",
      " 35  BsmtFinType2   1417 non-null   object \n",
      " 36  BsmtFinSF2     1458 non-null   float64\n",
      " 37  BsmtUnfSF      1458 non-null   float64\n",
      " 38  TotalBsmtSF    1458 non-null   float64\n",
      " 39  Heating        1459 non-null   object \n",
      " 40  HeatingQC      1459 non-null   object \n",
      " 41  CentralAir     1459 non-null   object \n",
      " 42  Electrical     1459 non-null   object \n",
      " 43  1stFlrSF       1459 non-null   int64  \n",
      " 44  2ndFlrSF       1459 non-null   int64  \n",
      " 45  LowQualFinSF   1459 non-null   int64  \n",
      " 46  GrLivArea      1459 non-null   int64  \n",
      " 47  BsmtFullBath   1457 non-null   float64\n",
      " 48  BsmtHalfBath   1457 non-null   float64\n",
      " 49  FullBath       1459 non-null   int64  \n",
      " 50  HalfBath       1459 non-null   int64  \n",
      " 51  BedroomAbvGr   1459 non-null   int64  \n",
      " 52  KitchenAbvGr   1459 non-null   int64  \n",
      " 53  KitchenQual    1458 non-null   object \n",
      " 54  TotRmsAbvGrd   1459 non-null   int64  \n",
      " 55  Functional     1457 non-null   object \n",
      " 56  Fireplaces     1459 non-null   int64  \n",
      " 57  FireplaceQu    729 non-null    object \n",
      " 58  GarageType     1383 non-null   object \n",
      " 59  GarageYrBlt    1381 non-null   float64\n",
      " 60  GarageFinish   1381 non-null   object \n",
      " 61  GarageCars     1458 non-null   float64\n",
      " 62  GarageArea     1458 non-null   float64\n",
      " 63  GarageQual     1381 non-null   object \n",
      " 64  GarageCond     1381 non-null   object \n",
      " 65  PavedDrive     1459 non-null   object \n",
      " 66  WoodDeckSF     1459 non-null   int64  \n",
      " 67  OpenPorchSF    1459 non-null   int64  \n",
      " 68  EnclosedPorch  1459 non-null   int64  \n",
      " 69  3SsnPorch      1459 non-null   int64  \n",
      " 70  ScreenPorch    1459 non-null   int64  \n",
      " 71  PoolArea       1459 non-null   int64  \n",
      " 72  PoolQC         3 non-null      object \n",
      " 73  Fence          290 non-null    object \n",
      " 74  MiscFeature    51 non-null     object \n",
      " 75  MiscVal        1459 non-null   int64  \n",
      " 76  MoSold         1459 non-null   int64  \n",
      " 77  YrSold         1459 non-null   int64  \n",
      " 78  SaleType       1458 non-null   object \n",
      " 79  SaleCondition  1459 non-null   object \n",
      "dtypes: float64(11), int64(26), object(43)\n",
      "memory usage: 912.0+ KB\n"
     ]
    }
   ],
   "source": [
    "test_df.info()"
   ]
  },
  {
   "cell_type": "code",
   "execution_count": 35,
   "metadata": {
    "execution": {
     "iopub.execute_input": "2020-10-18T18:22:27.868023Z",
     "iopub.status.busy": "2020-10-18T18:22:27.866267Z",
     "iopub.status.idle": "2020-10-18T18:22:27.882739Z",
     "shell.execute_reply": "2020-10-18T18:22:27.881823Z"
    },
    "papermill": {
     "duration": 0.129147,
     "end_time": "2020-10-18T18:22:27.882911",
     "exception": false,
     "start_time": "2020-10-18T18:22:27.753764",
     "status": "completed"
    },
    "tags": []
   },
   "outputs": [
    {
     "name": "stdout",
     "output_type": "stream",
     "text": [
      "MSZoning\n",
      "Alley\n",
      "Utilities\n",
      "Exterior1st\n",
      "Exterior2nd\n",
      "MasVnrType\n",
      "BsmtQual\n",
      "BsmtCond\n",
      "BsmtExposure\n",
      "BsmtFinType1\n",
      "BsmtFinType2\n",
      "KitchenQual\n",
      "Functional\n",
      "FireplaceQu\n",
      "GarageType\n",
      "GarageFinish\n",
      "GarageQual\n",
      "GarageCond\n",
      "PoolQC\n",
      "Fence\n",
      "MiscFeature\n",
      "SaleType\n"
     ]
    }
   ],
   "source": [
    "#Checking for the non numeric features\n",
    "for label,content in test_df.items():\n",
    "    if not pd.api.types.is_numeric_dtype(content):\n",
    "        if pd.isnull(content).sum():\n",
    "            print(label)"
   ]
  },
  {
   "cell_type": "code",
   "execution_count": 36,
   "metadata": {
    "execution": {
     "iopub.execute_input": "2020-10-18T18:22:28.092262Z",
     "iopub.status.busy": "2020-10-18T18:22:28.090935Z",
     "iopub.status.idle": "2020-10-18T18:22:28.116251Z",
     "shell.execute_reply": "2020-10-18T18:22:28.115615Z"
    },
    "papermill": {
     "duration": 0.134234,
     "end_time": "2020-10-18T18:22:28.116392",
     "exception": false,
     "start_time": "2020-10-18T18:22:27.982158",
     "status": "completed"
    },
    "tags": []
   },
   "outputs": [],
   "source": [
    "# Filling the numeric feature with median\n",
    "for label,content in test_df.items():\n",
    "    if pd.api.types.is_numeric_dtype(content):\n",
    "        if pd.isnull(content).sum():\n",
    "            #Add a binary column to know which row is missing\n",
    "            test_df[label+\"_is_missing\"]=pd.isnull(content)\n",
    "            #Filling the missing content with median\n",
    "            test_df[label]=content.fillna(content.median())"
   ]
  },
  {
   "cell_type": "code",
   "execution_count": 37,
   "metadata": {
    "execution": {
     "iopub.execute_input": "2020-10-18T18:22:28.322695Z",
     "iopub.status.busy": "2020-10-18T18:22:28.321837Z",
     "iopub.status.idle": "2020-10-18T18:22:28.324821Z",
     "shell.execute_reply": "2020-10-18T18:22:28.324108Z"
    },
    "papermill": {
     "duration": 0.109772,
     "end_time": "2020-10-18T18:22:28.324973",
     "exception": false,
     "start_time": "2020-10-18T18:22:28.215201",
     "status": "completed"
    },
    "tags": []
   },
   "outputs": [],
   "source": [
    "for label,items in test_df.items():\n",
    "    if pd.api.types.is_numeric_dtype(content):\n",
    "        if pd.isnull(content):\n",
    "            print(label)\n",
    "            "
   ]
  },
  {
   "cell_type": "code",
   "execution_count": 38,
   "metadata": {
    "execution": {
     "iopub.execute_input": "2020-10-18T18:22:28.540470Z",
     "iopub.status.busy": "2020-10-18T18:22:28.537447Z",
     "iopub.status.idle": "2020-10-18T18:22:28.621978Z",
     "shell.execute_reply": "2020-10-18T18:22:28.621306Z"
    },
    "papermill": {
     "duration": 0.199227,
     "end_time": "2020-10-18T18:22:28.622119",
     "exception": false,
     "start_time": "2020-10-18T18:22:28.422892",
     "status": "completed"
    },
    "tags": []
   },
   "outputs": [],
   "source": [
    "#Convert the non numeric features into pandas categorical features\n",
    "for label,content in test_df.items():\n",
    "    if not pd.api.types.is_numeric_dtype(content):\n",
    "        test_df[label+\"_is_missing\"]=pd.isnull(content)\n",
    "        test_df[label]=pd.Categorical(content).codes+1"
   ]
  },
  {
   "cell_type": "code",
   "execution_count": 39,
   "metadata": {
    "execution": {
     "iopub.execute_input": "2020-10-18T18:22:28.831101Z",
     "iopub.status.busy": "2020-10-18T18:22:28.830276Z",
     "iopub.status.idle": "2020-10-18T18:22:28.833288Z",
     "shell.execute_reply": "2020-10-18T18:22:28.833817Z"
    },
    "papermill": {
     "duration": 0.113261,
     "end_time": "2020-10-18T18:22:28.834036",
     "exception": false,
     "start_time": "2020-10-18T18:22:28.720775",
     "status": "completed"
    },
    "tags": []
   },
   "outputs": [],
   "source": [
    "for label,content in test_df.items():\n",
    "    if not pd.api.types.is_numeric_dtype(content):\n",
    "        if pd.isnull(content).sum():\n",
    "            print(label)"
   ]
  },
  {
   "cell_type": "code",
   "execution_count": 40,
   "metadata": {
    "execution": {
     "iopub.execute_input": "2020-10-18T18:22:29.038517Z",
     "iopub.status.busy": "2020-10-18T18:22:29.037375Z",
     "iopub.status.idle": "2020-10-18T18:22:29.041721Z",
     "shell.execute_reply": "2020-10-18T18:22:29.041148Z"
    },
    "papermill": {
     "duration": 0.109096,
     "end_time": "2020-10-18T18:22:29.041853",
     "exception": false,
     "start_time": "2020-10-18T18:22:28.932757",
     "status": "completed"
    },
    "tags": []
   },
   "outputs": [
    {
     "data": {
      "text/plain": [
       "(1459, 134)"
      ]
     },
     "execution_count": 40,
     "metadata": {},
     "output_type": "execute_result"
    }
   ],
   "source": [
    "test_df.shape"
   ]
  },
  {
   "cell_type": "markdown",
   "metadata": {
    "papermill": {
     "duration": 0.098971,
     "end_time": "2020-10-18T18:22:29.241265",
     "exception": false,
     "start_time": "2020-10-18T18:22:29.142294",
     "status": "completed"
    },
    "tags": []
   },
   "source": [
    "### Sometimes the training dataframe doesn't have the same attributes like the test dataframe so checking if there are any"
   ]
  },
  {
   "cell_type": "code",
   "execution_count": 41,
   "metadata": {
    "execution": {
     "iopub.execute_input": "2020-10-18T18:22:29.445911Z",
     "iopub.status.busy": "2020-10-18T18:22:29.444949Z",
     "iopub.status.idle": "2020-10-18T18:22:29.447538Z",
     "shell.execute_reply": "2020-10-18T18:22:29.448078Z"
    },
    "papermill": {
     "duration": 0.107844,
     "end_time": "2020-10-18T18:22:29.448241",
     "exception": false,
     "start_time": "2020-10-18T18:22:29.340397",
     "status": "completed"
    },
    "tags": []
   },
   "outputs": [],
   "source": [
    "missing=set(test_df.columns)-set(X.columns)\n",
    "missing=list(missing)"
   ]
  },
  {
   "cell_type": "code",
   "execution_count": 42,
   "metadata": {
    "execution": {
     "iopub.execute_input": "2020-10-18T18:22:29.655633Z",
     "iopub.status.busy": "2020-10-18T18:22:29.654702Z",
     "iopub.status.idle": "2020-10-18T18:22:29.659442Z",
     "shell.execute_reply": "2020-10-18T18:22:29.658694Z"
    },
    "papermill": {
     "duration": 0.109283,
     "end_time": "2020-10-18T18:22:29.659568",
     "exception": false,
     "start_time": "2020-10-18T18:22:29.550285",
     "status": "completed"
    },
    "tags": []
   },
   "outputs": [
    {
     "data": {
      "text/plain": [
       "{'BsmtFinSF1_is_missing',\n",
       " 'BsmtFinSF2_is_missing',\n",
       " 'BsmtFullBath_is_missing',\n",
       " 'BsmtHalfBath_is_missing',\n",
       " 'BsmtUnfSF_is_missing',\n",
       " 'GarageArea_is_missing',\n",
       " 'GarageCars_is_missing',\n",
       " 'TotalBsmtSF_is_missing'}"
      ]
     },
     "execution_count": 42,
     "metadata": {},
     "output_type": "execute_result"
    }
   ],
   "source": [
    "set(test_df.columns)-set(X.columns)"
   ]
  },
  {
   "cell_type": "markdown",
   "metadata": {
    "papermill": {
     "duration": 0.098995,
     "end_time": "2020-10-18T18:22:29.858484",
     "exception": false,
     "start_time": "2020-10-18T18:22:29.759489",
     "status": "completed"
    },
    "tags": []
   },
   "source": [
    "These above attributes are not in the test dataframe"
   ]
  },
  {
   "cell_type": "markdown",
   "metadata": {
    "papermill": {
     "duration": 0.099885,
     "end_time": "2020-10-18T18:22:30.058036",
     "exception": false,
     "start_time": "2020-10-18T18:22:29.958151",
     "status": "completed"
    },
    "tags": []
   },
   "source": [
    "### Filling the above attributes in our test dataframe"
   ]
  },
  {
   "cell_type": "code",
   "execution_count": 43,
   "metadata": {
    "execution": {
     "iopub.execute_input": "2020-10-18T18:22:30.272562Z",
     "iopub.status.busy": "2020-10-18T18:22:30.271755Z",
     "iopub.status.idle": "2020-10-18T18:22:30.275684Z",
     "shell.execute_reply": "2020-10-18T18:22:30.275049Z"
    },
    "papermill": {
     "duration": 0.114894,
     "end_time": "2020-10-18T18:22:30.275807",
     "exception": false,
     "start_time": "2020-10-18T18:22:30.160913",
     "status": "completed"
    },
    "tags": []
   },
   "outputs": [],
   "source": [
    "for i in range(len(missing)):\n",
    "    X[str(missing[i])]=False"
   ]
  },
  {
   "cell_type": "code",
   "execution_count": 44,
   "metadata": {
    "execution": {
     "iopub.execute_input": "2020-10-18T18:22:30.482574Z",
     "iopub.status.busy": "2020-10-18T18:22:30.481480Z",
     "iopub.status.idle": "2020-10-18T18:22:30.486200Z",
     "shell.execute_reply": "2020-10-18T18:22:30.485464Z"
    },
    "papermill": {
     "duration": 0.110382,
     "end_time": "2020-10-18T18:22:30.486324",
     "exception": false,
     "start_time": "2020-10-18T18:22:30.375942",
     "status": "completed"
    },
    "tags": []
   },
   "outputs": [
    {
     "data": {
      "text/plain": [
       "set()"
      ]
     },
     "execution_count": 44,
     "metadata": {},
     "output_type": "execute_result"
    }
   ],
   "source": [
    "set(X.columns)-set(test_df.columns)"
   ]
  },
  {
   "cell_type": "markdown",
   "metadata": {
    "papermill": {
     "duration": 0.100606,
     "end_time": "2020-10-18T18:22:30.688235",
     "exception": false,
     "start_time": "2020-10-18T18:22:30.587629",
     "status": "completed"
    },
    "tags": []
   },
   "source": [
    "Now Test dataframe has same attributes as Training dataframe"
   ]
  },
  {
   "cell_type": "code",
   "execution_count": 45,
   "metadata": {
    "execution": {
     "iopub.execute_input": "2020-10-18T18:22:30.897489Z",
     "iopub.status.busy": "2020-10-18T18:22:30.896595Z",
     "iopub.status.idle": "2020-10-18T18:22:30.901514Z",
     "shell.execute_reply": "2020-10-18T18:22:30.900762Z"
    },
    "papermill": {
     "duration": 0.112463,
     "end_time": "2020-10-18T18:22:30.901656",
     "exception": false,
     "start_time": "2020-10-18T18:22:30.789193",
     "status": "completed"
    },
    "tags": []
   },
   "outputs": [
    {
     "data": {
      "text/plain": [
       "Index(['Id', 'MSSubClass', 'MSZoning', 'LotFrontage', 'LotArea', 'Street',\n",
       "       'Alley', 'LotShape', 'LandContour', 'Utilities',\n",
       "       ...\n",
       "       'GarageType_is_missing', 'GarageFinish_is_missing',\n",
       "       'GarageQual_is_missing', 'GarageCond_is_missing',\n",
       "       'PavedDrive_is_missing', 'PoolQC_is_missing', 'Fence_is_missing',\n",
       "       'MiscFeature_is_missing', 'SaleType_is_missing',\n",
       "       'SaleCondition_is_missing'],\n",
       "      dtype='object', length=134)"
      ]
     },
     "execution_count": 45,
     "metadata": {},
     "output_type": "execute_result"
    }
   ],
   "source": [
    "test_df.columns"
   ]
  },
  {
   "cell_type": "markdown",
   "metadata": {
    "papermill": {
     "duration": 0.102419,
     "end_time": "2020-10-18T18:22:31.105412",
     "exception": false,
     "start_time": "2020-10-18T18:22:31.002993",
     "status": "completed"
    },
    "tags": []
   },
   "source": [
    "### Making predictions on the test dataset"
   ]
  },
  {
   "cell_type": "code",
   "execution_count": 46,
   "metadata": {
    "execution": {
     "iopub.execute_input": "2020-10-18T18:22:31.317883Z",
     "iopub.status.busy": "2020-10-18T18:22:31.316431Z",
     "iopub.status.idle": "2020-10-18T18:22:31.691731Z",
     "shell.execute_reply": "2020-10-18T18:22:31.690947Z"
    },
    "papermill": {
     "duration": 0.484102,
     "end_time": "2020-10-18T18:22:31.691862",
     "exception": false,
     "start_time": "2020-10-18T18:22:31.207760",
     "status": "completed"
    },
    "tags": []
   },
   "outputs": [
    {
     "data": {
      "text/plain": [
       "RandomForestRegressor(max_depth=10, max_features=0.5, min_samples_split=8,\n",
       "                      n_estimators=60, n_jobs=-1, random_state=69)"
      ]
     },
     "execution_count": 46,
     "metadata": {},
     "output_type": "execute_result"
    }
   ],
   "source": [
    "ideal_model.fit(X,y)"
   ]
  },
  {
   "cell_type": "code",
   "execution_count": 47,
   "metadata": {
    "execution": {
     "iopub.execute_input": "2020-10-18T18:22:31.907305Z",
     "iopub.status.busy": "2020-10-18T18:22:31.906482Z",
     "iopub.status.idle": "2020-10-18T18:22:32.038074Z",
     "shell.execute_reply": "2020-10-18T18:22:32.038663Z"
    },
    "papermill": {
     "duration": 0.245146,
     "end_time": "2020-10-18T18:22:32.038842",
     "exception": false,
     "start_time": "2020-10-18T18:22:31.793696",
     "status": "completed"
    },
    "tags": []
   },
   "outputs": [],
   "source": [
    "y_preds=ideal_model.predict(test_df)"
   ]
  },
  {
   "cell_type": "code",
   "execution_count": 48,
   "metadata": {
    "execution": {
     "iopub.execute_input": "2020-10-18T18:22:32.251216Z",
     "iopub.status.busy": "2020-10-18T18:22:32.250389Z",
     "iopub.status.idle": "2020-10-18T18:22:32.254172Z",
     "shell.execute_reply": "2020-10-18T18:22:32.254707Z"
    },
    "papermill": {
     "duration": 0.112804,
     "end_time": "2020-10-18T18:22:32.254873",
     "exception": false,
     "start_time": "2020-10-18T18:22:32.142069",
     "status": "completed"
    },
    "tags": []
   },
   "outputs": [
    {
     "data": {
      "text/plain": [
       "538264.6010951085"
      ]
     },
     "execution_count": 48,
     "metadata": {},
     "output_type": "execute_result"
    }
   ],
   "source": [
    "y_preds.max()\n"
   ]
  },
  {
   "cell_type": "code",
   "execution_count": 49,
   "metadata": {
    "execution": {
     "iopub.execute_input": "2020-10-18T18:22:32.467080Z",
     "iopub.status.busy": "2020-10-18T18:22:32.466152Z",
     "iopub.status.idle": "2020-10-18T18:22:32.471534Z",
     "shell.execute_reply": "2020-10-18T18:22:32.470719Z"
    },
    "papermill": {
     "duration": 0.114406,
     "end_time": "2020-10-18T18:22:32.471668",
     "exception": false,
     "start_time": "2020-10-18T18:22:32.357262",
     "status": "completed"
    },
    "tags": []
   },
   "outputs": [
    {
     "data": {
      "text/plain": [
       "((1460, 134), (1459, 134), (1460,))"
      ]
     },
     "execution_count": 49,
     "metadata": {},
     "output_type": "execute_result"
    }
   ],
   "source": [
    "X.shape,test_df.shape,y.shape"
   ]
  },
  {
   "cell_type": "markdown",
   "metadata": {
    "papermill": {
     "duration": 0.102407,
     "end_time": "2020-10-18T18:22:32.677842",
     "exception": false,
     "start_time": "2020-10-18T18:22:32.575435",
     "status": "completed"
    },
    "tags": []
   },
   "source": [
    "### Preparing a dataframe for submission"
   ]
  },
  {
   "cell_type": "code",
   "execution_count": 50,
   "metadata": {
    "execution": {
     "iopub.execute_input": "2020-10-18T18:22:32.892307Z",
     "iopub.status.busy": "2020-10-18T18:22:32.891522Z",
     "iopub.status.idle": "2020-10-18T18:22:32.894925Z",
     "shell.execute_reply": "2020-10-18T18:22:32.894172Z"
    },
    "papermill": {
     "duration": 0.114146,
     "end_time": "2020-10-18T18:22:32.895074",
     "exception": false,
     "start_time": "2020-10-18T18:22:32.780928",
     "status": "completed"
    },
    "tags": []
   },
   "outputs": [],
   "source": [
    "# Making the dataframe in the format that kaggle asks for\n",
    "sub_df=pd.DataFrame()\n",
    "sub_df[\"Id\"]=test_df[\"Id\"]\n",
    "sub_df[\"SalePrice\"]=y_preds"
   ]
  },
  {
   "cell_type": "code",
   "execution_count": 51,
   "metadata": {
    "execution": {
     "iopub.execute_input": "2020-10-18T18:22:33.113136Z",
     "iopub.status.busy": "2020-10-18T18:22:33.112085Z",
     "iopub.status.idle": "2020-10-18T18:22:33.117375Z",
     "shell.execute_reply": "2020-10-18T18:22:33.116674Z"
    },
    "papermill": {
     "duration": 0.118065,
     "end_time": "2020-10-18T18:22:33.117503",
     "exception": false,
     "start_time": "2020-10-18T18:22:32.999438",
     "status": "completed"
    },
    "tags": []
   },
   "outputs": [
    {
     "data": {
      "text/html": [
       "<div>\n",
       "<style scoped>\n",
       "    .dataframe tbody tr th:only-of-type {\n",
       "        vertical-align: middle;\n",
       "    }\n",
       "\n",
       "    .dataframe tbody tr th {\n",
       "        vertical-align: top;\n",
       "    }\n",
       "\n",
       "    .dataframe thead th {\n",
       "        text-align: right;\n",
       "    }\n",
       "</style>\n",
       "<table border=\"1\" class=\"dataframe\">\n",
       "  <thead>\n",
       "    <tr style=\"text-align: right;\">\n",
       "      <th></th>\n",
       "      <th>Id</th>\n",
       "      <th>SalePrice</th>\n",
       "    </tr>\n",
       "  </thead>\n",
       "  <tbody>\n",
       "    <tr>\n",
       "      <th>0</th>\n",
       "      <td>1461</td>\n",
       "      <td>125779.002650</td>\n",
       "    </tr>\n",
       "    <tr>\n",
       "      <th>1</th>\n",
       "      <td>1462</td>\n",
       "      <td>153155.490700</td>\n",
       "    </tr>\n",
       "    <tr>\n",
       "      <th>2</th>\n",
       "      <td>1463</td>\n",
       "      <td>180717.190388</td>\n",
       "    </tr>\n",
       "    <tr>\n",
       "      <th>3</th>\n",
       "      <td>1464</td>\n",
       "      <td>187086.684638</td>\n",
       "    </tr>\n",
       "    <tr>\n",
       "      <th>4</th>\n",
       "      <td>1465</td>\n",
       "      <td>198419.543561</td>\n",
       "    </tr>\n",
       "  </tbody>\n",
       "</table>\n",
       "</div>"
      ],
      "text/plain": [
       "     Id      SalePrice\n",
       "0  1461  125779.002650\n",
       "1  1462  153155.490700\n",
       "2  1463  180717.190388\n",
       "3  1464  187086.684638\n",
       "4  1465  198419.543561"
      ]
     },
     "execution_count": 51,
     "metadata": {},
     "output_type": "execute_result"
    }
   ],
   "source": [
    "sub_df.head()"
   ]
  },
  {
   "cell_type": "code",
   "execution_count": 52,
   "metadata": {
    "execution": {
     "iopub.execute_input": "2020-10-18T18:22:33.332686Z",
     "iopub.status.busy": "2020-10-18T18:22:33.331589Z",
     "iopub.status.idle": "2020-10-18T18:22:33.724287Z",
     "shell.execute_reply": "2020-10-18T18:22:33.723404Z"
    },
    "papermill": {
     "duration": 0.501097,
     "end_time": "2020-10-18T18:22:33.724435",
     "exception": false,
     "start_time": "2020-10-18T18:22:33.223338",
     "status": "completed"
    },
    "tags": []
   },
   "outputs": [],
   "source": [
    "sub_df.to_csv(\"/kaggle/working/subfile.csv\",index=False)"
   ]
  },
  {
   "cell_type": "markdown",
   "metadata": {
    "papermill": {
     "duration": 0.10404,
     "end_time": "2020-10-18T18:22:33.934880",
     "exception": false,
     "start_time": "2020-10-18T18:22:33.830840",
     "status": "completed"
    },
    "tags": []
   },
   "source": [
    "### Trying gradient boosting algorithm"
   ]
  },
  {
   "cell_type": "code",
   "execution_count": 53,
   "metadata": {
    "execution": {
     "iopub.execute_input": "2020-10-18T18:22:34.152236Z",
     "iopub.status.busy": "2020-10-18T18:22:34.151301Z",
     "iopub.status.idle": "2020-10-18T18:22:34.297945Z",
     "shell.execute_reply": "2020-10-18T18:22:34.297160Z"
    },
    "papermill": {
     "duration": 0.258415,
     "end_time": "2020-10-18T18:22:34.298098",
     "exception": false,
     "start_time": "2020-10-18T18:22:34.039683",
     "status": "completed"
    },
    "tags": []
   },
   "outputs": [],
   "source": [
    "from catboost import CatBoostRegressor"
   ]
  },
  {
   "cell_type": "code",
   "execution_count": 54,
   "metadata": {
    "execution": {
     "iopub.execute_input": "2020-10-18T18:22:34.550764Z",
     "iopub.status.busy": "2020-10-18T18:22:34.533250Z",
     "iopub.status.idle": "2020-10-18T18:22:39.156548Z",
     "shell.execute_reply": "2020-10-18T18:22:39.155685Z"
    },
    "papermill": {
     "duration": 4.753545,
     "end_time": "2020-10-18T18:22:39.156747",
     "exception": false,
     "start_time": "2020-10-18T18:22:34.403202",
     "status": "completed"
    },
    "tags": []
   },
   "outputs": [
    {
     "name": "stdout",
     "output_type": "stream",
     "text": [
      "Learning rate set to 0.04175\n",
      "0:\tlearn: 77245.0942350\ttotal: 58.9ms\tremaining: 58.8s\n",
      "1:\tlearn: 75225.8703381\ttotal: 63.5ms\tremaining: 31.7s\n",
      "2:\tlearn: 73283.5063448\ttotal: 67.9ms\tremaining: 22.6s\n",
      "3:\tlearn: 71552.5286141\ttotal: 72.3ms\tremaining: 18s\n",
      "4:\tlearn: 69817.9856896\ttotal: 76.4ms\tremaining: 15.2s\n",
      "5:\tlearn: 68041.1338987\ttotal: 80.6ms\tremaining: 13.4s\n",
      "6:\tlearn: 66372.9797518\ttotal: 84.6ms\tremaining: 12s\n",
      "7:\tlearn: 64714.4480342\ttotal: 89ms\tremaining: 11s\n",
      "8:\tlearn: 63252.7352752\ttotal: 93.1ms\tremaining: 10.3s\n",
      "9:\tlearn: 61703.2194489\ttotal: 97.4ms\tremaining: 9.64s\n",
      "10:\tlearn: 60368.2841986\ttotal: 102ms\tremaining: 9.13s\n",
      "11:\tlearn: 58903.2811458\ttotal: 106ms\tremaining: 8.69s\n",
      "12:\tlearn: 57571.7428939\ttotal: 110ms\tremaining: 8.33s\n",
      "13:\tlearn: 56462.7824820\ttotal: 114ms\tremaining: 8.03s\n",
      "14:\tlearn: 55219.9113198\ttotal: 118ms\tremaining: 7.76s\n",
      "15:\tlearn: 54036.6811646\ttotal: 122ms\tremaining: 7.52s\n",
      "16:\tlearn: 52854.1710117\ttotal: 126ms\tremaining: 7.3s\n",
      "17:\tlearn: 51950.2854412\ttotal: 130ms\tremaining: 7.11s\n",
      "18:\tlearn: 50811.4812222\ttotal: 135ms\tremaining: 6.95s\n",
      "19:\tlearn: 49763.6698563\ttotal: 139ms\tremaining: 6.79s\n",
      "20:\tlearn: 48746.9700063\ttotal: 143ms\tremaining: 6.66s\n",
      "21:\tlearn: 47711.8160729\ttotal: 147ms\tremaining: 6.54s\n",
      "22:\tlearn: 46820.9813424\ttotal: 151ms\tremaining: 6.42s\n",
      "23:\tlearn: 45973.2329177\ttotal: 155ms\tremaining: 6.32s\n",
      "24:\tlearn: 45221.3399391\ttotal: 160ms\tremaining: 6.22s\n",
      "25:\tlearn: 44450.8307494\ttotal: 164ms\tremaining: 6.14s\n",
      "26:\tlearn: 43750.6461122\ttotal: 168ms\tremaining: 6.05s\n",
      "27:\tlearn: 43021.4334619\ttotal: 172ms\tremaining: 5.97s\n",
      "28:\tlearn: 42260.7555475\ttotal: 176ms\tremaining: 5.91s\n",
      "29:\tlearn: 41565.2966924\ttotal: 181ms\tremaining: 5.84s\n",
      "30:\tlearn: 40865.1682707\ttotal: 185ms\tremaining: 5.78s\n",
      "31:\tlearn: 40235.2420159\ttotal: 189ms\tremaining: 5.72s\n",
      "32:\tlearn: 39618.6465012\ttotal: 196ms\tremaining: 5.74s\n",
      "33:\tlearn: 39029.8657094\ttotal: 202ms\tremaining: 5.74s\n",
      "34:\tlearn: 38477.4141446\ttotal: 207ms\tremaining: 5.71s\n",
      "35:\tlearn: 37956.0026776\ttotal: 211ms\tremaining: 5.65s\n",
      "36:\tlearn: 37390.6071593\ttotal: 215ms\tremaining: 5.6s\n",
      "37:\tlearn: 36837.4132158\ttotal: 219ms\tremaining: 5.55s\n",
      "38:\tlearn: 36321.5520310\ttotal: 223ms\tremaining: 5.5s\n",
      "39:\tlearn: 35872.9441953\ttotal: 227ms\tremaining: 5.45s\n",
      "40:\tlearn: 35386.8528088\ttotal: 231ms\tremaining: 5.41s\n",
      "41:\tlearn: 34922.3482491\ttotal: 235ms\tremaining: 5.37s\n",
      "42:\tlearn: 34440.9875818\ttotal: 239ms\tremaining: 5.33s\n",
      "43:\tlearn: 34032.4946221\ttotal: 243ms\tremaining: 5.28s\n",
      "44:\tlearn: 33620.4342132\ttotal: 247ms\tremaining: 5.24s\n",
      "45:\tlearn: 33263.9703217\ttotal: 251ms\tremaining: 5.21s\n",
      "46:\tlearn: 32882.3333305\ttotal: 255ms\tremaining: 5.17s\n",
      "47:\tlearn: 32528.3990571\ttotal: 259ms\tremaining: 5.14s\n",
      "48:\tlearn: 32186.0485238\ttotal: 263ms\tremaining: 5.1s\n",
      "49:\tlearn: 31829.2617409\ttotal: 267ms\tremaining: 5.07s\n",
      "50:\tlearn: 31512.1358957\ttotal: 271ms\tremaining: 5.04s\n",
      "51:\tlearn: 31248.1254874\ttotal: 275ms\tremaining: 5.02s\n",
      "52:\tlearn: 30927.1087814\ttotal: 279ms\tremaining: 4.99s\n",
      "53:\tlearn: 30555.7285758\ttotal: 283ms\tremaining: 4.96s\n",
      "54:\tlearn: 30264.8779586\ttotal: 287ms\tremaining: 4.93s\n",
      "55:\tlearn: 29939.0661767\ttotal: 291ms\tremaining: 4.91s\n",
      "56:\tlearn: 29685.6766799\ttotal: 295ms\tremaining: 4.88s\n",
      "57:\tlearn: 29419.0750957\ttotal: 299ms\tremaining: 4.85s\n",
      "58:\tlearn: 29172.1262673\ttotal: 303ms\tremaining: 4.83s\n",
      "59:\tlearn: 28882.7029687\ttotal: 306ms\tremaining: 4.8s\n",
      "60:\tlearn: 28649.3755108\ttotal: 310ms\tremaining: 4.78s\n",
      "61:\tlearn: 28418.1371129\ttotal: 314ms\tremaining: 4.75s\n",
      "62:\tlearn: 28205.5211362\ttotal: 318ms\tremaining: 4.73s\n",
      "63:\tlearn: 27973.1273316\ttotal: 322ms\tremaining: 4.71s\n",
      "64:\tlearn: 27749.9616422\ttotal: 326ms\tremaining: 4.69s\n",
      "65:\tlearn: 27570.9304690\ttotal: 331ms\tremaining: 4.68s\n",
      "66:\tlearn: 27363.1051209\ttotal: 334ms\tremaining: 4.66s\n",
      "67:\tlearn: 27167.5451171\ttotal: 338ms\tremaining: 4.63s\n",
      "68:\tlearn: 26964.3016753\ttotal: 342ms\tremaining: 4.62s\n",
      "69:\tlearn: 26737.2416878\ttotal: 346ms\tremaining: 4.6s\n",
      "70:\tlearn: 26543.1422873\ttotal: 350ms\tremaining: 4.58s\n",
      "71:\tlearn: 26351.9046345\ttotal: 354ms\tremaining: 4.56s\n",
      "72:\tlearn: 26135.0081765\ttotal: 358ms\tremaining: 4.54s\n",
      "73:\tlearn: 25936.7977656\ttotal: 362ms\tremaining: 4.53s\n",
      "74:\tlearn: 25755.6678858\ttotal: 366ms\tremaining: 4.51s\n",
      "75:\tlearn: 25574.4532052\ttotal: 370ms\tremaining: 4.5s\n",
      "76:\tlearn: 25395.7740639\ttotal: 374ms\tremaining: 4.49s\n",
      "77:\tlearn: 25246.3706755\ttotal: 378ms\tremaining: 4.47s\n",
      "78:\tlearn: 25097.6129725\ttotal: 382ms\tremaining: 4.46s\n",
      "79:\tlearn: 24935.3384097\ttotal: 386ms\tremaining: 4.44s\n",
      "80:\tlearn: 24823.1256283\ttotal: 392ms\tremaining: 4.45s\n",
      "81:\tlearn: 24644.5891021\ttotal: 398ms\tremaining: 4.46s\n",
      "82:\tlearn: 24487.6101944\ttotal: 403ms\tremaining: 4.45s\n",
      "83:\tlearn: 24360.0794700\ttotal: 408ms\tremaining: 4.45s\n",
      "84:\tlearn: 24225.4641636\ttotal: 412ms\tremaining: 4.43s\n",
      "85:\tlearn: 24118.1282610\ttotal: 416ms\tremaining: 4.42s\n",
      "86:\tlearn: 23975.8235110\ttotal: 420ms\tremaining: 4.4s\n",
      "87:\tlearn: 23819.9062851\ttotal: 424ms\tremaining: 4.39s\n",
      "88:\tlearn: 23685.6181837\ttotal: 428ms\tremaining: 4.38s\n",
      "89:\tlearn: 23580.7026614\ttotal: 432ms\tremaining: 4.37s\n",
      "90:\tlearn: 23454.4546926\ttotal: 436ms\tremaining: 4.35s\n",
      "91:\tlearn: 23332.4731395\ttotal: 440ms\tremaining: 4.34s\n",
      "92:\tlearn: 23200.1041600\ttotal: 444ms\tremaining: 4.33s\n",
      "93:\tlearn: 23117.5402690\ttotal: 448ms\tremaining: 4.31s\n",
      "94:\tlearn: 22993.0311197\ttotal: 451ms\tremaining: 4.3s\n",
      "95:\tlearn: 22888.7225974\ttotal: 455ms\tremaining: 4.29s\n",
      "96:\tlearn: 22803.7610663\ttotal: 459ms\tremaining: 4.28s\n",
      "97:\tlearn: 22680.4064788\ttotal: 463ms\tremaining: 4.26s\n",
      "98:\tlearn: 22585.9498826\ttotal: 468ms\tremaining: 4.25s\n",
      "99:\tlearn: 22476.7563604\ttotal: 471ms\tremaining: 4.24s\n",
      "100:\tlearn: 22373.0037001\ttotal: 476ms\tremaining: 4.23s\n",
      "101:\tlearn: 22263.2785033\ttotal: 480ms\tremaining: 4.22s\n",
      "102:\tlearn: 22172.3881171\ttotal: 483ms\tremaining: 4.21s\n",
      "103:\tlearn: 22092.9070548\ttotal: 487ms\tremaining: 4.2s\n",
      "104:\tlearn: 21985.9241292\ttotal: 491ms\tremaining: 4.18s\n",
      "105:\tlearn: 21891.6666458\ttotal: 495ms\tremaining: 4.17s\n",
      "106:\tlearn: 21776.7218305\ttotal: 499ms\tremaining: 4.16s\n",
      "107:\tlearn: 21662.5937185\ttotal: 503ms\tremaining: 4.16s\n",
      "108:\tlearn: 21595.0065523\ttotal: 507ms\tremaining: 4.14s\n",
      "109:\tlearn: 21515.5051979\ttotal: 511ms\tremaining: 4.13s\n",
      "110:\tlearn: 21420.2999442\ttotal: 515ms\tremaining: 4.13s\n",
      "111:\tlearn: 21337.1651269\ttotal: 519ms\tremaining: 4.12s\n",
      "112:\tlearn: 21263.6475204\ttotal: 523ms\tremaining: 4.11s\n",
      "113:\tlearn: 21170.8139803\ttotal: 527ms\tremaining: 4.1s\n",
      "114:\tlearn: 21119.6403976\ttotal: 531ms\tremaining: 4.09s\n",
      "115:\tlearn: 21055.5271538\ttotal: 535ms\tremaining: 4.08s\n",
      "116:\tlearn: 21002.8456732\ttotal: 539ms\tremaining: 4.07s\n",
      "117:\tlearn: 20926.4451243\ttotal: 543ms\tremaining: 4.06s\n",
      "118:\tlearn: 20864.3621925\ttotal: 547ms\tremaining: 4.05s\n",
      "119:\tlearn: 20797.6661205\ttotal: 551ms\tremaining: 4.04s\n",
      "120:\tlearn: 20737.8644045\ttotal: 555ms\tremaining: 4.03s\n",
      "121:\tlearn: 20685.6435813\ttotal: 559ms\tremaining: 4.02s\n",
      "122:\tlearn: 20633.4158585\ttotal: 563ms\tremaining: 4.01s\n",
      "123:\tlearn: 20583.2719356\ttotal: 566ms\tremaining: 4s\n",
      "124:\tlearn: 20529.7797562\ttotal: 570ms\tremaining: 3.99s\n",
      "125:\tlearn: 20452.2611186\ttotal: 574ms\tremaining: 3.98s\n",
      "126:\tlearn: 20370.7703750\ttotal: 578ms\tremaining: 3.98s\n",
      "127:\tlearn: 20298.3290783\ttotal: 582ms\tremaining: 3.97s\n",
      "128:\tlearn: 20231.3380225\ttotal: 591ms\tremaining: 3.99s\n",
      "129:\tlearn: 20164.9340695\ttotal: 597ms\tremaining: 3.99s\n",
      "130:\tlearn: 20110.0672917\ttotal: 601ms\tremaining: 3.99s\n",
      "131:\tlearn: 20078.4329248\ttotal: 605ms\tremaining: 3.98s\n",
      "132:\tlearn: 20031.6407764\ttotal: 609ms\tremaining: 3.97s\n",
      "133:\tlearn: 20006.0461186\ttotal: 613ms\tremaining: 3.96s\n",
      "134:\tlearn: 19960.5349795\ttotal: 617ms\tremaining: 3.95s\n",
      "135:\tlearn: 19902.3509695\ttotal: 621ms\tremaining: 3.94s\n",
      "136:\tlearn: 19868.7843261\ttotal: 625ms\tremaining: 3.94s\n",
      "137:\tlearn: 19841.0470919\ttotal: 629ms\tremaining: 3.93s\n",
      "138:\tlearn: 19797.7992092\ttotal: 633ms\tremaining: 3.92s\n",
      "139:\tlearn: 19724.1120637\ttotal: 637ms\tremaining: 3.91s\n",
      "140:\tlearn: 19685.8374876\ttotal: 641ms\tremaining: 3.91s\n",
      "141:\tlearn: 19643.1288248\ttotal: 645ms\tremaining: 3.9s\n",
      "142:\tlearn: 19600.0117465\ttotal: 649ms\tremaining: 3.89s\n",
      "143:\tlearn: 19549.5513306\ttotal: 653ms\tremaining: 3.88s\n",
      "144:\tlearn: 19498.3479644\ttotal: 657ms\tremaining: 3.87s\n",
      "145:\tlearn: 19459.4718156\ttotal: 661ms\tremaining: 3.87s\n",
      "146:\tlearn: 19409.0030105\ttotal: 665ms\tremaining: 3.86s\n",
      "147:\tlearn: 19365.6266071\ttotal: 669ms\tremaining: 3.85s\n",
      "148:\tlearn: 19316.0836976\ttotal: 673ms\tremaining: 3.84s\n",
      "149:\tlearn: 19282.1183209\ttotal: 677ms\tremaining: 3.84s\n",
      "150:\tlearn: 19242.2247971\ttotal: 681ms\tremaining: 3.83s\n",
      "151:\tlearn: 19206.7728512\ttotal: 685ms\tremaining: 3.82s\n",
      "152:\tlearn: 19151.5233787\ttotal: 689ms\tremaining: 3.82s\n",
      "153:\tlearn: 19104.6221350\ttotal: 693ms\tremaining: 3.81s\n",
      "154:\tlearn: 19039.3325060\ttotal: 697ms\tremaining: 3.8s\n",
      "155:\tlearn: 18993.6295293\ttotal: 701ms\tremaining: 3.79s\n",
      "156:\tlearn: 18957.8705909\ttotal: 705ms\tremaining: 3.78s\n",
      "157:\tlearn: 18925.4352663\ttotal: 709ms\tremaining: 3.78s\n",
      "158:\tlearn: 18889.8196077\ttotal: 713ms\tremaining: 3.77s\n",
      "159:\tlearn: 18855.4213597\ttotal: 717ms\tremaining: 3.76s\n",
      "160:\tlearn: 18813.9072257\ttotal: 721ms\tremaining: 3.75s\n",
      "161:\tlearn: 18778.6063351\ttotal: 724ms\tremaining: 3.75s\n",
      "162:\tlearn: 18725.6383753\ttotal: 729ms\tremaining: 3.74s\n",
      "163:\tlearn: 18658.2115328\ttotal: 733ms\tremaining: 3.73s\n",
      "164:\tlearn: 18589.2171195\ttotal: 737ms\tremaining: 3.73s\n",
      "165:\tlearn: 18551.4413123\ttotal: 741ms\tremaining: 3.72s\n",
      "166:\tlearn: 18502.3171265\ttotal: 744ms\tremaining: 3.71s\n",
      "167:\tlearn: 18464.7576023\ttotal: 748ms\tremaining: 3.71s\n",
      "168:\tlearn: 18414.7238135\ttotal: 752ms\tremaining: 3.7s\n",
      "169:\tlearn: 18394.1005188\ttotal: 756ms\tremaining: 3.69s\n",
      "170:\tlearn: 18345.6363690\ttotal: 760ms\tremaining: 3.69s\n",
      "171:\tlearn: 18304.2339234\ttotal: 764ms\tremaining: 3.68s\n",
      "172:\tlearn: 18255.5044410\ttotal: 768ms\tremaining: 3.67s\n",
      "173:\tlearn: 18223.0279951\ttotal: 772ms\tremaining: 3.66s\n",
      "174:\tlearn: 18174.4213398\ttotal: 776ms\tremaining: 3.66s\n",
      "175:\tlearn: 18148.8013341\ttotal: 780ms\tremaining: 3.65s\n",
      "176:\tlearn: 18097.4443128\ttotal: 785ms\tremaining: 3.65s\n",
      "177:\tlearn: 18059.6137077\ttotal: 793ms\tremaining: 3.66s\n",
      "178:\tlearn: 18037.4754568\ttotal: 797ms\tremaining: 3.66s\n",
      "179:\tlearn: 17995.4472484\ttotal: 801ms\tremaining: 3.65s\n",
      "180:\tlearn: 17961.5271152\ttotal: 805ms\tremaining: 3.64s\n",
      "181:\tlearn: 17918.7816481\ttotal: 809ms\tremaining: 3.64s\n",
      "182:\tlearn: 17869.8984698\ttotal: 813ms\tremaining: 3.63s\n",
      "183:\tlearn: 17833.1617966\ttotal: 817ms\tremaining: 3.62s\n",
      "184:\tlearn: 17794.3294485\ttotal: 821ms\tremaining: 3.62s\n",
      "185:\tlearn: 17751.6640896\ttotal: 825ms\tremaining: 3.61s\n",
      "186:\tlearn: 17718.1053669\ttotal: 829ms\tremaining: 3.6s\n",
      "187:\tlearn: 17694.6154195\ttotal: 833ms\tremaining: 3.6s\n",
      "188:\tlearn: 17671.9379979\ttotal: 836ms\tremaining: 3.59s\n",
      "189:\tlearn: 17645.2264935\ttotal: 840ms\tremaining: 3.58s\n",
      "190:\tlearn: 17619.5810659\ttotal: 844ms\tremaining: 3.57s\n",
      "191:\tlearn: 17566.8744726\ttotal: 848ms\tremaining: 3.57s\n",
      "192:\tlearn: 17519.2897696\ttotal: 851ms\tremaining: 3.56s\n",
      "193:\tlearn: 17457.3979584\ttotal: 856ms\tremaining: 3.55s\n",
      "194:\tlearn: 17401.2650742\ttotal: 860ms\tremaining: 3.55s\n",
      "195:\tlearn: 17363.6496540\ttotal: 864ms\tremaining: 3.54s\n",
      "196:\tlearn: 17337.6238562\ttotal: 868ms\tremaining: 3.54s\n",
      "197:\tlearn: 17314.6112428\ttotal: 874ms\tremaining: 3.54s\n",
      "198:\tlearn: 17284.6177018\ttotal: 881ms\tremaining: 3.54s\n",
      "199:\tlearn: 17249.5101982\ttotal: 887ms\tremaining: 3.55s\n",
      "200:\tlearn: 17226.5756516\ttotal: 893ms\tremaining: 3.55s\n",
      "201:\tlearn: 17208.4225110\ttotal: 900ms\tremaining: 3.55s\n",
      "202:\tlearn: 17186.4642019\ttotal: 905ms\tremaining: 3.55s\n",
      "203:\tlearn: 17133.1593049\ttotal: 910ms\tremaining: 3.55s\n",
      "204:\tlearn: 17088.6926442\ttotal: 917ms\tremaining: 3.56s\n",
      "205:\tlearn: 17067.1452986\ttotal: 925ms\tremaining: 3.56s\n",
      "206:\tlearn: 17022.7339350\ttotal: 930ms\tremaining: 3.56s\n",
      "207:\tlearn: 16999.5997351\ttotal: 936ms\tremaining: 3.56s\n",
      "208:\tlearn: 16942.9540071\ttotal: 942ms\tremaining: 3.56s\n",
      "209:\tlearn: 16917.1106719\ttotal: 947ms\tremaining: 3.56s\n",
      "210:\tlearn: 16895.8112364\ttotal: 953ms\tremaining: 3.56s\n",
      "211:\tlearn: 16847.5904228\ttotal: 958ms\tremaining: 3.56s\n",
      "212:\tlearn: 16825.4251289\ttotal: 966ms\tremaining: 3.57s\n",
      "213:\tlearn: 16771.5194084\ttotal: 972ms\tremaining: 3.57s\n",
      "214:\tlearn: 16721.2686843\ttotal: 978ms\tremaining: 3.57s\n",
      "215:\tlearn: 16692.7904890\ttotal: 993ms\tremaining: 3.6s\n",
      "216:\tlearn: 16681.6227081\ttotal: 998ms\tremaining: 3.6s\n",
      "217:\tlearn: 16648.5704772\ttotal: 1.01s\tremaining: 3.62s\n",
      "218:\tlearn: 16620.8225533\ttotal: 1.01s\tremaining: 3.62s\n",
      "219:\tlearn: 16572.7240138\ttotal: 1.02s\tremaining: 3.62s\n",
      "220:\tlearn: 16532.9581740\ttotal: 1.04s\tremaining: 3.68s\n",
      "221:\tlearn: 16507.4236298\ttotal: 1.05s\tremaining: 3.69s\n",
      "222:\tlearn: 16473.3789837\ttotal: 1.06s\tremaining: 3.69s\n",
      "223:\tlearn: 16448.2816866\ttotal: 1.06s\tremaining: 3.68s\n",
      "224:\tlearn: 16403.7877481\ttotal: 1.07s\tremaining: 3.67s\n",
      "225:\tlearn: 16373.0786273\ttotal: 1.07s\tremaining: 3.67s\n",
      "226:\tlearn: 16337.8605407\ttotal: 1.07s\tremaining: 3.66s\n",
      "227:\tlearn: 16317.3227853\ttotal: 1.08s\tremaining: 3.65s\n",
      "228:\tlearn: 16273.8018993\ttotal: 1.08s\tremaining: 3.64s\n",
      "229:\tlearn: 16225.7690385\ttotal: 1.09s\tremaining: 3.64s\n",
      "230:\tlearn: 16186.1892457\ttotal: 1.09s\tremaining: 3.63s\n",
      "231:\tlearn: 16155.0177685\ttotal: 1.09s\tremaining: 3.62s\n",
      "232:\tlearn: 16134.6156361\ttotal: 1.1s\tremaining: 3.61s\n",
      "233:\tlearn: 16115.2649155\ttotal: 1.1s\tremaining: 3.61s\n",
      "234:\tlearn: 16098.7529019\ttotal: 1.1s\tremaining: 3.6s\n",
      "235:\tlearn: 16070.8143483\ttotal: 1.11s\tremaining: 3.59s\n",
      "236:\tlearn: 16038.2698453\ttotal: 1.11s\tremaining: 3.58s\n",
      "237:\tlearn: 16012.5337955\ttotal: 1.12s\tremaining: 3.58s\n",
      "238:\tlearn: 15969.8579104\ttotal: 1.12s\tremaining: 3.57s\n",
      "239:\tlearn: 15951.2821268\ttotal: 1.13s\tremaining: 3.56s\n",
      "240:\tlearn: 15923.4569800\ttotal: 1.13s\tremaining: 3.56s\n",
      "241:\tlearn: 15903.1183827\ttotal: 1.13s\tremaining: 3.55s\n",
      "242:\tlearn: 15873.6663853\ttotal: 1.14s\tremaining: 3.54s\n",
      "243:\tlearn: 15850.8736674\ttotal: 1.14s\tremaining: 3.54s\n",
      "244:\tlearn: 15830.5271912\ttotal: 1.15s\tremaining: 3.53s\n",
      "245:\tlearn: 15788.5962709\ttotal: 1.15s\tremaining: 3.52s\n",
      "246:\tlearn: 15772.7339781\ttotal: 1.15s\tremaining: 3.52s\n",
      "247:\tlearn: 15745.8109561\ttotal: 1.16s\tremaining: 3.51s\n",
      "248:\tlearn: 15715.5494596\ttotal: 1.16s\tremaining: 3.5s\n",
      "249:\tlearn: 15675.6080112\ttotal: 1.16s\tremaining: 3.49s\n",
      "250:\tlearn: 15654.8786931\ttotal: 1.17s\tremaining: 3.49s\n",
      "251:\tlearn: 15628.0960153\ttotal: 1.17s\tremaining: 3.48s\n",
      "252:\tlearn: 15615.5131432\ttotal: 1.18s\tremaining: 3.47s\n",
      "253:\tlearn: 15574.0607546\ttotal: 1.18s\tremaining: 3.46s\n",
      "254:\tlearn: 15534.5198703\ttotal: 1.18s\tremaining: 3.46s\n",
      "255:\tlearn: 15520.2419070\ttotal: 1.19s\tremaining: 3.45s\n",
      "256:\tlearn: 15480.0933808\ttotal: 1.2s\tremaining: 3.47s\n",
      "257:\tlearn: 15458.9403715\ttotal: 1.2s\tremaining: 3.46s\n",
      "258:\tlearn: 15418.7589022\ttotal: 1.21s\tremaining: 3.46s\n",
      "259:\tlearn: 15392.6159955\ttotal: 1.21s\tremaining: 3.45s\n",
      "260:\tlearn: 15367.8991622\ttotal: 1.22s\tremaining: 3.44s\n",
      "261:\tlearn: 15342.2568122\ttotal: 1.22s\tremaining: 3.43s\n",
      "262:\tlearn: 15328.5469966\ttotal: 1.22s\tremaining: 3.43s\n",
      "263:\tlearn: 15298.4125080\ttotal: 1.23s\tremaining: 3.42s\n",
      "264:\tlearn: 15272.2351385\ttotal: 1.23s\tremaining: 3.41s\n",
      "265:\tlearn: 15248.6701206\ttotal: 1.23s\tremaining: 3.41s\n",
      "266:\tlearn: 15227.6120317\ttotal: 1.24s\tremaining: 3.4s\n",
      "267:\tlearn: 15218.1315679\ttotal: 1.24s\tremaining: 3.39s\n",
      "268:\tlearn: 15176.4113346\ttotal: 1.25s\tremaining: 3.39s\n",
      "269:\tlearn: 15161.3032342\ttotal: 1.25s\tremaining: 3.38s\n",
      "270:\tlearn: 15130.3681438\ttotal: 1.25s\tremaining: 3.37s\n",
      "271:\tlearn: 15100.0515624\ttotal: 1.26s\tremaining: 3.37s\n",
      "272:\tlearn: 15073.7494055\ttotal: 1.26s\tremaining: 3.36s\n",
      "273:\tlearn: 15040.1442948\ttotal: 1.26s\tremaining: 3.35s\n",
      "274:\tlearn: 15008.5535855\ttotal: 1.27s\tremaining: 3.35s\n",
      "275:\tlearn: 14990.2064116\ttotal: 1.27s\tremaining: 3.34s\n",
      "276:\tlearn: 14984.5066294\ttotal: 1.28s\tremaining: 3.33s\n",
      "277:\tlearn: 14961.6757255\ttotal: 1.28s\tremaining: 3.33s\n",
      "278:\tlearn: 14931.9151679\ttotal: 1.28s\tremaining: 3.32s\n",
      "279:\tlearn: 14903.5032761\ttotal: 1.29s\tremaining: 3.31s\n",
      "280:\tlearn: 14868.1085352\ttotal: 1.29s\tremaining: 3.31s\n",
      "281:\tlearn: 14841.6752488\ttotal: 1.3s\tremaining: 3.3s\n",
      "282:\tlearn: 14830.8123385\ttotal: 1.3s\tremaining: 3.29s\n",
      "283:\tlearn: 14807.6303846\ttotal: 1.3s\tremaining: 3.29s\n",
      "284:\tlearn: 14778.8975469\ttotal: 1.31s\tremaining: 3.28s\n",
      "285:\tlearn: 14751.9746599\ttotal: 1.31s\tremaining: 3.28s\n",
      "286:\tlearn: 14714.7669346\ttotal: 1.32s\tremaining: 3.27s\n",
      "287:\tlearn: 14690.0163901\ttotal: 1.32s\tremaining: 3.27s\n",
      "288:\tlearn: 14646.6245528\ttotal: 1.32s\tremaining: 3.26s\n",
      "289:\tlearn: 14615.0142579\ttotal: 1.33s\tremaining: 3.26s\n",
      "290:\tlearn: 14590.7667837\ttotal: 1.33s\tremaining: 3.25s\n",
      "291:\tlearn: 14568.7935093\ttotal: 1.34s\tremaining: 3.25s\n",
      "292:\tlearn: 14549.3543017\ttotal: 1.34s\tremaining: 3.24s\n",
      "293:\tlearn: 14529.1875337\ttotal: 1.35s\tremaining: 3.24s\n",
      "294:\tlearn: 14505.3348248\ttotal: 1.35s\tremaining: 3.23s\n",
      "295:\tlearn: 14474.0648951\ttotal: 1.35s\tremaining: 3.22s\n",
      "296:\tlearn: 14460.4666911\ttotal: 1.36s\tremaining: 3.22s\n",
      "297:\tlearn: 14431.0508292\ttotal: 1.36s\tremaining: 3.21s\n",
      "298:\tlearn: 14412.1901996\ttotal: 1.37s\tremaining: 3.21s\n",
      "299:\tlearn: 14400.0368811\ttotal: 1.37s\tremaining: 3.2s\n",
      "300:\tlearn: 14372.9479042\ttotal: 1.38s\tremaining: 3.19s\n",
      "301:\tlearn: 14346.5709107\ttotal: 1.38s\tremaining: 3.19s\n",
      "302:\tlearn: 14327.9950290\ttotal: 1.39s\tremaining: 3.19s\n",
      "303:\tlearn: 14296.9356246\ttotal: 1.39s\tremaining: 3.19s\n",
      "304:\tlearn: 14292.5839434\ttotal: 1.4s\tremaining: 3.18s\n",
      "305:\tlearn: 14272.6880117\ttotal: 1.4s\tremaining: 3.18s\n",
      "306:\tlearn: 14249.9799010\ttotal: 1.4s\tremaining: 3.17s\n",
      "307:\tlearn: 14234.0157502\ttotal: 1.41s\tremaining: 3.16s\n",
      "308:\tlearn: 14196.5960512\ttotal: 1.41s\tremaining: 3.16s\n",
      "309:\tlearn: 14172.7033070\ttotal: 1.42s\tremaining: 3.15s\n",
      "310:\tlearn: 14141.3124409\ttotal: 1.42s\tremaining: 3.15s\n",
      "311:\tlearn: 14109.8979642\ttotal: 1.42s\tremaining: 3.14s\n",
      "312:\tlearn: 14086.2239455\ttotal: 1.43s\tremaining: 3.13s\n",
      "313:\tlearn: 14070.4164670\ttotal: 1.43s\tremaining: 3.13s\n",
      "314:\tlearn: 14044.0934595\ttotal: 1.44s\tremaining: 3.12s\n",
      "315:\tlearn: 14006.5840126\ttotal: 1.44s\tremaining: 3.12s\n",
      "316:\tlearn: 13971.7446148\ttotal: 1.44s\tremaining: 3.11s\n",
      "317:\tlearn: 13959.7515467\ttotal: 1.45s\tremaining: 3.1s\n",
      "318:\tlearn: 13922.2185854\ttotal: 1.45s\tremaining: 3.1s\n",
      "319:\tlearn: 13901.6255776\ttotal: 1.46s\tremaining: 3.09s\n",
      "320:\tlearn: 13877.0105458\ttotal: 1.46s\tremaining: 3.09s\n",
      "321:\tlearn: 13836.4077429\ttotal: 1.46s\tremaining: 3.08s\n",
      "322:\tlearn: 13815.4991817\ttotal: 1.47s\tremaining: 3.08s\n",
      "323:\tlearn: 13797.9613181\ttotal: 1.47s\tremaining: 3.07s\n",
      "324:\tlearn: 13780.4392181\ttotal: 1.48s\tremaining: 3.06s\n",
      "325:\tlearn: 13768.9917131\ttotal: 1.48s\tremaining: 3.06s\n",
      "326:\tlearn: 13749.0403063\ttotal: 1.48s\tremaining: 3.05s\n",
      "327:\tlearn: 13729.6491486\ttotal: 1.49s\tremaining: 3.05s\n",
      "328:\tlearn: 13703.8292356\ttotal: 1.49s\tremaining: 3.04s\n",
      "329:\tlearn: 13679.7259815\ttotal: 1.5s\tremaining: 3.04s\n",
      "330:\tlearn: 13647.2520902\ttotal: 1.5s\tremaining: 3.03s\n",
      "331:\tlearn: 13610.9868420\ttotal: 1.5s\tremaining: 3.02s\n",
      "332:\tlearn: 13577.3919866\ttotal: 1.51s\tremaining: 3.02s\n",
      "333:\tlearn: 13560.1479215\ttotal: 1.51s\tremaining: 3.01s\n",
      "334:\tlearn: 13536.5040274\ttotal: 1.51s\tremaining: 3.01s\n",
      "335:\tlearn: 13519.0405073\ttotal: 1.52s\tremaining: 3s\n",
      "336:\tlearn: 13502.3878097\ttotal: 1.52s\tremaining: 3s\n",
      "337:\tlearn: 13471.7209915\ttotal: 1.53s\tremaining: 2.99s\n",
      "338:\tlearn: 13441.5272168\ttotal: 1.53s\tremaining: 2.99s\n",
      "339:\tlearn: 13424.0700005\ttotal: 1.53s\tremaining: 2.98s\n",
      "340:\tlearn: 13398.9752499\ttotal: 1.54s\tremaining: 2.97s\n",
      "341:\tlearn: 13389.5013820\ttotal: 1.54s\tremaining: 2.97s\n",
      "342:\tlearn: 13367.7787052\ttotal: 1.55s\tremaining: 2.96s\n",
      "343:\tlearn: 13355.1638079\ttotal: 1.55s\tremaining: 2.96s\n",
      "344:\tlearn: 13340.0713266\ttotal: 1.55s\tremaining: 2.95s\n",
      "345:\tlearn: 13325.6852189\ttotal: 1.56s\tremaining: 2.95s\n",
      "346:\tlearn: 13310.9438594\ttotal: 1.56s\tremaining: 2.94s\n",
      "347:\tlearn: 13287.2923929\ttotal: 1.57s\tremaining: 2.93s\n",
      "348:\tlearn: 13251.7619546\ttotal: 1.57s\tremaining: 2.93s\n",
      "349:\tlearn: 13223.7576706\ttotal: 1.57s\tremaining: 2.92s\n",
      "350:\tlearn: 13201.0237564\ttotal: 1.58s\tremaining: 2.92s\n",
      "351:\tlearn: 13177.4953290\ttotal: 1.59s\tremaining: 2.92s\n",
      "352:\tlearn: 13156.4507943\ttotal: 1.59s\tremaining: 2.92s\n",
      "353:\tlearn: 13136.6459248\ttotal: 1.6s\tremaining: 2.92s\n",
      "354:\tlearn: 13128.6072161\ttotal: 1.6s\tremaining: 2.91s\n",
      "355:\tlearn: 13107.2347262\ttotal: 1.6s\tremaining: 2.9s\n",
      "356:\tlearn: 13091.4448787\ttotal: 1.61s\tremaining: 2.9s\n",
      "357:\tlearn: 13074.7086556\ttotal: 1.61s\tremaining: 2.89s\n",
      "358:\tlearn: 13049.0955890\ttotal: 1.62s\tremaining: 2.89s\n",
      "359:\tlearn: 13026.6639614\ttotal: 1.62s\tremaining: 2.88s\n",
      "360:\tlearn: 13005.2570652\ttotal: 1.63s\tremaining: 2.88s\n",
      "361:\tlearn: 12986.4814417\ttotal: 1.63s\tremaining: 2.87s\n",
      "362:\tlearn: 12968.2752656\ttotal: 1.63s\tremaining: 2.87s\n",
      "363:\tlearn: 12944.2745208\ttotal: 1.64s\tremaining: 2.86s\n",
      "364:\tlearn: 12925.5454480\ttotal: 1.64s\tremaining: 2.85s\n",
      "365:\tlearn: 12916.8947840\ttotal: 1.64s\tremaining: 2.85s\n",
      "366:\tlearn: 12902.8581699\ttotal: 1.65s\tremaining: 2.84s\n",
      "367:\tlearn: 12881.7905398\ttotal: 1.65s\tremaining: 2.84s\n",
      "368:\tlearn: 12855.5171842\ttotal: 1.66s\tremaining: 2.83s\n",
      "369:\tlearn: 12831.9421192\ttotal: 1.66s\tremaining: 2.83s\n",
      "370:\tlearn: 12814.7148265\ttotal: 1.66s\tremaining: 2.82s\n",
      "371:\tlearn: 12800.9492269\ttotal: 1.67s\tremaining: 2.82s\n",
      "372:\tlearn: 12779.7444136\ttotal: 1.67s\tremaining: 2.81s\n",
      "373:\tlearn: 12768.1161886\ttotal: 1.68s\tremaining: 2.8s\n",
      "374:\tlearn: 12742.3275246\ttotal: 1.68s\tremaining: 2.8s\n",
      "375:\tlearn: 12726.9453694\ttotal: 1.68s\tremaining: 2.79s\n",
      "376:\tlearn: 12707.9766293\ttotal: 1.69s\tremaining: 2.79s\n",
      "377:\tlearn: 12695.1212280\ttotal: 1.69s\tremaining: 2.78s\n",
      "378:\tlearn: 12691.4335772\ttotal: 1.69s\tremaining: 2.78s\n",
      "379:\tlearn: 12678.0845958\ttotal: 1.7s\tremaining: 2.77s\n",
      "380:\tlearn: 12659.2741127\ttotal: 1.7s\tremaining: 2.77s\n",
      "381:\tlearn: 12642.9101168\ttotal: 1.71s\tremaining: 2.76s\n",
      "382:\tlearn: 12619.4447706\ttotal: 1.71s\tremaining: 2.75s\n",
      "383:\tlearn: 12606.4478083\ttotal: 1.71s\tremaining: 2.75s\n",
      "384:\tlearn: 12581.0960778\ttotal: 1.72s\tremaining: 2.74s\n",
      "385:\tlearn: 12565.1178453\ttotal: 1.72s\tremaining: 2.74s\n",
      "386:\tlearn: 12542.4688283\ttotal: 1.73s\tremaining: 2.73s\n",
      "387:\tlearn: 12524.0011142\ttotal: 1.73s\tremaining: 2.73s\n",
      "388:\tlearn: 12509.6223893\ttotal: 1.73s\tremaining: 2.72s\n",
      "389:\tlearn: 12481.8722484\ttotal: 1.74s\tremaining: 2.72s\n",
      "390:\tlearn: 12465.6132403\ttotal: 1.74s\tremaining: 2.71s\n",
      "391:\tlearn: 12444.2672752\ttotal: 1.75s\tremaining: 2.71s\n",
      "392:\tlearn: 12419.0881971\ttotal: 1.75s\tremaining: 2.7s\n",
      "393:\tlearn: 12400.4189558\ttotal: 1.75s\tremaining: 2.7s\n",
      "394:\tlearn: 12378.0230651\ttotal: 1.76s\tremaining: 2.69s\n",
      "395:\tlearn: 12369.7573049\ttotal: 1.76s\tremaining: 2.69s\n",
      "396:\tlearn: 12353.2970214\ttotal: 1.76s\tremaining: 2.68s\n",
      "397:\tlearn: 12334.5806844\ttotal: 1.77s\tremaining: 2.67s\n",
      "398:\tlearn: 12330.6821551\ttotal: 1.77s\tremaining: 2.67s\n",
      "399:\tlearn: 12317.2280030\ttotal: 1.77s\tremaining: 2.66s\n",
      "400:\tlearn: 12287.3225139\ttotal: 1.78s\tremaining: 2.66s\n",
      "401:\tlearn: 12263.3407699\ttotal: 1.78s\tremaining: 2.66s\n",
      "402:\tlearn: 12238.7471354\ttotal: 1.8s\tremaining: 2.66s\n",
      "403:\tlearn: 12220.6866485\ttotal: 1.8s\tremaining: 2.65s\n",
      "404:\tlearn: 12201.3360250\ttotal: 1.8s\tremaining: 2.65s\n",
      "405:\tlearn: 12191.5869383\ttotal: 1.81s\tremaining: 2.64s\n",
      "406:\tlearn: 12170.9571590\ttotal: 1.81s\tremaining: 2.64s\n",
      "407:\tlearn: 12139.7799017\ttotal: 1.81s\tremaining: 2.63s\n",
      "408:\tlearn: 12133.7112858\ttotal: 1.82s\tremaining: 2.63s\n",
      "409:\tlearn: 12112.8473690\ttotal: 1.82s\tremaining: 2.62s\n",
      "410:\tlearn: 12100.2883061\ttotal: 1.83s\tremaining: 2.62s\n",
      "411:\tlearn: 12076.9915665\ttotal: 1.83s\tremaining: 2.61s\n",
      "412:\tlearn: 12068.1702998\ttotal: 1.83s\tremaining: 2.61s\n",
      "413:\tlearn: 12039.1697902\ttotal: 1.84s\tremaining: 2.6s\n",
      "414:\tlearn: 12022.4403572\ttotal: 1.84s\tremaining: 2.6s\n",
      "415:\tlearn: 12007.9905194\ttotal: 1.85s\tremaining: 2.59s\n",
      "416:\tlearn: 11993.4856138\ttotal: 1.85s\tremaining: 2.59s\n",
      "417:\tlearn: 11971.0011045\ttotal: 1.85s\tremaining: 2.58s\n",
      "418:\tlearn: 11956.7507960\ttotal: 1.86s\tremaining: 2.58s\n",
      "419:\tlearn: 11942.4870160\ttotal: 1.86s\tremaining: 2.57s\n",
      "420:\tlearn: 11937.3517755\ttotal: 1.87s\tremaining: 2.57s\n",
      "421:\tlearn: 11915.5760845\ttotal: 1.87s\tremaining: 2.56s\n",
      "422:\tlearn: 11889.1940847\ttotal: 1.87s\tremaining: 2.56s\n",
      "423:\tlearn: 11865.3577059\ttotal: 1.88s\tremaining: 2.55s\n",
      "424:\tlearn: 11849.3903445\ttotal: 1.88s\tremaining: 2.55s\n",
      "425:\tlearn: 11834.8567060\ttotal: 1.89s\tremaining: 2.54s\n",
      "426:\tlearn: 11825.1801678\ttotal: 1.89s\tremaining: 2.54s\n",
      "427:\tlearn: 11823.6488114\ttotal: 1.89s\tremaining: 2.53s\n",
      "428:\tlearn: 11805.7484996\ttotal: 1.9s\tremaining: 2.52s\n",
      "429:\tlearn: 11794.3786804\ttotal: 1.9s\tremaining: 2.52s\n",
      "430:\tlearn: 11768.1652530\ttotal: 1.91s\tremaining: 2.52s\n",
      "431:\tlearn: 11754.4811812\ttotal: 1.91s\tremaining: 2.51s\n",
      "432:\tlearn: 11738.2822883\ttotal: 1.91s\tremaining: 2.5s\n",
      "433:\tlearn: 11727.7181665\ttotal: 1.92s\tremaining: 2.5s\n",
      "434:\tlearn: 11724.9056157\ttotal: 1.92s\tremaining: 2.5s\n",
      "435:\tlearn: 11706.6325012\ttotal: 1.93s\tremaining: 2.49s\n",
      "436:\tlearn: 11682.3493437\ttotal: 1.93s\tremaining: 2.48s\n",
      "437:\tlearn: 11671.3923894\ttotal: 1.93s\tremaining: 2.48s\n",
      "438:\tlearn: 11669.9965820\ttotal: 1.94s\tremaining: 2.48s\n",
      "439:\tlearn: 11653.9926132\ttotal: 1.94s\tremaining: 2.47s\n",
      "440:\tlearn: 11652.5365757\ttotal: 1.94s\tremaining: 2.46s\n",
      "441:\tlearn: 11651.2035204\ttotal: 1.95s\tremaining: 2.46s\n",
      "442:\tlearn: 11634.4997366\ttotal: 1.95s\tremaining: 2.45s\n",
      "443:\tlearn: 11608.2300417\ttotal: 1.96s\tremaining: 2.45s\n",
      "444:\tlearn: 11598.0959418\ttotal: 1.96s\tremaining: 2.44s\n",
      "445:\tlearn: 11584.2985390\ttotal: 1.96s\tremaining: 2.44s\n",
      "446:\tlearn: 11569.8218706\ttotal: 1.97s\tremaining: 2.44s\n",
      "447:\tlearn: 11550.1943629\ttotal: 1.97s\tremaining: 2.43s\n",
      "448:\tlearn: 11536.9940376\ttotal: 1.98s\tremaining: 2.42s\n",
      "449:\tlearn: 11525.4048106\ttotal: 1.98s\tremaining: 2.42s\n",
      "450:\tlearn: 11517.6405385\ttotal: 1.99s\tremaining: 2.42s\n",
      "451:\tlearn: 11516.4255649\ttotal: 1.99s\tremaining: 2.42s\n",
      "452:\tlearn: 11502.2380317\ttotal: 2s\tremaining: 2.41s\n",
      "453:\tlearn: 11485.3572488\ttotal: 2s\tremaining: 2.41s\n",
      "454:\tlearn: 11462.8705365\ttotal: 2s\tremaining: 2.4s\n",
      "455:\tlearn: 11452.8090564\ttotal: 2.01s\tremaining: 2.4s\n",
      "456:\tlearn: 11439.9929050\ttotal: 2.01s\tremaining: 2.39s\n",
      "457:\tlearn: 11438.7744509\ttotal: 2.02s\tremaining: 2.39s\n",
      "458:\tlearn: 11426.4843574\ttotal: 2.02s\tremaining: 2.38s\n",
      "459:\tlearn: 11425.2477269\ttotal: 2.02s\tremaining: 2.38s\n",
      "460:\tlearn: 11413.6452542\ttotal: 2.03s\tremaining: 2.37s\n",
      "461:\tlearn: 11412.4043492\ttotal: 2.03s\tremaining: 2.37s\n",
      "462:\tlearn: 11394.4758153\ttotal: 2.04s\tremaining: 2.36s\n",
      "463:\tlearn: 11372.3197484\ttotal: 2.04s\tremaining: 2.35s\n",
      "464:\tlearn: 11350.4446269\ttotal: 2.04s\tremaining: 2.35s\n",
      "465:\tlearn: 11349.3012077\ttotal: 2.05s\tremaining: 2.35s\n",
      "466:\tlearn: 11329.4000640\ttotal: 2.05s\tremaining: 2.34s\n",
      "467:\tlearn: 11305.2974634\ttotal: 2.05s\tremaining: 2.33s\n",
      "468:\tlearn: 11287.5123892\ttotal: 2.06s\tremaining: 2.33s\n",
      "469:\tlearn: 11264.3802413\ttotal: 2.06s\tremaining: 2.33s\n",
      "470:\tlearn: 11244.0262191\ttotal: 2.06s\tremaining: 2.32s\n",
      "471:\tlearn: 11237.0970925\ttotal: 2.07s\tremaining: 2.31s\n",
      "472:\tlearn: 11215.2698480\ttotal: 2.07s\tremaining: 2.31s\n",
      "473:\tlearn: 11205.9801797\ttotal: 2.08s\tremaining: 2.31s\n",
      "474:\tlearn: 11186.4420511\ttotal: 2.08s\tremaining: 2.3s\n",
      "475:\tlearn: 11175.1631391\ttotal: 2.08s\tremaining: 2.29s\n",
      "476:\tlearn: 11156.8728377\ttotal: 2.09s\tremaining: 2.29s\n",
      "477:\tlearn: 11143.4672301\ttotal: 2.09s\tremaining: 2.29s\n",
      "478:\tlearn: 11124.1410085\ttotal: 2.1s\tremaining: 2.28s\n",
      "479:\tlearn: 11099.9321378\ttotal: 2.1s\tremaining: 2.27s\n",
      "480:\tlearn: 11077.6354961\ttotal: 2.1s\tremaining: 2.27s\n",
      "481:\tlearn: 11060.0558402\ttotal: 2.11s\tremaining: 2.27s\n",
      "482:\tlearn: 11039.9782559\ttotal: 2.11s\tremaining: 2.26s\n",
      "483:\tlearn: 11030.2739681\ttotal: 2.12s\tremaining: 2.26s\n",
      "484:\tlearn: 11019.6758563\ttotal: 2.12s\tremaining: 2.25s\n",
      "485:\tlearn: 11005.7839687\ttotal: 2.12s\tremaining: 2.25s\n",
      "486:\tlearn: 10992.0677514\ttotal: 2.13s\tremaining: 2.24s\n",
      "487:\tlearn: 10990.9330441\ttotal: 2.13s\tremaining: 2.24s\n",
      "488:\tlearn: 10975.7709127\ttotal: 2.13s\tremaining: 2.23s\n",
      "489:\tlearn: 10960.1848379\ttotal: 2.14s\tremaining: 2.23s\n",
      "490:\tlearn: 10956.8584335\ttotal: 2.14s\tremaining: 2.22s\n",
      "491:\tlearn: 10955.4699354\ttotal: 2.15s\tremaining: 2.22s\n",
      "492:\tlearn: 10934.8224274\ttotal: 2.15s\tremaining: 2.21s\n",
      "493:\tlearn: 10917.7372043\ttotal: 2.15s\tremaining: 2.21s\n",
      "494:\tlearn: 10904.6926780\ttotal: 2.16s\tremaining: 2.2s\n",
      "495:\tlearn: 10903.6070339\ttotal: 2.16s\tremaining: 2.2s\n",
      "496:\tlearn: 10883.6303546\ttotal: 2.17s\tremaining: 2.19s\n",
      "497:\tlearn: 10861.8123529\ttotal: 2.17s\tremaining: 2.19s\n",
      "498:\tlearn: 10844.8235892\ttotal: 2.17s\tremaining: 2.18s\n",
      "499:\tlearn: 10843.4378168\ttotal: 2.18s\tremaining: 2.18s\n",
      "500:\tlearn: 10842.0907520\ttotal: 2.19s\tremaining: 2.18s\n",
      "501:\tlearn: 10813.0784963\ttotal: 2.19s\tremaining: 2.17s\n",
      "502:\tlearn: 10795.2877272\ttotal: 2.2s\tremaining: 2.17s\n",
      "503:\tlearn: 10775.2878719\ttotal: 2.2s\tremaining: 2.17s\n",
      "504:\tlearn: 10761.7233132\ttotal: 2.21s\tremaining: 2.16s\n",
      "505:\tlearn: 10742.6799832\ttotal: 2.21s\tremaining: 2.16s\n",
      "506:\tlearn: 10725.6646368\ttotal: 2.22s\tremaining: 2.15s\n",
      "507:\tlearn: 10707.6999685\ttotal: 2.22s\tremaining: 2.15s\n",
      "508:\tlearn: 10692.5039237\ttotal: 2.22s\tremaining: 2.15s\n",
      "509:\tlearn: 10672.2804775\ttotal: 2.23s\tremaining: 2.14s\n",
      "510:\tlearn: 10663.2436787\ttotal: 2.23s\tremaining: 2.13s\n",
      "511:\tlearn: 10652.9133262\ttotal: 2.24s\tremaining: 2.13s\n",
      "512:\tlearn: 10633.2434919\ttotal: 2.24s\tremaining: 2.13s\n",
      "513:\tlearn: 10618.0284440\ttotal: 2.24s\tremaining: 2.12s\n",
      "514:\tlearn: 10605.9491703\ttotal: 2.25s\tremaining: 2.12s\n",
      "515:\tlearn: 10593.0637241\ttotal: 2.25s\tremaining: 2.11s\n",
      "516:\tlearn: 10574.8346023\ttotal: 2.26s\tremaining: 2.11s\n",
      "517:\tlearn: 10565.5316005\ttotal: 2.26s\tremaining: 2.1s\n",
      "518:\tlearn: 10549.1703261\ttotal: 2.26s\tremaining: 2.1s\n",
      "519:\tlearn: 10533.5225019\ttotal: 2.27s\tremaining: 2.09s\n",
      "520:\tlearn: 10521.3514365\ttotal: 2.27s\tremaining: 2.09s\n",
      "521:\tlearn: 10509.5298556\ttotal: 2.27s\tremaining: 2.08s\n",
      "522:\tlearn: 10496.1597977\ttotal: 2.28s\tremaining: 2.08s\n",
      "523:\tlearn: 10479.7642969\ttotal: 2.28s\tremaining: 2.07s\n",
      "524:\tlearn: 10466.4446321\ttotal: 2.29s\tremaining: 2.07s\n",
      "525:\tlearn: 10444.2380863\ttotal: 2.29s\tremaining: 2.06s\n",
      "526:\tlearn: 10424.2605256\ttotal: 2.29s\tremaining: 2.06s\n",
      "527:\tlearn: 10412.1878499\ttotal: 2.3s\tremaining: 2.06s\n",
      "528:\tlearn: 10396.6253095\ttotal: 2.3s\tremaining: 2.05s\n",
      "529:\tlearn: 10377.1425440\ttotal: 2.31s\tremaining: 2.04s\n",
      "530:\tlearn: 10357.4287294\ttotal: 2.31s\tremaining: 2.04s\n",
      "531:\tlearn: 10344.2129083\ttotal: 2.31s\tremaining: 2.04s\n",
      "532:\tlearn: 10327.5258144\ttotal: 2.32s\tremaining: 2.03s\n",
      "533:\tlearn: 10303.6474695\ttotal: 2.32s\tremaining: 2.03s\n",
      "534:\tlearn: 10301.9940776\ttotal: 2.33s\tremaining: 2.02s\n",
      "535:\tlearn: 10287.1973891\ttotal: 2.33s\tremaining: 2.02s\n",
      "536:\tlearn: 10267.6683655\ttotal: 2.33s\tremaining: 2.01s\n",
      "537:\tlearn: 10253.2951042\ttotal: 2.34s\tremaining: 2.01s\n",
      "538:\tlearn: 10243.7618459\ttotal: 2.34s\tremaining: 2s\n",
      "539:\tlearn: 10232.0244771\ttotal: 2.35s\tremaining: 2s\n",
      "540:\tlearn: 10219.5295615\ttotal: 2.35s\tremaining: 1.99s\n",
      "541:\tlearn: 10203.8843286\ttotal: 2.35s\tremaining: 1.99s\n",
      "542:\tlearn: 10192.1954512\ttotal: 2.36s\tremaining: 1.98s\n",
      "543:\tlearn: 10172.7626393\ttotal: 2.36s\tremaining: 1.98s\n",
      "544:\tlearn: 10163.0481113\ttotal: 2.36s\tremaining: 1.97s\n",
      "545:\tlearn: 10143.5648541\ttotal: 2.37s\tremaining: 1.97s\n",
      "546:\tlearn: 10127.1868467\ttotal: 2.37s\tremaining: 1.96s\n",
      "547:\tlearn: 10113.5977115\ttotal: 2.38s\tremaining: 1.96s\n",
      "548:\tlearn: 10102.4865570\ttotal: 2.38s\tremaining: 1.96s\n",
      "549:\tlearn: 10089.5388121\ttotal: 2.39s\tremaining: 1.96s\n",
      "550:\tlearn: 10078.7551908\ttotal: 2.39s\tremaining: 1.95s\n",
      "551:\tlearn: 10072.0115238\ttotal: 2.4s\tremaining: 1.95s\n",
      "552:\tlearn: 10059.3588915\ttotal: 2.4s\tremaining: 1.94s\n",
      "553:\tlearn: 10046.2024182\ttotal: 2.4s\tremaining: 1.94s\n",
      "554:\tlearn: 10031.7175430\ttotal: 2.41s\tremaining: 1.93s\n",
      "555:\tlearn: 10015.1521947\ttotal: 2.41s\tremaining: 1.93s\n",
      "556:\tlearn: 10000.3848962\ttotal: 2.42s\tremaining: 1.92s\n",
      "557:\tlearn: 9992.0564742\ttotal: 2.42s\tremaining: 1.92s\n",
      "558:\tlearn: 9976.3686324\ttotal: 2.42s\tremaining: 1.91s\n",
      "559:\tlearn: 9967.3082905\ttotal: 2.43s\tremaining: 1.91s\n",
      "560:\tlearn: 9950.9088525\ttotal: 2.43s\tremaining: 1.9s\n",
      "561:\tlearn: 9940.5998229\ttotal: 2.44s\tremaining: 1.9s\n",
      "562:\tlearn: 9934.0370459\ttotal: 2.44s\tremaining: 1.9s\n",
      "563:\tlearn: 9926.7370055\ttotal: 2.44s\tremaining: 1.89s\n",
      "564:\tlearn: 9912.0752319\ttotal: 2.45s\tremaining: 1.89s\n",
      "565:\tlearn: 9897.5701395\ttotal: 2.45s\tremaining: 1.88s\n",
      "566:\tlearn: 9877.5835650\ttotal: 2.46s\tremaining: 1.88s\n",
      "567:\tlearn: 9862.9137303\ttotal: 2.46s\tremaining: 1.87s\n",
      "568:\tlearn: 9846.4716672\ttotal: 2.46s\tremaining: 1.87s\n",
      "569:\tlearn: 9845.5581385\ttotal: 2.47s\tremaining: 1.86s\n",
      "570:\tlearn: 9837.3111227\ttotal: 2.47s\tremaining: 1.86s\n",
      "571:\tlearn: 9826.5831221\ttotal: 2.48s\tremaining: 1.85s\n",
      "572:\tlearn: 9824.4467434\ttotal: 2.48s\tremaining: 1.85s\n",
      "573:\tlearn: 9822.9853925\ttotal: 2.48s\tremaining: 1.84s\n",
      "574:\tlearn: 9803.3957160\ttotal: 2.49s\tremaining: 1.84s\n",
      "575:\tlearn: 9786.7773119\ttotal: 2.49s\tremaining: 1.83s\n",
      "576:\tlearn: 9769.0818121\ttotal: 2.5s\tremaining: 1.83s\n",
      "577:\tlearn: 9750.4012917\ttotal: 2.5s\tremaining: 1.82s\n",
      "578:\tlearn: 9739.2245923\ttotal: 2.5s\tremaining: 1.82s\n",
      "579:\tlearn: 9722.4542374\ttotal: 2.51s\tremaining: 1.82s\n",
      "580:\tlearn: 9703.9390357\ttotal: 2.51s\tremaining: 1.81s\n",
      "581:\tlearn: 9693.1979784\ttotal: 2.52s\tremaining: 1.81s\n",
      "582:\tlearn: 9677.5165663\ttotal: 2.52s\tremaining: 1.8s\n",
      "583:\tlearn: 9665.4745400\ttotal: 2.52s\tremaining: 1.8s\n",
      "584:\tlearn: 9654.9727676\ttotal: 2.53s\tremaining: 1.79s\n",
      "585:\tlearn: 9641.6036311\ttotal: 2.53s\tremaining: 1.79s\n",
      "586:\tlearn: 9636.0179500\ttotal: 2.54s\tremaining: 1.78s\n",
      "587:\tlearn: 9618.0907745\ttotal: 2.54s\tremaining: 1.78s\n",
      "588:\tlearn: 9609.1398570\ttotal: 2.54s\tremaining: 1.78s\n",
      "589:\tlearn: 9598.5114115\ttotal: 2.55s\tremaining: 1.77s\n",
      "590:\tlearn: 9590.0542088\ttotal: 2.55s\tremaining: 1.77s\n",
      "591:\tlearn: 9570.1011618\ttotal: 2.56s\tremaining: 1.76s\n",
      "592:\tlearn: 9555.0592810\ttotal: 2.56s\tremaining: 1.76s\n",
      "593:\tlearn: 9548.1488327\ttotal: 2.57s\tremaining: 1.75s\n",
      "594:\tlearn: 9535.8942157\ttotal: 2.57s\tremaining: 1.75s\n",
      "595:\tlearn: 9534.9346751\ttotal: 2.58s\tremaining: 1.75s\n",
      "596:\tlearn: 9528.0603572\ttotal: 2.58s\tremaining: 1.74s\n",
      "597:\tlearn: 9527.0729071\ttotal: 2.59s\tremaining: 1.74s\n",
      "598:\tlearn: 9512.7969337\ttotal: 2.59s\tremaining: 1.73s\n",
      "599:\tlearn: 9499.4645395\ttotal: 2.59s\tremaining: 1.73s\n",
      "600:\tlearn: 9488.8838808\ttotal: 2.6s\tremaining: 1.73s\n",
      "601:\tlearn: 9483.2444006\ttotal: 2.6s\tremaining: 1.72s\n",
      "602:\tlearn: 9467.8078209\ttotal: 2.61s\tremaining: 1.72s\n",
      "603:\tlearn: 9459.5198558\ttotal: 2.61s\tremaining: 1.71s\n",
      "604:\tlearn: 9437.0744329\ttotal: 2.62s\tremaining: 1.71s\n",
      "605:\tlearn: 9424.4090238\ttotal: 2.62s\tremaining: 1.7s\n",
      "606:\tlearn: 9420.0864769\ttotal: 2.62s\tremaining: 1.7s\n",
      "607:\tlearn: 9408.8098663\ttotal: 2.63s\tremaining: 1.69s\n",
      "608:\tlearn: 9401.4486602\ttotal: 2.63s\tremaining: 1.69s\n",
      "609:\tlearn: 9399.0394920\ttotal: 2.63s\tremaining: 1.68s\n",
      "610:\tlearn: 9372.5800295\ttotal: 2.64s\tremaining: 1.68s\n",
      "611:\tlearn: 9359.0609136\ttotal: 2.64s\tremaining: 1.68s\n",
      "612:\tlearn: 9354.4926705\ttotal: 2.65s\tremaining: 1.67s\n",
      "613:\tlearn: 9347.8324503\ttotal: 2.65s\tremaining: 1.67s\n",
      "614:\tlearn: 9334.7495344\ttotal: 2.65s\tremaining: 1.66s\n",
      "615:\tlearn: 9333.8861465\ttotal: 2.66s\tremaining: 1.66s\n",
      "616:\tlearn: 9327.4115822\ttotal: 2.66s\tremaining: 1.65s\n",
      "617:\tlearn: 9314.3104533\ttotal: 2.67s\tremaining: 1.65s\n",
      "618:\tlearn: 9300.7082825\ttotal: 2.67s\tremaining: 1.64s\n",
      "619:\tlearn: 9282.3946445\ttotal: 2.67s\tremaining: 1.64s\n",
      "620:\tlearn: 9271.5183858\ttotal: 2.68s\tremaining: 1.63s\n",
      "621:\tlearn: 9261.6387772\ttotal: 2.68s\tremaining: 1.63s\n",
      "622:\tlearn: 9247.5396404\ttotal: 2.69s\tremaining: 1.63s\n",
      "623:\tlearn: 9236.1488333\ttotal: 2.69s\tremaining: 1.62s\n",
      "624:\tlearn: 9227.4901332\ttotal: 2.69s\tremaining: 1.62s\n",
      "625:\tlearn: 9213.5379256\ttotal: 2.7s\tremaining: 1.61s\n",
      "626:\tlearn: 9206.9777281\ttotal: 2.7s\tremaining: 1.61s\n",
      "627:\tlearn: 9194.0749550\ttotal: 2.71s\tremaining: 1.6s\n",
      "628:\tlearn: 9181.7005383\ttotal: 2.71s\tremaining: 1.6s\n",
      "629:\tlearn: 9172.3054625\ttotal: 2.71s\tremaining: 1.59s\n",
      "630:\tlearn: 9162.2253399\ttotal: 2.72s\tremaining: 1.59s\n",
      "631:\tlearn: 9152.1445033\ttotal: 2.72s\tremaining: 1.58s\n",
      "632:\tlearn: 9140.0920615\ttotal: 2.73s\tremaining: 1.58s\n",
      "633:\tlearn: 9135.4019296\ttotal: 2.73s\tremaining: 1.57s\n",
      "634:\tlearn: 9119.0492206\ttotal: 2.73s\tremaining: 1.57s\n",
      "635:\tlearn: 9105.7215912\ttotal: 2.74s\tremaining: 1.57s\n",
      "636:\tlearn: 9094.2911947\ttotal: 2.74s\tremaining: 1.56s\n",
      "637:\tlearn: 9085.8939282\ttotal: 2.75s\tremaining: 1.56s\n",
      "638:\tlearn: 9071.1621166\ttotal: 2.75s\tremaining: 1.55s\n",
      "639:\tlearn: 9054.5454914\ttotal: 2.75s\tremaining: 1.55s\n",
      "640:\tlearn: 9046.2604305\ttotal: 2.76s\tremaining: 1.54s\n",
      "641:\tlearn: 9045.2658911\ttotal: 2.76s\tremaining: 1.54s\n",
      "642:\tlearn: 9031.5786810\ttotal: 2.77s\tremaining: 1.54s\n",
      "643:\tlearn: 9019.6419350\ttotal: 2.77s\tremaining: 1.53s\n",
      "644:\tlearn: 9014.1801637\ttotal: 2.78s\tremaining: 1.53s\n",
      "645:\tlearn: 9003.0922761\ttotal: 2.78s\tremaining: 1.52s\n",
      "646:\tlearn: 8995.2801018\ttotal: 2.79s\tremaining: 1.52s\n",
      "647:\tlearn: 8979.0972519\ttotal: 2.79s\tremaining: 1.52s\n",
      "648:\tlearn: 8970.2392467\ttotal: 2.79s\tremaining: 1.51s\n",
      "649:\tlearn: 8953.2256794\ttotal: 2.8s\tremaining: 1.51s\n",
      "650:\tlearn: 8946.0179636\ttotal: 2.8s\tremaining: 1.5s\n",
      "651:\tlearn: 8935.0197849\ttotal: 2.81s\tremaining: 1.5s\n",
      "652:\tlearn: 8921.2943979\ttotal: 2.81s\tremaining: 1.49s\n",
      "653:\tlearn: 8912.1032046\ttotal: 2.82s\tremaining: 1.49s\n",
      "654:\tlearn: 8905.9786996\ttotal: 2.82s\tremaining: 1.49s\n",
      "655:\tlearn: 8893.7119237\ttotal: 2.83s\tremaining: 1.48s\n",
      "656:\tlearn: 8888.1484732\ttotal: 2.83s\tremaining: 1.48s\n",
      "657:\tlearn: 8875.8219321\ttotal: 2.83s\tremaining: 1.47s\n",
      "658:\tlearn: 8863.4397668\ttotal: 2.84s\tremaining: 1.47s\n",
      "659:\tlearn: 8855.7706827\ttotal: 2.84s\tremaining: 1.46s\n",
      "660:\tlearn: 8839.7687758\ttotal: 2.84s\tremaining: 1.46s\n",
      "661:\tlearn: 8830.7207625\ttotal: 2.85s\tremaining: 1.45s\n",
      "662:\tlearn: 8819.4015052\ttotal: 2.85s\tremaining: 1.45s\n",
      "663:\tlearn: 8817.3177613\ttotal: 2.86s\tremaining: 1.45s\n",
      "664:\tlearn: 8807.2390563\ttotal: 2.86s\tremaining: 1.44s\n",
      "665:\tlearn: 8791.0682395\ttotal: 2.86s\tremaining: 1.44s\n",
      "666:\tlearn: 8781.7608606\ttotal: 2.87s\tremaining: 1.43s\n",
      "667:\tlearn: 8770.7598414\ttotal: 2.87s\tremaining: 1.43s\n",
      "668:\tlearn: 8753.5263419\ttotal: 2.88s\tremaining: 1.42s\n",
      "669:\tlearn: 8748.4908004\ttotal: 2.88s\tremaining: 1.42s\n",
      "670:\tlearn: 8732.0802708\ttotal: 2.88s\tremaining: 1.41s\n",
      "671:\tlearn: 8713.5075716\ttotal: 2.89s\tremaining: 1.41s\n",
      "672:\tlearn: 8700.9731106\ttotal: 2.89s\tremaining: 1.41s\n",
      "673:\tlearn: 8687.6096213\ttotal: 2.9s\tremaining: 1.4s\n",
      "674:\tlearn: 8678.5591435\ttotal: 2.9s\tremaining: 1.4s\n",
      "675:\tlearn: 8674.9344391\ttotal: 2.9s\tremaining: 1.39s\n",
      "676:\tlearn: 8668.6114930\ttotal: 2.91s\tremaining: 1.39s\n",
      "677:\tlearn: 8651.9969144\ttotal: 2.91s\tremaining: 1.38s\n",
      "678:\tlearn: 8650.8156494\ttotal: 2.92s\tremaining: 1.38s\n",
      "679:\tlearn: 8641.4255951\ttotal: 2.92s\tremaining: 1.38s\n",
      "680:\tlearn: 8630.3958490\ttotal: 2.93s\tremaining: 1.37s\n",
      "681:\tlearn: 8615.9796628\ttotal: 2.93s\tremaining: 1.37s\n",
      "682:\tlearn: 8609.5847254\ttotal: 2.94s\tremaining: 1.36s\n",
      "683:\tlearn: 8608.8566371\ttotal: 2.94s\tremaining: 1.36s\n",
      "684:\tlearn: 8602.7881345\ttotal: 2.94s\tremaining: 1.35s\n",
      "685:\tlearn: 8593.0771509\ttotal: 2.95s\tremaining: 1.35s\n",
      "686:\tlearn: 8579.6072118\ttotal: 2.96s\tremaining: 1.35s\n",
      "687:\tlearn: 8564.5313210\ttotal: 2.96s\tremaining: 1.34s\n",
      "688:\tlearn: 8551.9886507\ttotal: 2.97s\tremaining: 1.34s\n",
      "689:\tlearn: 8531.6728646\ttotal: 2.97s\tremaining: 1.33s\n",
      "690:\tlearn: 8525.4034607\ttotal: 2.98s\tremaining: 1.33s\n",
      "691:\tlearn: 8510.7062481\ttotal: 2.98s\tremaining: 1.33s\n",
      "692:\tlearn: 8494.7535163\ttotal: 2.98s\tremaining: 1.32s\n",
      "693:\tlearn: 8484.4423830\ttotal: 2.99s\tremaining: 1.32s\n",
      "694:\tlearn: 8474.3124459\ttotal: 2.99s\tremaining: 1.31s\n",
      "695:\tlearn: 8473.6575067\ttotal: 3s\tremaining: 1.31s\n",
      "696:\tlearn: 8468.5351942\ttotal: 3s\tremaining: 1.3s\n",
      "697:\tlearn: 8458.7401915\ttotal: 3s\tremaining: 1.3s\n",
      "698:\tlearn: 8458.2256360\ttotal: 3.01s\tremaining: 1.29s\n",
      "699:\tlearn: 8446.2769746\ttotal: 3.01s\tremaining: 1.29s\n",
      "700:\tlearn: 8442.6838860\ttotal: 3.02s\tremaining: 1.29s\n",
      "701:\tlearn: 8437.6926761\ttotal: 3.02s\tremaining: 1.28s\n",
      "702:\tlearn: 8434.2216450\ttotal: 3.02s\tremaining: 1.28s\n",
      "703:\tlearn: 8425.3095954\ttotal: 3.03s\tremaining: 1.27s\n",
      "704:\tlearn: 8416.7892709\ttotal: 3.03s\tremaining: 1.27s\n",
      "705:\tlearn: 8412.5328791\ttotal: 3.04s\tremaining: 1.26s\n",
      "706:\tlearn: 8407.7542336\ttotal: 3.04s\tremaining: 1.26s\n",
      "707:\tlearn: 8405.9386642\ttotal: 3.04s\tremaining: 1.26s\n",
      "708:\tlearn: 8398.1449647\ttotal: 3.05s\tremaining: 1.25s\n",
      "709:\tlearn: 8384.1041950\ttotal: 3.05s\tremaining: 1.25s\n",
      "710:\tlearn: 8375.7605140\ttotal: 3.06s\tremaining: 1.24s\n",
      "711:\tlearn: 8361.6601597\ttotal: 3.06s\tremaining: 1.24s\n",
      "712:\tlearn: 8354.9389156\ttotal: 3.06s\tremaining: 1.23s\n",
      "713:\tlearn: 8347.0301881\ttotal: 3.07s\tremaining: 1.23s\n",
      "714:\tlearn: 8340.6207345\ttotal: 3.07s\tremaining: 1.23s\n",
      "715:\tlearn: 8330.1057290\ttotal: 3.08s\tremaining: 1.22s\n",
      "716:\tlearn: 8325.7236601\ttotal: 3.08s\tremaining: 1.22s\n",
      "717:\tlearn: 8325.0274455\ttotal: 3.08s\tremaining: 1.21s\n",
      "718:\tlearn: 8306.7405604\ttotal: 3.09s\tremaining: 1.21s\n",
      "719:\tlearn: 8306.1780506\ttotal: 3.09s\tremaining: 1.2s\n",
      "720:\tlearn: 8302.8979425\ttotal: 3.1s\tremaining: 1.2s\n",
      "721:\tlearn: 8293.3946575\ttotal: 3.1s\tremaining: 1.19s\n",
      "722:\tlearn: 8292.5130936\ttotal: 3.1s\tremaining: 1.19s\n",
      "723:\tlearn: 8289.0041159\ttotal: 3.11s\tremaining: 1.19s\n",
      "724:\tlearn: 8279.3078141\ttotal: 3.11s\tremaining: 1.18s\n",
      "725:\tlearn: 8276.4906085\ttotal: 3.12s\tremaining: 1.18s\n",
      "726:\tlearn: 8270.1978391\ttotal: 3.12s\tremaining: 1.17s\n",
      "727:\tlearn: 8269.0023614\ttotal: 3.13s\tremaining: 1.17s\n",
      "728:\tlearn: 8253.0077122\ttotal: 3.13s\tremaining: 1.16s\n",
      "729:\tlearn: 8245.3915452\ttotal: 3.13s\tremaining: 1.16s\n",
      "730:\tlearn: 8237.6489688\ttotal: 3.14s\tremaining: 1.15s\n",
      "731:\tlearn: 8227.2218967\ttotal: 3.14s\tremaining: 1.15s\n",
      "732:\tlearn: 8215.7071524\ttotal: 3.15s\tremaining: 1.15s\n",
      "733:\tlearn: 8207.5927150\ttotal: 3.15s\tremaining: 1.14s\n",
      "734:\tlearn: 8196.9458556\ttotal: 3.16s\tremaining: 1.14s\n",
      "735:\tlearn: 8188.9860585\ttotal: 3.16s\tremaining: 1.13s\n",
      "736:\tlearn: 8182.5015731\ttotal: 3.17s\tremaining: 1.13s\n",
      "737:\tlearn: 8167.4846211\ttotal: 3.17s\tremaining: 1.13s\n",
      "738:\tlearn: 8153.1078639\ttotal: 3.18s\tremaining: 1.12s\n",
      "739:\tlearn: 8142.6126839\ttotal: 3.18s\tremaining: 1.12s\n",
      "740:\tlearn: 8136.9740002\ttotal: 3.19s\tremaining: 1.11s\n",
      "741:\tlearn: 8122.1429816\ttotal: 3.19s\tremaining: 1.11s\n",
      "742:\tlearn: 8116.0493575\ttotal: 3.19s\tremaining: 1.1s\n",
      "743:\tlearn: 8111.4592953\ttotal: 3.2s\tremaining: 1.1s\n",
      "744:\tlearn: 8098.5111795\ttotal: 3.2s\tremaining: 1.1s\n",
      "745:\tlearn: 8084.7485132\ttotal: 3.21s\tremaining: 1.09s\n",
      "746:\tlearn: 8073.8299972\ttotal: 3.21s\tremaining: 1.09s\n",
      "747:\tlearn: 8062.9533474\ttotal: 3.22s\tremaining: 1.08s\n",
      "748:\tlearn: 8057.1144997\ttotal: 3.22s\tremaining: 1.08s\n",
      "749:\tlearn: 8053.3233183\ttotal: 3.22s\tremaining: 1.07s\n",
      "750:\tlearn: 8052.7290324\ttotal: 3.23s\tremaining: 1.07s\n",
      "751:\tlearn: 8047.1424363\ttotal: 3.23s\tremaining: 1.07s\n",
      "752:\tlearn: 8034.6340272\ttotal: 3.24s\tremaining: 1.06s\n",
      "753:\tlearn: 8022.9307406\ttotal: 3.24s\tremaining: 1.06s\n",
      "754:\tlearn: 8014.3507322\ttotal: 3.25s\tremaining: 1.05s\n",
      "755:\tlearn: 8010.1325978\ttotal: 3.25s\tremaining: 1.05s\n",
      "756:\tlearn: 7999.5973548\ttotal: 3.25s\tremaining: 1.04s\n",
      "757:\tlearn: 7994.4600139\ttotal: 3.26s\tremaining: 1.04s\n",
      "758:\tlearn: 7984.5174168\ttotal: 3.26s\tremaining: 1.03s\n",
      "759:\tlearn: 7973.2599899\ttotal: 3.27s\tremaining: 1.03s\n",
      "760:\tlearn: 7963.4146198\ttotal: 3.27s\tremaining: 1.03s\n",
      "761:\tlearn: 7961.1646546\ttotal: 3.27s\tremaining: 1.02s\n",
      "762:\tlearn: 7959.2184308\ttotal: 3.28s\tremaining: 1.02s\n",
      "763:\tlearn: 7949.5742959\ttotal: 3.28s\tremaining: 1.01s\n",
      "764:\tlearn: 7945.8170793\ttotal: 3.29s\tremaining: 1.01s\n",
      "765:\tlearn: 7942.0014925\ttotal: 3.29s\tremaining: 1s\n",
      "766:\tlearn: 7934.4705811\ttotal: 3.29s\tremaining: 1s\n",
      "767:\tlearn: 7933.8058747\ttotal: 3.3s\tremaining: 996ms\n",
      "768:\tlearn: 7927.8741370\ttotal: 3.3s\tremaining: 992ms\n",
      "769:\tlearn: 7921.3879311\ttotal: 3.31s\tremaining: 988ms\n",
      "770:\tlearn: 7913.3849070\ttotal: 3.31s\tremaining: 983ms\n",
      "771:\tlearn: 7903.4524157\ttotal: 3.31s\tremaining: 979ms\n",
      "772:\tlearn: 7897.1475719\ttotal: 3.32s\tremaining: 975ms\n",
      "773:\tlearn: 7887.3474676\ttotal: 3.32s\tremaining: 970ms\n",
      "774:\tlearn: 7873.6305140\ttotal: 3.33s\tremaining: 966ms\n",
      "775:\tlearn: 7859.3159177\ttotal: 3.33s\tremaining: 962ms\n",
      "776:\tlearn: 7853.4777239\ttotal: 3.33s\tremaining: 957ms\n",
      "777:\tlearn: 7844.9521929\ttotal: 3.34s\tremaining: 953ms\n",
      "778:\tlearn: 7832.5992228\ttotal: 3.34s\tremaining: 949ms\n",
      "779:\tlearn: 7823.0861101\ttotal: 3.35s\tremaining: 944ms\n",
      "780:\tlearn: 7817.4503918\ttotal: 3.36s\tremaining: 941ms\n",
      "781:\tlearn: 7809.3086834\ttotal: 3.36s\tremaining: 937ms\n",
      "782:\tlearn: 7801.2609325\ttotal: 3.37s\tremaining: 933ms\n",
      "783:\tlearn: 7789.8728004\ttotal: 3.37s\tremaining: 929ms\n",
      "784:\tlearn: 7774.8030420\ttotal: 3.38s\tremaining: 924ms\n",
      "785:\tlearn: 7767.1553230\ttotal: 3.38s\tremaining: 920ms\n",
      "786:\tlearn: 7755.0519967\ttotal: 3.38s\tremaining: 916ms\n",
      "787:\tlearn: 7745.8192622\ttotal: 3.39s\tremaining: 911ms\n",
      "788:\tlearn: 7737.9665258\ttotal: 3.39s\tremaining: 907ms\n",
      "789:\tlearn: 7734.2675655\ttotal: 3.4s\tremaining: 903ms\n",
      "790:\tlearn: 7729.9488304\ttotal: 3.4s\tremaining: 898ms\n",
      "791:\tlearn: 7723.5509486\ttotal: 3.4s\tremaining: 894ms\n",
      "792:\tlearn: 7720.9095067\ttotal: 3.41s\tremaining: 890ms\n",
      "793:\tlearn: 7715.7708906\ttotal: 3.41s\tremaining: 885ms\n",
      "794:\tlearn: 7708.7635684\ttotal: 3.42s\tremaining: 881ms\n",
      "795:\tlearn: 7699.6871342\ttotal: 3.42s\tremaining: 876ms\n",
      "796:\tlearn: 7695.8356736\ttotal: 3.42s\tremaining: 872ms\n",
      "797:\tlearn: 7682.1663692\ttotal: 3.43s\tremaining: 868ms\n",
      "798:\tlearn: 7673.4809250\ttotal: 3.43s\tremaining: 863ms\n",
      "799:\tlearn: 7669.8074994\ttotal: 3.44s\tremaining: 859ms\n",
      "800:\tlearn: 7662.8354667\ttotal: 3.44s\tremaining: 855ms\n",
      "801:\tlearn: 7650.6638776\ttotal: 3.44s\tremaining: 850ms\n",
      "802:\tlearn: 7640.3404664\ttotal: 3.45s\tremaining: 846ms\n",
      "803:\tlearn: 7630.0211717\ttotal: 3.45s\tremaining: 842ms\n",
      "804:\tlearn: 7624.5770714\ttotal: 3.46s\tremaining: 838ms\n",
      "805:\tlearn: 7610.2968207\ttotal: 3.46s\tremaining: 833ms\n",
      "806:\tlearn: 7603.9413687\ttotal: 3.46s\tremaining: 829ms\n",
      "807:\tlearn: 7603.5153572\ttotal: 3.47s\tremaining: 825ms\n",
      "808:\tlearn: 7595.3157590\ttotal: 3.47s\tremaining: 820ms\n",
      "809:\tlearn: 7588.1127687\ttotal: 3.48s\tremaining: 816ms\n",
      "810:\tlearn: 7576.5853348\ttotal: 3.48s\tremaining: 812ms\n",
      "811:\tlearn: 7575.0370732\ttotal: 3.49s\tremaining: 807ms\n",
      "812:\tlearn: 7568.1403905\ttotal: 3.49s\tremaining: 803ms\n",
      "813:\tlearn: 7558.2811951\ttotal: 3.49s\tremaining: 798ms\n",
      "814:\tlearn: 7545.1579049\ttotal: 3.5s\tremaining: 794ms\n",
      "815:\tlearn: 7543.6215104\ttotal: 3.5s\tremaining: 790ms\n",
      "816:\tlearn: 7530.6139028\ttotal: 3.51s\tremaining: 785ms\n",
      "817:\tlearn: 7523.4049110\ttotal: 3.51s\tremaining: 781ms\n",
      "818:\tlearn: 7513.9720359\ttotal: 3.52s\tremaining: 777ms\n",
      "819:\tlearn: 7502.4049365\ttotal: 3.52s\tremaining: 773ms\n",
      "820:\tlearn: 7491.2290413\ttotal: 3.52s\tremaining: 768ms\n",
      "821:\tlearn: 7483.3360414\ttotal: 3.53s\tremaining: 764ms\n",
      "822:\tlearn: 7472.5403141\ttotal: 3.53s\tremaining: 760ms\n",
      "823:\tlearn: 7463.8776556\ttotal: 3.54s\tremaining: 755ms\n",
      "824:\tlearn: 7455.0436861\ttotal: 3.54s\tremaining: 751ms\n",
      "825:\tlearn: 7444.7110634\ttotal: 3.54s\tremaining: 747ms\n",
      "826:\tlearn: 7434.7668019\ttotal: 3.55s\tremaining: 742ms\n",
      "827:\tlearn: 7432.8853880\ttotal: 3.56s\tremaining: 739ms\n",
      "828:\tlearn: 7427.3936737\ttotal: 3.56s\tremaining: 735ms\n",
      "829:\tlearn: 7426.1382129\ttotal: 3.56s\tremaining: 730ms\n",
      "830:\tlearn: 7415.5376022\ttotal: 3.57s\tremaining: 726ms\n",
      "831:\tlearn: 7409.1701819\ttotal: 3.57s\tremaining: 722ms\n",
      "832:\tlearn: 7405.4771549\ttotal: 3.58s\tremaining: 717ms\n",
      "833:\tlearn: 7398.1915138\ttotal: 3.58s\tremaining: 713ms\n",
      "834:\tlearn: 7389.4791906\ttotal: 3.58s\tremaining: 708ms\n",
      "835:\tlearn: 7378.0818612\ttotal: 3.59s\tremaining: 704ms\n",
      "836:\tlearn: 7372.4418718\ttotal: 3.59s\tremaining: 700ms\n",
      "837:\tlearn: 7368.2532171\ttotal: 3.6s\tremaining: 695ms\n",
      "838:\tlearn: 7363.0994977\ttotal: 3.6s\tremaining: 691ms\n",
      "839:\tlearn: 7358.6210569\ttotal: 3.6s\tremaining: 687ms\n",
      "840:\tlearn: 7353.8155493\ttotal: 3.61s\tremaining: 683ms\n",
      "841:\tlearn: 7345.8965869\ttotal: 3.61s\tremaining: 678ms\n",
      "842:\tlearn: 7341.0603916\ttotal: 3.62s\tremaining: 674ms\n",
      "843:\tlearn: 7340.6371012\ttotal: 3.62s\tremaining: 670ms\n",
      "844:\tlearn: 7335.5783245\ttotal: 3.63s\tremaining: 665ms\n",
      "845:\tlearn: 7334.6604915\ttotal: 3.63s\tremaining: 661ms\n",
      "846:\tlearn: 7327.2611096\ttotal: 3.63s\tremaining: 657ms\n",
      "847:\tlearn: 7321.4652073\ttotal: 3.64s\tremaining: 652ms\n",
      "848:\tlearn: 7318.1781665\ttotal: 3.64s\tremaining: 648ms\n",
      "849:\tlearn: 7312.0078762\ttotal: 3.65s\tremaining: 644ms\n",
      "850:\tlearn: 7305.8099399\ttotal: 3.65s\tremaining: 639ms\n",
      "851:\tlearn: 7299.9538792\ttotal: 3.66s\tremaining: 635ms\n",
      "852:\tlearn: 7287.2697221\ttotal: 3.66s\tremaining: 631ms\n",
      "853:\tlearn: 7280.4693538\ttotal: 3.66s\tremaining: 627ms\n",
      "854:\tlearn: 7270.8548566\ttotal: 3.67s\tremaining: 622ms\n",
      "855:\tlearn: 7264.7774939\ttotal: 3.67s\tremaining: 618ms\n",
      "856:\tlearn: 7250.7548713\ttotal: 3.68s\tremaining: 614ms\n",
      "857:\tlearn: 7232.6153111\ttotal: 3.68s\tremaining: 609ms\n",
      "858:\tlearn: 7223.9396558\ttotal: 3.69s\tremaining: 605ms\n",
      "859:\tlearn: 7217.7326985\ttotal: 3.69s\tremaining: 601ms\n",
      "860:\tlearn: 7207.8268786\ttotal: 3.69s\tremaining: 596ms\n",
      "861:\tlearn: 7198.8032626\ttotal: 3.7s\tremaining: 592ms\n",
      "862:\tlearn: 7186.9187861\ttotal: 3.7s\tremaining: 588ms\n",
      "863:\tlearn: 7180.8571713\ttotal: 3.71s\tremaining: 583ms\n",
      "864:\tlearn: 7169.5244793\ttotal: 3.71s\tremaining: 579ms\n",
      "865:\tlearn: 7159.7037338\ttotal: 3.71s\tremaining: 575ms\n",
      "866:\tlearn: 7153.2515171\ttotal: 3.72s\tremaining: 570ms\n",
      "867:\tlearn: 7144.5984608\ttotal: 3.72s\tremaining: 566ms\n",
      "868:\tlearn: 7137.4809909\ttotal: 3.73s\tremaining: 562ms\n",
      "869:\tlearn: 7128.0742638\ttotal: 3.73s\tremaining: 557ms\n",
      "870:\tlearn: 7122.4068284\ttotal: 3.73s\tremaining: 553ms\n",
      "871:\tlearn: 7112.5832861\ttotal: 3.74s\tremaining: 549ms\n",
      "872:\tlearn: 7099.7060280\ttotal: 3.75s\tremaining: 545ms\n",
      "873:\tlearn: 7093.5993438\ttotal: 3.75s\tremaining: 541ms\n",
      "874:\tlearn: 7089.3374600\ttotal: 3.76s\tremaining: 537ms\n",
      "875:\tlearn: 7081.4940512\ttotal: 3.76s\tremaining: 532ms\n",
      "876:\tlearn: 7078.7848509\ttotal: 3.76s\tremaining: 528ms\n",
      "877:\tlearn: 7065.5668092\ttotal: 3.77s\tremaining: 524ms\n",
      "878:\tlearn: 7058.5432343\ttotal: 3.77s\tremaining: 519ms\n",
      "879:\tlearn: 7047.7483997\ttotal: 3.78s\tremaining: 515ms\n",
      "880:\tlearn: 7035.0518493\ttotal: 3.78s\tremaining: 511ms\n",
      "881:\tlearn: 7020.6809105\ttotal: 3.78s\tremaining: 506ms\n",
      "882:\tlearn: 7017.5013939\ttotal: 3.79s\tremaining: 502ms\n",
      "883:\tlearn: 7012.1724859\ttotal: 3.79s\tremaining: 498ms\n",
      "884:\tlearn: 7003.1180350\ttotal: 3.8s\tremaining: 493ms\n",
      "885:\tlearn: 6995.7635267\ttotal: 3.8s\tremaining: 489ms\n",
      "886:\tlearn: 6985.6214640\ttotal: 3.81s\tremaining: 485ms\n",
      "887:\tlearn: 6981.6548121\ttotal: 3.81s\tremaining: 480ms\n",
      "888:\tlearn: 6978.1691014\ttotal: 3.81s\tremaining: 476ms\n",
      "889:\tlearn: 6971.1404810\ttotal: 3.82s\tremaining: 472ms\n",
      "890:\tlearn: 6964.6644113\ttotal: 3.82s\tremaining: 468ms\n",
      "891:\tlearn: 6958.0524520\ttotal: 3.83s\tremaining: 463ms\n",
      "892:\tlearn: 6950.9789157\ttotal: 3.83s\tremaining: 459ms\n",
      "893:\tlearn: 6941.5643936\ttotal: 3.83s\tremaining: 455ms\n",
      "894:\tlearn: 6934.4769090\ttotal: 3.84s\tremaining: 450ms\n",
      "895:\tlearn: 6926.5500623\ttotal: 3.84s\tremaining: 446ms\n",
      "896:\tlearn: 6921.5823819\ttotal: 3.85s\tremaining: 442ms\n",
      "897:\tlearn: 6910.4570683\ttotal: 3.85s\tremaining: 437ms\n",
      "898:\tlearn: 6907.8263717\ttotal: 3.85s\tremaining: 433ms\n",
      "899:\tlearn: 6901.6995583\ttotal: 3.86s\tremaining: 429ms\n",
      "900:\tlearn: 6889.8397096\ttotal: 3.86s\tremaining: 424ms\n",
      "901:\tlearn: 6881.4372325\ttotal: 3.87s\tremaining: 420ms\n",
      "902:\tlearn: 6873.4048001\ttotal: 3.87s\tremaining: 416ms\n",
      "903:\tlearn: 6860.8315118\ttotal: 3.87s\tremaining: 411ms\n",
      "904:\tlearn: 6854.0503895\ttotal: 3.88s\tremaining: 407ms\n",
      "905:\tlearn: 6847.3725380\ttotal: 3.88s\tremaining: 403ms\n",
      "906:\tlearn: 6837.7677638\ttotal: 3.89s\tremaining: 398ms\n",
      "907:\tlearn: 6836.9510855\ttotal: 3.89s\tremaining: 394ms\n",
      "908:\tlearn: 6830.6751546\ttotal: 3.89s\tremaining: 390ms\n",
      "909:\tlearn: 6824.6148374\ttotal: 3.9s\tremaining: 385ms\n",
      "910:\tlearn: 6818.2250330\ttotal: 3.9s\tremaining: 381ms\n",
      "911:\tlearn: 6814.9739749\ttotal: 3.9s\tremaining: 377ms\n",
      "912:\tlearn: 6805.6188042\ttotal: 3.91s\tremaining: 373ms\n",
      "913:\tlearn: 6793.7764573\ttotal: 3.91s\tremaining: 368ms\n",
      "914:\tlearn: 6787.4709309\ttotal: 3.92s\tremaining: 364ms\n",
      "915:\tlearn: 6780.8424667\ttotal: 3.92s\tremaining: 360ms\n",
      "916:\tlearn: 6766.0370049\ttotal: 3.92s\tremaining: 355ms\n",
      "917:\tlearn: 6759.7838353\ttotal: 3.93s\tremaining: 351ms\n",
      "918:\tlearn: 6755.0568606\ttotal: 3.93s\tremaining: 347ms\n",
      "919:\tlearn: 6748.7877227\ttotal: 3.94s\tremaining: 342ms\n",
      "920:\tlearn: 6741.2417334\ttotal: 3.94s\tremaining: 338ms\n",
      "921:\tlearn: 6732.6143839\ttotal: 3.95s\tremaining: 334ms\n",
      "922:\tlearn: 6727.3722905\ttotal: 3.95s\tremaining: 330ms\n",
      "923:\tlearn: 6723.3153923\ttotal: 3.96s\tremaining: 326ms\n",
      "924:\tlearn: 6722.2793720\ttotal: 3.96s\tremaining: 321ms\n",
      "925:\tlearn: 6712.6596296\ttotal: 3.96s\tremaining: 317ms\n",
      "926:\tlearn: 6704.8069033\ttotal: 3.97s\tremaining: 313ms\n",
      "927:\tlearn: 6697.6150377\ttotal: 3.97s\tremaining: 308ms\n",
      "928:\tlearn: 6695.6256600\ttotal: 3.98s\tremaining: 304ms\n",
      "929:\tlearn: 6682.8221055\ttotal: 3.98s\tremaining: 300ms\n",
      "930:\tlearn: 6671.1689605\ttotal: 3.98s\tremaining: 295ms\n",
      "931:\tlearn: 6665.5492043\ttotal: 3.99s\tremaining: 291ms\n",
      "932:\tlearn: 6656.6977295\ttotal: 3.99s\tremaining: 287ms\n",
      "933:\tlearn: 6652.9422851\ttotal: 4s\tremaining: 282ms\n",
      "934:\tlearn: 6640.3708914\ttotal: 4s\tremaining: 278ms\n",
      "935:\tlearn: 6628.2261790\ttotal: 4s\tremaining: 274ms\n",
      "936:\tlearn: 6621.4015287\ttotal: 4.01s\tremaining: 270ms\n",
      "937:\tlearn: 6616.3380027\ttotal: 4.01s\tremaining: 265ms\n",
      "938:\tlearn: 6613.7439054\ttotal: 4.02s\tremaining: 261ms\n",
      "939:\tlearn: 6607.0741456\ttotal: 4.02s\tremaining: 257ms\n",
      "940:\tlearn: 6596.0541321\ttotal: 4.03s\tremaining: 252ms\n",
      "941:\tlearn: 6585.3563654\ttotal: 4.03s\tremaining: 248ms\n",
      "942:\tlearn: 6576.4706847\ttotal: 4.03s\tremaining: 244ms\n",
      "943:\tlearn: 6572.6354074\ttotal: 4.04s\tremaining: 239ms\n",
      "944:\tlearn: 6565.8855158\ttotal: 4.04s\tremaining: 235ms\n",
      "945:\tlearn: 6561.1516439\ttotal: 4.04s\tremaining: 231ms\n",
      "946:\tlearn: 6551.5356565\ttotal: 4.05s\tremaining: 227ms\n",
      "947:\tlearn: 6539.6933556\ttotal: 4.05s\tremaining: 222ms\n",
      "948:\tlearn: 6528.6122766\ttotal: 4.06s\tremaining: 218ms\n",
      "949:\tlearn: 6520.5893374\ttotal: 4.06s\tremaining: 214ms\n",
      "950:\tlearn: 6513.1805386\ttotal: 4.06s\tremaining: 209ms\n",
      "951:\tlearn: 6503.4895070\ttotal: 4.07s\tremaining: 205ms\n",
      "952:\tlearn: 6493.6245572\ttotal: 4.07s\tremaining: 201ms\n",
      "953:\tlearn: 6480.5549033\ttotal: 4.08s\tremaining: 197ms\n",
      "954:\tlearn: 6472.7676785\ttotal: 4.08s\tremaining: 192ms\n",
      "955:\tlearn: 6466.3399249\ttotal: 4.08s\tremaining: 188ms\n",
      "956:\tlearn: 6457.4684456\ttotal: 4.09s\tremaining: 184ms\n",
      "957:\tlearn: 6453.3458313\ttotal: 4.09s\tremaining: 179ms\n",
      "958:\tlearn: 6440.3009031\ttotal: 4.1s\tremaining: 175ms\n",
      "959:\tlearn: 6434.3646884\ttotal: 4.1s\tremaining: 171ms\n",
      "960:\tlearn: 6429.4257352\ttotal: 4.1s\tremaining: 167ms\n",
      "961:\tlearn: 6423.9804397\ttotal: 4.11s\tremaining: 162ms\n",
      "962:\tlearn: 6422.3891064\ttotal: 4.11s\tremaining: 158ms\n",
      "963:\tlearn: 6414.4190214\ttotal: 4.12s\tremaining: 154ms\n",
      "964:\tlearn: 6405.7315958\ttotal: 4.12s\tremaining: 149ms\n",
      "965:\tlearn: 6394.2812173\ttotal: 4.12s\tremaining: 145ms\n",
      "966:\tlearn: 6383.4041415\ttotal: 4.13s\tremaining: 141ms\n",
      "967:\tlearn: 6378.1003488\ttotal: 4.14s\tremaining: 137ms\n",
      "968:\tlearn: 6370.6241542\ttotal: 4.14s\tremaining: 133ms\n",
      "969:\tlearn: 6366.0440505\ttotal: 4.15s\tremaining: 128ms\n",
      "970:\tlearn: 6358.2267947\ttotal: 4.15s\tremaining: 124ms\n",
      "971:\tlearn: 6350.4708568\ttotal: 4.16s\tremaining: 120ms\n",
      "972:\tlearn: 6338.2479203\ttotal: 4.16s\tremaining: 115ms\n",
      "973:\tlearn: 6329.3629936\ttotal: 4.17s\tremaining: 111ms\n",
      "974:\tlearn: 6320.5721488\ttotal: 4.17s\tremaining: 107ms\n",
      "975:\tlearn: 6316.7540818\ttotal: 4.17s\tremaining: 103ms\n",
      "976:\tlearn: 6309.6247278\ttotal: 4.18s\tremaining: 98.4ms\n",
      "977:\tlearn: 6305.0649860\ttotal: 4.18s\tremaining: 94.1ms\n",
      "978:\tlearn: 6296.6143744\ttotal: 4.19s\tremaining: 89.8ms\n",
      "979:\tlearn: 6292.2883234\ttotal: 4.19s\tremaining: 85.6ms\n",
      "980:\tlearn: 6287.3322775\ttotal: 4.2s\tremaining: 81.3ms\n",
      "981:\tlearn: 6277.4292914\ttotal: 4.2s\tremaining: 77ms\n",
      "982:\tlearn: 6270.6943119\ttotal: 4.2s\tremaining: 72.7ms\n",
      "983:\tlearn: 6261.9375470\ttotal: 4.21s\tremaining: 68.4ms\n",
      "984:\tlearn: 6257.1933319\ttotal: 4.21s\tremaining: 64.2ms\n",
      "985:\tlearn: 6251.8760114\ttotal: 4.22s\tremaining: 59.9ms\n",
      "986:\tlearn: 6245.8229757\ttotal: 4.22s\tremaining: 55.6ms\n",
      "987:\tlearn: 6236.2347451\ttotal: 4.22s\tremaining: 51.3ms\n",
      "988:\tlearn: 6235.5123028\ttotal: 4.23s\tremaining: 47ms\n",
      "989:\tlearn: 6230.6824154\ttotal: 4.23s\tremaining: 42.8ms\n",
      "990:\tlearn: 6226.7895928\ttotal: 4.24s\tremaining: 38.5ms\n",
      "991:\tlearn: 6222.6216390\ttotal: 4.24s\tremaining: 34.2ms\n",
      "992:\tlearn: 6218.0543301\ttotal: 4.25s\tremaining: 29.9ms\n",
      "993:\tlearn: 6210.8360809\ttotal: 4.25s\tremaining: 25.7ms\n",
      "994:\tlearn: 6201.9010590\ttotal: 4.25s\tremaining: 21.4ms\n",
      "995:\tlearn: 6197.0428041\ttotal: 4.26s\tremaining: 17.1ms\n",
      "996:\tlearn: 6190.4684978\ttotal: 4.26s\tremaining: 12.8ms\n",
      "997:\tlearn: 6185.3965887\ttotal: 4.27s\tremaining: 8.55ms\n",
      "998:\tlearn: 6174.8663362\ttotal: 4.27s\tremaining: 4.27ms\n",
      "999:\tlearn: 6165.0777333\ttotal: 4.27s\tremaining: 0us\n"
     ]
    },
    {
     "data": {
      "text/plain": [
       "<catboost.core.CatBoostRegressor at 0x7efe27f925d0>"
      ]
     },
     "execution_count": 54,
     "metadata": {},
     "output_type": "execute_result"
    }
   ],
   "source": [
    "cat =CatBoostRegressor(random_state=69)\n",
    "cat.fit(X,y)"
   ]
  },
  {
   "cell_type": "code",
   "execution_count": 55,
   "metadata": {
    "execution": {
     "iopub.execute_input": "2020-10-18T18:22:39.436179Z",
     "iopub.status.busy": "2020-10-18T18:22:39.430541Z",
     "iopub.status.idle": "2020-10-18T18:22:39.448883Z",
     "shell.execute_reply": "2020-10-18T18:22:39.449498Z"
    },
    "papermill": {
     "duration": 0.177078,
     "end_time": "2020-10-18T18:22:39.449687",
     "exception": false,
     "start_time": "2020-10-18T18:22:39.272609",
     "status": "completed"
    },
    "tags": []
   },
   "outputs": [],
   "source": [
    "#Predicting the test data with catboost\n",
    "cat_preds=cat.predict(test_df)"
   ]
  },
  {
   "cell_type": "code",
   "execution_count": 56,
   "metadata": {
    "execution": {
     "iopub.execute_input": "2020-10-18T18:22:39.690905Z",
     "iopub.status.busy": "2020-10-18T18:22:39.690150Z",
     "iopub.status.idle": "2020-10-18T18:22:39.693422Z",
     "shell.execute_reply": "2020-10-18T18:22:39.692640Z"
    },
    "papermill": {
     "duration": 0.124173,
     "end_time": "2020-10-18T18:22:39.693556",
     "exception": false,
     "start_time": "2020-10-18T18:22:39.569383",
     "status": "completed"
    },
    "tags": []
   },
   "outputs": [],
   "source": [
    "cat_mean=cat_preds.mean()"
   ]
  },
  {
   "cell_type": "code",
   "execution_count": 57,
   "metadata": {
    "execution": {
     "iopub.execute_input": "2020-10-18T18:22:39.930306Z",
     "iopub.status.busy": "2020-10-18T18:22:39.929358Z",
     "iopub.status.idle": "2020-10-18T18:22:39.932136Z",
     "shell.execute_reply": "2020-10-18T18:22:39.931386Z"
    },
    "papermill": {
     "duration": 0.123153,
     "end_time": "2020-10-18T18:22:39.932275",
     "exception": false,
     "start_time": "2020-10-18T18:22:39.809122",
     "status": "completed"
    },
    "tags": []
   },
   "outputs": [],
   "source": [
    "# Saving the baseline's prediction mean\n",
    "randomf_mean=y_preds.mean()"
   ]
  },
  {
   "cell_type": "code",
   "execution_count": 58,
   "metadata": {
    "execution": {
     "iopub.execute_input": "2020-10-18T18:22:40.174465Z",
     "iopub.status.busy": "2020-10-18T18:22:40.173341Z",
     "iopub.status.idle": "2020-10-18T18:22:40.177672Z",
     "shell.execute_reply": "2020-10-18T18:22:40.176969Z"
    },
    "papermill": {
     "duration": 0.128044,
     "end_time": "2020-10-18T18:22:40.177792",
     "exception": false,
     "start_time": "2020-10-18T18:22:40.049748",
     "status": "completed"
    },
    "tags": []
   },
   "outputs": [
    {
     "data": {
      "text/plain": [
       "1002.0378971896425"
      ]
     },
     "execution_count": 58,
     "metadata": {},
     "output_type": "execute_result"
    }
   ],
   "source": [
    "# Checking how well our catboost's predictions are\n",
    "randomf_mean-cat_mean"
   ]
  },
  {
   "cell_type": "code",
   "execution_count": 59,
   "metadata": {
    "execution": {
     "iopub.execute_input": "2020-10-18T18:22:40.423156Z",
     "iopub.status.busy": "2020-10-18T18:22:40.421630Z",
     "iopub.status.idle": "2020-10-18T18:22:40.424402Z",
     "shell.execute_reply": "2020-10-18T18:22:40.425332Z"
    },
    "papermill": {
     "duration": 0.131144,
     "end_time": "2020-10-18T18:22:40.425577",
     "exception": false,
     "start_time": "2020-10-18T18:22:40.294433",
     "status": "completed"
    },
    "tags": []
   },
   "outputs": [],
   "source": [
    "boosted_csv=pd.DataFrame()\n",
    "boosted_csv[\"Id\"]=test_df[\"Id\"]\n",
    "boosted_csv[\"SalePrice\"]=cat_preds"
   ]
  },
  {
   "cell_type": "code",
   "execution_count": 60,
   "metadata": {
    "execution": {
     "iopub.execute_input": "2020-10-18T18:22:40.681394Z",
     "iopub.status.busy": "2020-10-18T18:22:40.680297Z",
     "iopub.status.idle": "2020-10-18T18:22:40.685872Z",
     "shell.execute_reply": "2020-10-18T18:22:40.684924Z"
    },
    "papermill": {
     "duration": 0.135392,
     "end_time": "2020-10-18T18:22:40.686044",
     "exception": false,
     "start_time": "2020-10-18T18:22:40.550652",
     "status": "completed"
    },
    "tags": []
   },
   "outputs": [
    {
     "data": {
      "text/html": [
       "<div>\n",
       "<style scoped>\n",
       "    .dataframe tbody tr th:only-of-type {\n",
       "        vertical-align: middle;\n",
       "    }\n",
       "\n",
       "    .dataframe tbody tr th {\n",
       "        vertical-align: top;\n",
       "    }\n",
       "\n",
       "    .dataframe thead th {\n",
       "        text-align: right;\n",
       "    }\n",
       "</style>\n",
       "<table border=\"1\" class=\"dataframe\">\n",
       "  <thead>\n",
       "    <tr style=\"text-align: right;\">\n",
       "      <th></th>\n",
       "      <th>Id</th>\n",
       "      <th>SalePrice</th>\n",
       "    </tr>\n",
       "  </thead>\n",
       "  <tbody>\n",
       "    <tr>\n",
       "      <th>0</th>\n",
       "      <td>1461</td>\n",
       "      <td>125975.847845</td>\n",
       "    </tr>\n",
       "    <tr>\n",
       "      <th>1</th>\n",
       "      <td>1462</td>\n",
       "      <td>164296.750939</td>\n",
       "    </tr>\n",
       "    <tr>\n",
       "      <th>2</th>\n",
       "      <td>1463</td>\n",
       "      <td>183700.205241</td>\n",
       "    </tr>\n",
       "    <tr>\n",
       "      <th>3</th>\n",
       "      <td>1464</td>\n",
       "      <td>194370.247861</td>\n",
       "    </tr>\n",
       "    <tr>\n",
       "      <th>4</th>\n",
       "      <td>1465</td>\n",
       "      <td>182950.873688</td>\n",
       "    </tr>\n",
       "  </tbody>\n",
       "</table>\n",
       "</div>"
      ],
      "text/plain": [
       "     Id      SalePrice\n",
       "0  1461  125975.847845\n",
       "1  1462  164296.750939\n",
       "2  1463  183700.205241\n",
       "3  1464  194370.247861\n",
       "4  1465  182950.873688"
      ]
     },
     "execution_count": 60,
     "metadata": {},
     "output_type": "execute_result"
    }
   ],
   "source": [
    "boosted_csv.head()"
   ]
  },
  {
   "cell_type": "code",
   "execution_count": 61,
   "metadata": {
    "execution": {
     "iopub.execute_input": "2020-10-18T18:22:40.929055Z",
     "iopub.status.busy": "2020-10-18T18:22:40.927997Z",
     "iopub.status.idle": "2020-10-18T18:22:40.940163Z",
     "shell.execute_reply": "2020-10-18T18:22:40.939327Z"
    },
    "papermill": {
     "duration": 0.134626,
     "end_time": "2020-10-18T18:22:40.940315",
     "exception": false,
     "start_time": "2020-10-18T18:22:40.805689",
     "status": "completed"
    },
    "tags": []
   },
   "outputs": [],
   "source": [
    "boosted_csv.to_csv(\"/kaggle/working/boosted.csv\",index=False)"
   ]
  },
  {
   "cell_type": "code",
   "execution_count": 62,
   "metadata": {
    "execution": {
     "iopub.execute_input": "2020-10-18T18:22:41.187075Z",
     "iopub.status.busy": "2020-10-18T18:22:41.186146Z",
     "iopub.status.idle": "2020-10-18T18:22:41.190893Z",
     "shell.execute_reply": "2020-10-18T18:22:41.190067Z"
    },
    "papermill": {
     "duration": 0.130641,
     "end_time": "2020-10-18T18:22:41.191045",
     "exception": false,
     "start_time": "2020-10-18T18:22:41.060404",
     "status": "completed"
    },
    "tags": []
   },
   "outputs": [
    {
     "data": {
      "text/plain": [
       "177370.03575282206"
      ]
     },
     "execution_count": 62,
     "metadata": {},
     "output_type": "execute_result"
    }
   ],
   "source": [
    "cat_mean"
   ]
  },
  {
   "cell_type": "markdown",
   "metadata": {
    "papermill": {
     "duration": 0.11898,
     "end_time": "2020-10-18T18:22:41.429378",
     "exception": false,
     "start_time": "2020-10-18T18:22:41.310398",
     "status": "completed"
    },
    "tags": []
   },
   "source": [
    "### Tuning the Catboost Regressor"
   ]
  },
  {
   "cell_type": "code",
   "execution_count": 63,
   "metadata": {
    "execution": {
     "iopub.execute_input": "2020-10-18T18:22:41.673509Z",
     "iopub.status.busy": "2020-10-18T18:22:41.672585Z",
     "iopub.status.idle": "2020-10-18T18:22:41.675779Z",
     "shell.execute_reply": "2020-10-18T18:22:41.675025Z"
    },
    "papermill": {
     "duration": 0.127533,
     "end_time": "2020-10-18T18:22:41.675910",
     "exception": false,
     "start_time": "2020-10-18T18:22:41.548377",
     "status": "completed"
    },
    "tags": []
   },
   "outputs": [],
   "source": [
    " model_CBR = CatBoostRegressor()"
   ]
  },
  {
   "cell_type": "code",
   "execution_count": 64,
   "metadata": {
    "execution": {
     "iopub.execute_input": "2020-10-18T18:22:41.924494Z",
     "iopub.status.busy": "2020-10-18T18:22:41.923471Z",
     "iopub.status.idle": "2020-10-18T18:22:41.927079Z",
     "shell.execute_reply": "2020-10-18T18:22:41.926430Z"
    },
    "papermill": {
     "duration": 0.130176,
     "end_time": "2020-10-18T18:22:41.927212",
     "exception": false,
     "start_time": "2020-10-18T18:22:41.797036",
     "status": "completed"
    },
    "tags": []
   },
   "outputs": [],
   "source": [
    "parameters = {'depth'         : [6,8,10],\n",
    "                  'learning_rate' : [0.01, 0.05, 0.1],\n",
    "                  'iterations'    : [30, 50]\n",
    "                 }\n"
   ]
  },
  {
   "cell_type": "code",
   "execution_count": 65,
   "metadata": {
    "execution": {
     "iopub.execute_input": "2020-10-18T18:22:42.173625Z",
     "iopub.status.busy": "2020-10-18T18:22:42.172548Z",
     "iopub.status.idle": "2020-10-18T18:22:42.176332Z",
     "shell.execute_reply": "2020-10-18T18:22:42.175553Z"
    },
    "papermill": {
     "duration": 0.129228,
     "end_time": "2020-10-18T18:22:42.176463",
     "exception": false,
     "start_time": "2020-10-18T18:22:42.047235",
     "status": "completed"
    },
    "tags": []
   },
   "outputs": [],
   "source": [
    "from sklearn.model_selection import GridSearchCV\n",
    "grid = GridSearchCV(estimator=model_CBR, param_grid = parameters, cv = 2, n_jobs=-1)"
   ]
  },
  {
   "cell_type": "code",
   "execution_count": 66,
   "metadata": {
    "execution": {
     "iopub.execute_input": "2020-10-18T18:22:42.420393Z",
     "iopub.status.busy": "2020-10-18T18:22:42.419533Z",
     "iopub.status.idle": "2020-10-18T18:23:08.916209Z",
     "shell.execute_reply": "2020-10-18T18:23:08.915208Z"
    },
    "papermill": {
     "duration": 26.621004,
     "end_time": "2020-10-18T18:23:08.916372",
     "exception": false,
     "start_time": "2020-10-18T18:22:42.295368",
     "status": "completed"
    },
    "tags": []
   },
   "outputs": [
    {
     "name": "stderr",
     "output_type": "stream",
     "text": [
      "/opt/conda/lib/python3.7/site-packages/joblib/externals/loky/process_executor.py:706: UserWarning: A worker stopped while some jobs were given to the executor. This can be caused by a too short worker timeout or by a memory leak.\n",
      "  \"timeout or by a memory leak.\", UserWarning\n"
     ]
    },
    {
     "name": "stdout",
     "output_type": "stream",
     "text": [
      "0:\tlearn: 74055.4090607\ttotal: 7.25ms\tremaining: 355ms\n",
      "1:\tlearn: 69641.0885164\ttotal: 14.1ms\tremaining: 338ms\n",
      "2:\tlearn: 65617.8190523\ttotal: 20ms\tremaining: 314ms\n",
      "3:\tlearn: 61687.6694355\ttotal: 25.6ms\tremaining: 295ms\n",
      "4:\tlearn: 58323.6611869\ttotal: 31.2ms\tremaining: 280ms\n",
      "5:\tlearn: 55404.6005222\ttotal: 37.1ms\tremaining: 272ms\n",
      "6:\tlearn: 52850.5208597\ttotal: 43ms\tremaining: 264ms\n",
      "7:\tlearn: 50426.3820929\ttotal: 47.9ms\tremaining: 252ms\n",
      "8:\tlearn: 47980.2723322\ttotal: 53.6ms\tremaining: 244ms\n",
      "9:\tlearn: 45830.6274322\ttotal: 59ms\tremaining: 236ms\n",
      "10:\tlearn: 44020.6736332\ttotal: 64ms\tremaining: 227ms\n",
      "11:\tlearn: 42303.8219154\ttotal: 69.7ms\tremaining: 221ms\n",
      "12:\tlearn: 40480.4814598\ttotal: 74.8ms\tremaining: 213ms\n",
      "13:\tlearn: 38690.9095656\ttotal: 80.1ms\tremaining: 206ms\n",
      "14:\tlearn: 37242.4170957\ttotal: 85.7ms\tremaining: 200ms\n",
      "15:\tlearn: 36133.2707258\ttotal: 91.4ms\tremaining: 194ms\n",
      "16:\tlearn: 35018.6201242\ttotal: 96.4ms\tremaining: 187ms\n",
      "17:\tlearn: 34046.1190854\ttotal: 102ms\tremaining: 181ms\n",
      "18:\tlearn: 33009.9173483\ttotal: 108ms\tremaining: 177ms\n",
      "19:\tlearn: 32160.6361266\ttotal: 114ms\tremaining: 170ms\n",
      "20:\tlearn: 31388.3829076\ttotal: 119ms\tremaining: 164ms\n",
      "21:\tlearn: 30557.5882654\ttotal: 124ms\tremaining: 158ms\n",
      "22:\tlearn: 29885.5861369\ttotal: 130ms\tremaining: 152ms\n",
      "23:\tlearn: 29107.0052446\ttotal: 135ms\tremaining: 146ms\n",
      "24:\tlearn: 28527.8642788\ttotal: 140ms\tremaining: 140ms\n",
      "25:\tlearn: 27948.8208586\ttotal: 146ms\tremaining: 135ms\n",
      "26:\tlearn: 27417.6052224\ttotal: 151ms\tremaining: 129ms\n",
      "27:\tlearn: 26878.3393656\ttotal: 157ms\tremaining: 123ms\n",
      "28:\tlearn: 26474.8683554\ttotal: 162ms\tremaining: 117ms\n",
      "29:\tlearn: 26089.0382365\ttotal: 168ms\tremaining: 112ms\n",
      "30:\tlearn: 25638.0200918\ttotal: 173ms\tremaining: 106ms\n",
      "31:\tlearn: 25169.3637716\ttotal: 178ms\tremaining: 100ms\n",
      "32:\tlearn: 24790.0732660\ttotal: 183ms\tremaining: 94.5ms\n",
      "33:\tlearn: 24495.8563889\ttotal: 188ms\tremaining: 88.7ms\n",
      "34:\tlearn: 24204.4615360\ttotal: 194ms\tremaining: 82.9ms\n",
      "35:\tlearn: 23910.3882486\ttotal: 199ms\tremaining: 77.4ms\n",
      "36:\tlearn: 23596.8586082\ttotal: 207ms\tremaining: 72.8ms\n",
      "37:\tlearn: 23352.8671755\ttotal: 213ms\tremaining: 67.3ms\n",
      "38:\tlearn: 23064.7181647\ttotal: 218ms\tremaining: 61.5ms\n",
      "39:\tlearn: 22837.8849043\ttotal: 223ms\tremaining: 55.7ms\n",
      "40:\tlearn: 22611.3793911\ttotal: 228ms\tremaining: 50.1ms\n",
      "41:\tlearn: 22406.0660789\ttotal: 234ms\tremaining: 44.5ms\n",
      "42:\tlearn: 22192.7417093\ttotal: 239ms\tremaining: 38.9ms\n",
      "43:\tlearn: 22010.5388665\ttotal: 244ms\tremaining: 33.3ms\n",
      "44:\tlearn: 21791.2665713\ttotal: 250ms\tremaining: 27.7ms\n",
      "45:\tlearn: 21611.2541191\ttotal: 255ms\tremaining: 22.2ms\n",
      "46:\tlearn: 21418.4327036\ttotal: 260ms\tremaining: 16.6ms\n",
      "47:\tlearn: 21222.4880776\ttotal: 265ms\tremaining: 11.1ms\n",
      "48:\tlearn: 21058.0338507\ttotal: 270ms\tremaining: 5.52ms\n",
      "49:\tlearn: 20940.3497908\ttotal: 276ms\tremaining: 0us\n"
     ]
    },
    {
     "data": {
      "text/plain": [
       "GridSearchCV(cv=2,\n",
       "             estimator=<catboost.core.CatBoostRegressor object at 0x7efe27f92290>,\n",
       "             n_jobs=-1,\n",
       "             param_grid={'depth': [6, 8, 10], 'iterations': [30, 50],\n",
       "                         'learning_rate': [0.01, 0.05, 0.1]})"
      ]
     },
     "execution_count": 66,
     "metadata": {},
     "output_type": "execute_result"
    }
   ],
   "source": [
    "grid.fit(X,y)"
   ]
  },
  {
   "cell_type": "code",
   "execution_count": 67,
   "metadata": {
    "execution": {
     "iopub.execute_input": "2020-10-18T18:23:09.182925Z",
     "iopub.status.busy": "2020-10-18T18:23:09.181486Z",
     "iopub.status.idle": "2020-10-18T18:23:09.187091Z",
     "shell.execute_reply": "2020-10-18T18:23:09.186407Z"
    },
    "papermill": {
     "duration": 0.140192,
     "end_time": "2020-10-18T18:23:09.187239",
     "exception": false,
     "start_time": "2020-10-18T18:23:09.047047",
     "status": "completed"
    },
    "tags": []
   },
   "outputs": [
    {
     "data": {
      "text/plain": [
       "0.8476259092861276"
      ]
     },
     "execution_count": 67,
     "metadata": {},
     "output_type": "execute_result"
    }
   ],
   "source": [
    "grid.best_score_"
   ]
  },
  {
   "cell_type": "code",
   "execution_count": 68,
   "metadata": {
    "execution": {
     "iopub.execute_input": "2020-10-18T18:23:09.449209Z",
     "iopub.status.busy": "2020-10-18T18:23:09.448196Z",
     "iopub.status.idle": "2020-10-18T18:23:09.452682Z",
     "shell.execute_reply": "2020-10-18T18:23:09.451889Z"
    },
    "papermill": {
     "duration": 0.138988,
     "end_time": "2020-10-18T18:23:09.452812",
     "exception": false,
     "start_time": "2020-10-18T18:23:09.313824",
     "status": "completed"
    },
    "tags": []
   },
   "outputs": [
    {
     "data": {
      "text/plain": [
       "{'depth': 6, 'iterations': 50, 'learning_rate': 0.1}"
      ]
     },
     "execution_count": 68,
     "metadata": {},
     "output_type": "execute_result"
    }
   ],
   "source": [
    "grid.best_params_"
   ]
  },
  {
   "cell_type": "code",
   "execution_count": 69,
   "metadata": {
    "execution": {
     "iopub.execute_input": "2020-10-18T18:23:09.757696Z",
     "iopub.status.busy": "2020-10-18T18:23:09.756903Z",
     "iopub.status.idle": "2020-10-18T18:23:09.760204Z",
     "shell.execute_reply": "2020-10-18T18:23:09.759408Z"
    },
    "papermill": {
     "duration": 0.154295,
     "end_time": "2020-10-18T18:23:09.760343",
     "exception": false,
     "start_time": "2020-10-18T18:23:09.606048",
     "status": "completed"
    },
    "tags": []
   },
   "outputs": [],
   "source": [
    "tuned_cat=CatBoostRegressor(depth=6,iterations=100, learning_rate= 0.1)"
   ]
  },
  {
   "cell_type": "code",
   "execution_count": 70,
   "metadata": {
    "execution": {
     "iopub.execute_input": "2020-10-18T18:23:10.063648Z",
     "iopub.status.busy": "2020-10-18T18:23:10.023715Z",
     "iopub.status.idle": "2020-10-18T18:23:10.616838Z",
     "shell.execute_reply": "2020-10-18T18:23:10.616115Z"
    },
    "papermill": {
     "duration": 0.73089,
     "end_time": "2020-10-18T18:23:10.617013",
     "exception": false,
     "start_time": "2020-10-18T18:23:09.886123",
     "status": "completed"
    },
    "tags": []
   },
   "outputs": [
    {
     "name": "stdout",
     "output_type": "stream",
     "text": [
      "0:\tlearn: 74055.4090607\ttotal: 4.6ms\tremaining: 455ms\n",
      "1:\tlearn: 69641.0885164\ttotal: 9.64ms\tremaining: 472ms\n",
      "2:\tlearn: 65617.8190523\ttotal: 13.9ms\tremaining: 450ms\n",
      "3:\tlearn: 61687.6694355\ttotal: 18.1ms\tremaining: 435ms\n",
      "4:\tlearn: 58323.6611869\ttotal: 22.4ms\tremaining: 426ms\n",
      "5:\tlearn: 55404.6005222\ttotal: 27.2ms\tremaining: 426ms\n",
      "6:\tlearn: 52850.5208597\ttotal: 31.8ms\tremaining: 422ms\n",
      "7:\tlearn: 50426.3820929\ttotal: 36.2ms\tremaining: 416ms\n",
      "8:\tlearn: 47980.2723322\ttotal: 41.4ms\tremaining: 418ms\n",
      "9:\tlearn: 45830.6274322\ttotal: 46.3ms\tremaining: 417ms\n",
      "10:\tlearn: 44020.6736332\ttotal: 51.3ms\tremaining: 415ms\n",
      "11:\tlearn: 42303.8219154\ttotal: 56.1ms\tremaining: 411ms\n",
      "12:\tlearn: 40480.4814598\ttotal: 60.4ms\tremaining: 404ms\n",
      "13:\tlearn: 38690.9095656\ttotal: 65ms\tremaining: 399ms\n",
      "14:\tlearn: 37242.4170957\ttotal: 69.3ms\tremaining: 393ms\n",
      "15:\tlearn: 36133.2707258\ttotal: 73.7ms\tremaining: 387ms\n",
      "16:\tlearn: 35018.6201242\ttotal: 77.8ms\tremaining: 380ms\n",
      "17:\tlearn: 34046.1190854\ttotal: 82ms\tremaining: 374ms\n",
      "18:\tlearn: 33009.9173483\ttotal: 86.3ms\tremaining: 368ms\n",
      "19:\tlearn: 32160.6361266\ttotal: 90.9ms\tremaining: 363ms\n",
      "20:\tlearn: 31388.3829076\ttotal: 95.3ms\tremaining: 359ms\n",
      "21:\tlearn: 30557.5882654\ttotal: 99.9ms\tremaining: 354ms\n",
      "22:\tlearn: 29885.5861369\ttotal: 105ms\tremaining: 351ms\n",
      "23:\tlearn: 29107.0052446\ttotal: 109ms\tremaining: 346ms\n",
      "24:\tlearn: 28527.8642788\ttotal: 114ms\tremaining: 342ms\n",
      "25:\tlearn: 27948.8208586\ttotal: 119ms\tremaining: 338ms\n",
      "26:\tlearn: 27417.6052224\ttotal: 123ms\tremaining: 333ms\n",
      "27:\tlearn: 26878.3393656\ttotal: 128ms\tremaining: 329ms\n",
      "28:\tlearn: 26474.8683554\ttotal: 132ms\tremaining: 324ms\n",
      "29:\tlearn: 26089.0382365\ttotal: 136ms\tremaining: 318ms\n",
      "30:\tlearn: 25638.0200918\ttotal: 141ms\tremaining: 313ms\n",
      "31:\tlearn: 25169.3637716\ttotal: 145ms\tremaining: 309ms\n",
      "32:\tlearn: 24790.0732660\ttotal: 149ms\tremaining: 303ms\n",
      "33:\tlearn: 24495.8563889\ttotal: 154ms\tremaining: 298ms\n",
      "34:\tlearn: 24204.4615360\ttotal: 158ms\tremaining: 293ms\n",
      "35:\tlearn: 23910.3882486\ttotal: 162ms\tremaining: 288ms\n",
      "36:\tlearn: 23596.8586082\ttotal: 166ms\tremaining: 283ms\n",
      "37:\tlearn: 23352.8671755\ttotal: 171ms\tremaining: 278ms\n",
      "38:\tlearn: 23064.7181647\ttotal: 175ms\tremaining: 274ms\n",
      "39:\tlearn: 22837.8849043\ttotal: 179ms\tremaining: 269ms\n",
      "40:\tlearn: 22611.3793911\ttotal: 184ms\tremaining: 264ms\n",
      "41:\tlearn: 22406.0660789\ttotal: 188ms\tremaining: 259ms\n",
      "42:\tlearn: 22192.7417093\ttotal: 192ms\tremaining: 255ms\n",
      "43:\tlearn: 22010.5388665\ttotal: 198ms\tremaining: 252ms\n",
      "44:\tlearn: 21791.2665713\ttotal: 206ms\tremaining: 251ms\n",
      "45:\tlearn: 21611.2541191\ttotal: 211ms\tremaining: 248ms\n",
      "46:\tlearn: 21418.4327036\ttotal: 217ms\tremaining: 244ms\n",
      "47:\tlearn: 21222.4880776\ttotal: 222ms\tremaining: 240ms\n",
      "48:\tlearn: 21058.0338507\ttotal: 227ms\tremaining: 236ms\n",
      "49:\tlearn: 20940.3497908\ttotal: 233ms\tremaining: 233ms\n",
      "50:\tlearn: 20804.5529433\ttotal: 238ms\tremaining: 229ms\n",
      "51:\tlearn: 20631.6564304\ttotal: 242ms\tremaining: 224ms\n",
      "52:\tlearn: 20476.8170573\ttotal: 246ms\tremaining: 218ms\n",
      "53:\tlearn: 20350.8674976\ttotal: 250ms\tremaining: 213ms\n",
      "54:\tlearn: 20197.6080919\ttotal: 254ms\tremaining: 208ms\n",
      "55:\tlearn: 20126.7436495\ttotal: 259ms\tremaining: 203ms\n",
      "56:\tlearn: 19999.4420549\ttotal: 263ms\tremaining: 198ms\n",
      "57:\tlearn: 19870.8408592\ttotal: 267ms\tremaining: 193ms\n",
      "58:\tlearn: 19774.3353334\ttotal: 270ms\tremaining: 188ms\n",
      "59:\tlearn: 19621.2005265\ttotal: 274ms\tremaining: 183ms\n",
      "60:\tlearn: 19480.8475420\ttotal: 279ms\tremaining: 178ms\n",
      "61:\tlearn: 19390.0873558\ttotal: 283ms\tremaining: 174ms\n",
      "62:\tlearn: 19304.8913875\ttotal: 287ms\tremaining: 169ms\n",
      "63:\tlearn: 19193.6308680\ttotal: 291ms\tremaining: 164ms\n",
      "64:\tlearn: 19139.6046375\ttotal: 296ms\tremaining: 159ms\n",
      "65:\tlearn: 19050.2461442\ttotal: 300ms\tremaining: 154ms\n",
      "66:\tlearn: 18952.6568944\ttotal: 305ms\tremaining: 150ms\n",
      "67:\tlearn: 18902.5517203\ttotal: 310ms\tremaining: 146ms\n",
      "68:\tlearn: 18824.1781513\ttotal: 315ms\tremaining: 141ms\n",
      "69:\tlearn: 18746.9111737\ttotal: 319ms\tremaining: 137ms\n",
      "70:\tlearn: 18657.1952291\ttotal: 323ms\tremaining: 132ms\n",
      "71:\tlearn: 18537.5421525\ttotal: 328ms\tremaining: 127ms\n",
      "72:\tlearn: 18436.6690431\ttotal: 332ms\tremaining: 123ms\n",
      "73:\tlearn: 18374.3928598\ttotal: 336ms\tremaining: 118ms\n",
      "74:\tlearn: 18238.8973041\ttotal: 340ms\tremaining: 113ms\n",
      "75:\tlearn: 18138.9638762\ttotal: 344ms\tremaining: 109ms\n",
      "76:\tlearn: 18057.6413953\ttotal: 348ms\tremaining: 104ms\n",
      "77:\tlearn: 17888.7236901\ttotal: 352ms\tremaining: 99.4ms\n",
      "78:\tlearn: 17776.6539203\ttotal: 356ms\tremaining: 94.7ms\n",
      "79:\tlearn: 17686.7923607\ttotal: 360ms\tremaining: 90.1ms\n",
      "80:\tlearn: 17636.4711245\ttotal: 365ms\tremaining: 85.5ms\n",
      "81:\tlearn: 17578.9826771\ttotal: 369ms\tremaining: 81ms\n",
      "82:\tlearn: 17439.5565150\ttotal: 374ms\tremaining: 76.5ms\n",
      "83:\tlearn: 17385.6654641\ttotal: 378ms\tremaining: 72ms\n",
      "84:\tlearn: 17297.3819895\ttotal: 382ms\tremaining: 67.4ms\n",
      "85:\tlearn: 17218.0949547\ttotal: 388ms\tremaining: 63.2ms\n",
      "86:\tlearn: 17152.0132104\ttotal: 396ms\tremaining: 59.2ms\n",
      "87:\tlearn: 17059.0940513\ttotal: 402ms\tremaining: 54.8ms\n",
      "88:\tlearn: 17019.8884293\ttotal: 406ms\tremaining: 50.2ms\n",
      "89:\tlearn: 16960.3175266\ttotal: 410ms\tremaining: 45.6ms\n",
      "90:\tlearn: 16907.7155880\ttotal: 414ms\tremaining: 41ms\n",
      "91:\tlearn: 16814.3515022\ttotal: 418ms\tremaining: 36.4ms\n",
      "92:\tlearn: 16721.4194782\ttotal: 423ms\tremaining: 31.8ms\n",
      "93:\tlearn: 16647.2965524\ttotal: 427ms\tremaining: 27.3ms\n",
      "94:\tlearn: 16620.9914998\ttotal: 431ms\tremaining: 22.7ms\n",
      "95:\tlearn: 16521.0309282\ttotal: 436ms\tremaining: 18.2ms\n",
      "96:\tlearn: 16474.6905397\ttotal: 441ms\tremaining: 13.6ms\n",
      "97:\tlearn: 16352.5916728\ttotal: 445ms\tremaining: 9.08ms\n",
      "98:\tlearn: 16308.1936610\ttotal: 449ms\tremaining: 4.54ms\n",
      "99:\tlearn: 16224.5078080\ttotal: 454ms\tremaining: 0us\n"
     ]
    },
    {
     "data": {
      "text/plain": [
       "<catboost.core.CatBoostRegressor at 0x7efe278bfc90>"
      ]
     },
     "execution_count": 70,
     "metadata": {},
     "output_type": "execute_result"
    }
   ],
   "source": [
    "tuned_cat.fit(X,y)"
   ]
  },
  {
   "cell_type": "code",
   "execution_count": 71,
   "metadata": {
    "execution": {
     "iopub.execute_input": "2020-10-18T18:23:10.913009Z",
     "iopub.status.busy": "2020-10-18T18:23:10.907537Z",
     "iopub.status.idle": "2020-10-18T18:23:10.947473Z",
     "shell.execute_reply": "2020-10-18T18:23:10.946630Z"
    },
    "papermill": {
     "duration": 0.19434,
     "end_time": "2020-10-18T18:23:10.947632",
     "exception": false,
     "start_time": "2020-10-18T18:23:10.753292",
     "status": "completed"
    },
    "tags": []
   },
   "outputs": [],
   "source": [
    "tuned_cat_predicts=tuned_cat.predict(test_df)"
   ]
  },
  {
   "cell_type": "code",
   "execution_count": 72,
   "metadata": {
    "execution": {
     "iopub.execute_input": "2020-10-18T18:23:11.223898Z",
     "iopub.status.busy": "2020-10-18T18:23:11.223095Z",
     "iopub.status.idle": "2020-10-18T18:23:11.227342Z",
     "shell.execute_reply": "2020-10-18T18:23:11.226494Z"
    },
    "papermill": {
     "duration": 0.144594,
     "end_time": "2020-10-18T18:23:11.227483",
     "exception": false,
     "start_time": "2020-10-18T18:23:11.082889",
     "status": "completed"
    },
    "tags": []
   },
   "outputs": [],
   "source": [
    "tuned_mean=tuned_cat_predicts.mean()"
   ]
  },
  {
   "cell_type": "code",
   "execution_count": 73,
   "metadata": {
    "execution": {
     "iopub.execute_input": "2020-10-18T18:23:11.512214Z",
     "iopub.status.busy": "2020-10-18T18:23:11.510608Z",
     "iopub.status.idle": "2020-10-18T18:23:11.515883Z",
     "shell.execute_reply": "2020-10-18T18:23:11.516633Z"
    },
    "papermill": {
     "duration": 0.156529,
     "end_time": "2020-10-18T18:23:11.516815",
     "exception": false,
     "start_time": "2020-10-18T18:23:11.360286",
     "status": "completed"
    },
    "tags": []
   },
   "outputs": [
    {
     "data": {
      "text/plain": [
       "177816.12675233363"
      ]
     },
     "execution_count": 73,
     "metadata": {},
     "output_type": "execute_result"
    }
   ],
   "source": [
    "tuned_mean"
   ]
  },
  {
   "cell_type": "markdown",
   "metadata": {
    "papermill": {
     "duration": 0.14464,
     "end_time": "2020-10-18T18:23:11.801874",
     "exception": false,
     "start_time": "2020-10-18T18:23:11.657234",
     "status": "completed"
    },
    "tags": []
   },
   "source": [
    "### Since Checking the Tuned catboost performance was not satisfying now going on with Xgboost"
   ]
  },
  {
   "cell_type": "code",
   "execution_count": 74,
   "metadata": {
    "execution": {
     "iopub.execute_input": "2020-10-18T18:23:12.080402Z",
     "iopub.status.busy": "2020-10-18T18:23:12.079510Z",
     "iopub.status.idle": "2020-10-18T18:23:13.157235Z",
     "shell.execute_reply": "2020-10-18T18:23:13.156370Z"
    },
    "papermill": {
     "duration": 1.219317,
     "end_time": "2020-10-18T18:23:13.157374",
     "exception": false,
     "start_time": "2020-10-18T18:23:11.938057",
     "status": "completed"
    },
    "tags": []
   },
   "outputs": [],
   "source": [
    "import xgboost as xgb"
   ]
  },
  {
   "cell_type": "code",
   "execution_count": 75,
   "metadata": {
    "execution": {
     "iopub.execute_input": "2020-10-18T18:23:13.432516Z",
     "iopub.status.busy": "2020-10-18T18:23:13.431653Z",
     "iopub.status.idle": "2020-10-18T18:23:13.435776Z",
     "shell.execute_reply": "2020-10-18T18:23:13.434975Z"
    },
    "papermill": {
     "duration": 0.144886,
     "end_time": "2020-10-18T18:23:13.435910",
     "exception": false,
     "start_time": "2020-10-18T18:23:13.291024",
     "status": "completed"
    },
    "tags": []
   },
   "outputs": [],
   "source": [
    "xg_reg = xgb.XGBRegressor(objective ='reg:linear', colsample_bytree = 0.3, learning_rate = 0.1,\n",
    "                max_depth = 5, alpha = 10, n_estimators = 10)"
   ]
  },
  {
   "cell_type": "code",
   "execution_count": 76,
   "metadata": {
    "execution": {
     "iopub.execute_input": "2020-10-18T18:23:13.700245Z",
     "iopub.status.busy": "2020-10-18T18:23:13.699303Z",
     "iopub.status.idle": "2020-10-18T18:23:13.773882Z",
     "shell.execute_reply": "2020-10-18T18:23:13.774455Z"
    },
    "papermill": {
     "duration": 0.20912,
     "end_time": "2020-10-18T18:23:13.774625",
     "exception": false,
     "start_time": "2020-10-18T18:23:13.565505",
     "status": "completed"
    },
    "tags": []
   },
   "outputs": [],
   "source": [
    "data_dmatrix = xgb.DMatrix(data=X,label=y)"
   ]
  },
  {
   "cell_type": "markdown",
   "metadata": {
    "papermill": {
     "duration": 0.130191,
     "end_time": "2020-10-18T18:23:14.031531",
     "exception": false,
     "start_time": "2020-10-18T18:23:13.901340",
     "status": "completed"
    },
    "tags": []
   },
   "source": [
    "### XG boost accepts the data as in the form of matrix "
   ]
  },
  {
   "cell_type": "code",
   "execution_count": 77,
   "metadata": {
    "execution": {
     "iopub.execute_input": "2020-10-18T18:23:14.297677Z",
     "iopub.status.busy": "2020-10-18T18:23:14.296566Z",
     "iopub.status.idle": "2020-10-18T18:23:14.315132Z",
     "shell.execute_reply": "2020-10-18T18:23:14.313862Z"
    },
    "papermill": {
     "duration": 0.154963,
     "end_time": "2020-10-18T18:23:14.315338",
     "exception": false,
     "start_time": "2020-10-18T18:23:14.160375",
     "status": "completed"
    },
    "tags": []
   },
   "outputs": [],
   "source": [
    "\n",
    "train_x = X.values\n",
    "test_x = test_df.values"
   ]
  },
  {
   "cell_type": "code",
   "execution_count": 78,
   "metadata": {
    "execution": {
     "iopub.execute_input": "2020-10-18T18:23:14.608309Z",
     "iopub.status.busy": "2020-10-18T18:23:14.607517Z",
     "iopub.status.idle": "2020-10-18T18:23:14.666945Z",
     "shell.execute_reply": "2020-10-18T18:23:14.668167Z"
    },
    "papermill": {
     "duration": 0.217418,
     "end_time": "2020-10-18T18:23:14.668361",
     "exception": false,
     "start_time": "2020-10-18T18:23:14.450943",
     "status": "completed"
    },
    "tags": []
   },
   "outputs": [
    {
     "name": "stdout",
     "output_type": "stream",
     "text": [
      "[18:23:14] WARNING: ../src/objective/regression_obj.cu:174: reg:linear is now deprecated in favor of reg:squarederror.\n",
      "[18:23:14] WARNING: ../src/objective/regression_obj.cu:174: reg:linear is now deprecated in favor of reg:squarederror.\n"
     ]
    },
    {
     "data": {
      "text/plain": [
       "XGBRegressor(alpha=10, base_score=0.5, booster='gbtree', colsample_bylevel=1,\n",
       "             colsample_bynode=1, colsample_bytree=0.3, gamma=0, gpu_id=-1,\n",
       "             importance_type='gain', interaction_constraints='',\n",
       "             learning_rate=0.1, max_delta_step=0, max_depth=5,\n",
       "             min_child_weight=1, missing=nan, monotone_constraints='()',\n",
       "             n_estimators=10, n_jobs=0, num_parallel_tree=1,\n",
       "             objective='reg:linear', random_state=0, reg_alpha=10, reg_lambda=1,\n",
       "             scale_pos_weight=1, subsample=1, tree_method='exact',\n",
       "             validate_parameters=1, verbosity=None)"
      ]
     },
     "execution_count": 78,
     "metadata": {},
     "output_type": "execute_result"
    }
   ],
   "source": [
    "xg_reg.fit(train_x,y)"
   ]
  },
  {
   "cell_type": "code",
   "execution_count": 79,
   "metadata": {
    "execution": {
     "iopub.execute_input": "2020-10-18T18:23:14.960907Z",
     "iopub.status.busy": "2020-10-18T18:23:14.959825Z",
     "iopub.status.idle": "2020-10-18T18:23:14.992545Z",
     "shell.execute_reply": "2020-10-18T18:23:14.991453Z"
    },
    "papermill": {
     "duration": 0.170213,
     "end_time": "2020-10-18T18:23:14.992712",
     "exception": false,
     "start_time": "2020-10-18T18:23:14.822499",
     "status": "completed"
    },
    "tags": []
   },
   "outputs": [],
   "source": [
    "xg_predicts=xg_reg.predict(test_x)"
   ]
  },
  {
   "cell_type": "code",
   "execution_count": 80,
   "metadata": {
    "execution": {
     "iopub.execute_input": "2020-10-18T18:23:15.294467Z",
     "iopub.status.busy": "2020-10-18T18:23:15.293119Z",
     "iopub.status.idle": "2020-10-18T18:23:15.298442Z",
     "shell.execute_reply": "2020-10-18T18:23:15.299069Z"
    },
    "papermill": {
     "duration": 0.147709,
     "end_time": "2020-10-18T18:23:15.299270",
     "exception": false,
     "start_time": "2020-10-18T18:23:15.151561",
     "status": "completed"
    },
    "tags": []
   },
   "outputs": [
    {
     "data": {
      "text/plain": [
       "116343.04"
      ]
     },
     "execution_count": 80,
     "metadata": {},
     "output_type": "execute_result"
    }
   ],
   "source": [
    "xg_predicts.mean()"
   ]
  },
  {
   "cell_type": "code",
   "execution_count": 81,
   "metadata": {
    "execution": {
     "iopub.execute_input": "2020-10-18T18:23:15.570572Z",
     "iopub.status.busy": "2020-10-18T18:23:15.569215Z",
     "iopub.status.idle": "2020-10-18T18:23:15.574150Z",
     "shell.execute_reply": "2020-10-18T18:23:15.574707Z"
    },
    "papermill": {
     "duration": 0.145271,
     "end_time": "2020-10-18T18:23:15.574884",
     "exception": false,
     "start_time": "2020-10-18T18:23:15.429613",
     "status": "completed"
    },
    "tags": []
   },
   "outputs": [],
   "source": [
    "xgboost_csv=pd.DataFrame()\n",
    "xgboost_csv[\"Id\"]=test_df[\"Id\"]\n",
    "xgboost_csv[\"SalePrice\"]=xg_predicts"
   ]
  },
  {
   "cell_type": "code",
   "execution_count": 82,
   "metadata": {
    "execution": {
     "iopub.execute_input": "2020-10-18T18:23:15.847759Z",
     "iopub.status.busy": "2020-10-18T18:23:15.846806Z",
     "iopub.status.idle": "2020-10-18T18:23:15.852798Z",
     "shell.execute_reply": "2020-10-18T18:23:15.852073Z"
    },
    "papermill": {
     "duration": 0.147372,
     "end_time": "2020-10-18T18:23:15.852916",
     "exception": false,
     "start_time": "2020-10-18T18:23:15.705544",
     "status": "completed"
    },
    "tags": []
   },
   "outputs": [
    {
     "data": {
      "text/html": [
       "<div>\n",
       "<style scoped>\n",
       "    .dataframe tbody tr th:only-of-type {\n",
       "        vertical-align: middle;\n",
       "    }\n",
       "\n",
       "    .dataframe tbody tr th {\n",
       "        vertical-align: top;\n",
       "    }\n",
       "\n",
       "    .dataframe thead th {\n",
       "        text-align: right;\n",
       "    }\n",
       "</style>\n",
       "<table border=\"1\" class=\"dataframe\">\n",
       "  <thead>\n",
       "    <tr style=\"text-align: right;\">\n",
       "      <th></th>\n",
       "      <th>Id</th>\n",
       "      <th>SalePrice</th>\n",
       "    </tr>\n",
       "  </thead>\n",
       "  <tbody>\n",
       "    <tr>\n",
       "      <th>0</th>\n",
       "      <td>1461</td>\n",
       "      <td>89080.070312</td>\n",
       "    </tr>\n",
       "    <tr>\n",
       "      <th>1</th>\n",
       "      <td>1462</td>\n",
       "      <td>96119.953125</td>\n",
       "    </tr>\n",
       "    <tr>\n",
       "      <th>2</th>\n",
       "      <td>1463</td>\n",
       "      <td>118751.937500</td>\n",
       "    </tr>\n",
       "    <tr>\n",
       "      <th>3</th>\n",
       "      <td>1464</td>\n",
       "      <td>120121.570312</td>\n",
       "    </tr>\n",
       "    <tr>\n",
       "      <th>4</th>\n",
       "      <td>1465</td>\n",
       "      <td>124036.039062</td>\n",
       "    </tr>\n",
       "  </tbody>\n",
       "</table>\n",
       "</div>"
      ],
      "text/plain": [
       "     Id      SalePrice\n",
       "0  1461   89080.070312\n",
       "1  1462   96119.953125\n",
       "2  1463  118751.937500\n",
       "3  1464  120121.570312\n",
       "4  1465  124036.039062"
      ]
     },
     "execution_count": 82,
     "metadata": {},
     "output_type": "execute_result"
    }
   ],
   "source": [
    "xgboost_csv.head()"
   ]
  },
  {
   "cell_type": "code",
   "execution_count": 83,
   "metadata": {
    "execution": {
     "iopub.execute_input": "2020-10-18T18:23:16.125243Z",
     "iopub.status.busy": "2020-10-18T18:23:16.124165Z",
     "iopub.status.idle": "2020-10-18T18:23:16.129436Z",
     "shell.execute_reply": "2020-10-18T18:23:16.128637Z"
    },
    "papermill": {
     "duration": 0.147082,
     "end_time": "2020-10-18T18:23:16.129564",
     "exception": false,
     "start_time": "2020-10-18T18:23:15.982482",
     "status": "completed"
    },
    "tags": []
   },
   "outputs": [
    {
     "data": {
      "text/html": [
       "<div>\n",
       "<style scoped>\n",
       "    .dataframe tbody tr th:only-of-type {\n",
       "        vertical-align: middle;\n",
       "    }\n",
       "\n",
       "    .dataframe tbody tr th {\n",
       "        vertical-align: top;\n",
       "    }\n",
       "\n",
       "    .dataframe thead th {\n",
       "        text-align: right;\n",
       "    }\n",
       "</style>\n",
       "<table border=\"1\" class=\"dataframe\">\n",
       "  <thead>\n",
       "    <tr style=\"text-align: right;\">\n",
       "      <th></th>\n",
       "      <th>Id</th>\n",
       "      <th>SalePrice</th>\n",
       "    </tr>\n",
       "  </thead>\n",
       "  <tbody>\n",
       "    <tr>\n",
       "      <th>0</th>\n",
       "      <td>1461</td>\n",
       "      <td>125975.847845</td>\n",
       "    </tr>\n",
       "    <tr>\n",
       "      <th>1</th>\n",
       "      <td>1462</td>\n",
       "      <td>164296.750939</td>\n",
       "    </tr>\n",
       "    <tr>\n",
       "      <th>2</th>\n",
       "      <td>1463</td>\n",
       "      <td>183700.205241</td>\n",
       "    </tr>\n",
       "    <tr>\n",
       "      <th>3</th>\n",
       "      <td>1464</td>\n",
       "      <td>194370.247861</td>\n",
       "    </tr>\n",
       "    <tr>\n",
       "      <th>4</th>\n",
       "      <td>1465</td>\n",
       "      <td>182950.873688</td>\n",
       "    </tr>\n",
       "  </tbody>\n",
       "</table>\n",
       "</div>"
      ],
      "text/plain": [
       "     Id      SalePrice\n",
       "0  1461  125975.847845\n",
       "1  1462  164296.750939\n",
       "2  1463  183700.205241\n",
       "3  1464  194370.247861\n",
       "4  1465  182950.873688"
      ]
     },
     "execution_count": 83,
     "metadata": {},
     "output_type": "execute_result"
    }
   ],
   "source": [
    "boosted_csv.head()"
   ]
  },
  {
   "cell_type": "code",
   "execution_count": 84,
   "metadata": {
    "execution": {
     "iopub.execute_input": "2020-10-18T18:23:16.400243Z",
     "iopub.status.busy": "2020-10-18T18:23:16.399408Z",
     "iopub.status.idle": "2020-10-18T18:23:16.411264Z",
     "shell.execute_reply": "2020-10-18T18:23:16.410305Z"
    },
    "papermill": {
     "duration": 0.149096,
     "end_time": "2020-10-18T18:23:16.411442",
     "exception": false,
     "start_time": "2020-10-18T18:23:16.262346",
     "status": "completed"
    },
    "tags": []
   },
   "outputs": [],
   "source": [
    "xgboost_csv.to_csv(\"/kaggle/working/xgboosted.csv\",index=False)"
   ]
  },
  {
   "cell_type": "markdown",
   "metadata": {
    "papermill": {
     "duration": 0.135484,
     "end_time": "2020-10-18T18:23:16.682913",
     "exception": false,
     "start_time": "2020-10-18T18:23:16.547429",
     "status": "completed"
    },
    "tags": []
   },
   "source": [
    "### Checking with the different set of tuning parameters"
   ]
  },
  {
   "cell_type": "code",
   "execution_count": 85,
   "metadata": {
    "execution": {
     "iopub.execute_input": "2020-10-18T18:23:16.954095Z",
     "iopub.status.busy": "2020-10-18T18:23:16.953224Z",
     "iopub.status.idle": "2020-10-18T18:23:16.957134Z",
     "shell.execute_reply": "2020-10-18T18:23:16.956322Z"
    },
    "papermill": {
     "duration": 0.142166,
     "end_time": "2020-10-18T18:23:16.957275",
     "exception": false,
     "start_time": "2020-10-18T18:23:16.815109",
     "status": "completed"
    },
    "tags": []
   },
   "outputs": [],
   "source": [
    "xgb1 = xgb.XGBRegressor()\n",
    "parameters = {'nthread':[4], #when use hyperthread, xgboost may become slower\n",
    "              'objective':['reg:linear'],\n",
    "              'learning_rate': [.03, 0.05, .07], #so called `eta` value\n",
    "              'max_depth': [5, 6, 7],\n",
    "              'min_child_weight': [4],\n",
    "              'subsample': [0.7],\n",
    "              'colsample_bytree': [0.7],\n",
    "              'n_estimators': [500]}\n",
    "\n",
    "xgb_grid = GridSearchCV(xgb1,\n",
    "                        parameters,\n",
    "                        cv = 2,\n",
    "                        n_jobs = -1,\n",
    "                        verbose=True)\n",
    "\n"
   ]
  },
  {
   "cell_type": "code",
   "execution_count": 86,
   "metadata": {
    "execution": {
     "iopub.execute_input": "2020-10-18T18:23:17.231312Z",
     "iopub.status.busy": "2020-10-18T18:23:17.228413Z",
     "iopub.status.idle": "2020-10-18T18:23:17.246761Z",
     "shell.execute_reply": "2020-10-18T18:23:17.245945Z"
    },
    "papermill": {
     "duration": 0.156844,
     "end_time": "2020-10-18T18:23:17.246891",
     "exception": false,
     "start_time": "2020-10-18T18:23:17.090047",
     "status": "completed"
    },
    "tags": []
   },
   "outputs": [],
   "source": [
    "X_mat=X.values\n",
    "test_mat=test_df.values"
   ]
  },
  {
   "cell_type": "code",
   "execution_count": 87,
   "metadata": {
    "execution": {
     "iopub.execute_input": "2020-10-18T18:23:17.524687Z",
     "iopub.status.busy": "2020-10-18T18:23:17.523437Z",
     "iopub.status.idle": "2020-10-18T18:24:09.045495Z",
     "shell.execute_reply": "2020-10-18T18:24:09.046343Z"
    },
    "papermill": {
     "duration": 51.666958,
     "end_time": "2020-10-18T18:24:09.046545",
     "exception": false,
     "start_time": "2020-10-18T18:23:17.379587",
     "status": "completed"
    },
    "tags": []
   },
   "outputs": [
    {
     "name": "stdout",
     "output_type": "stream",
     "text": [
      "Fitting 2 folds for each of 9 candidates, totalling 18 fits\n"
     ]
    },
    {
     "name": "stderr",
     "output_type": "stream",
     "text": [
      "[Parallel(n_jobs=-1)]: Using backend LokyBackend with 4 concurrent workers.\n",
      "[Parallel(n_jobs=-1)]: Done  18 out of  18 | elapsed:   49.5s finished\n"
     ]
    },
    {
     "name": "stdout",
     "output_type": "stream",
     "text": [
      "[18:24:07] WARNING: ../src/objective/regression_obj.cu:174: reg:linear is now deprecated in favor of reg:squarederror.\n",
      "[18:24:09] WARNING: ../src/objective/regression_obj.cu:174: reg:linear is now deprecated in favor of reg:squarederror.\n"
     ]
    },
    {
     "data": {
      "text/plain": [
       "GridSearchCV(cv=2,\n",
       "             estimator=XGBRegressor(base_score=None, booster=None,\n",
       "                                    colsample_bylevel=None,\n",
       "                                    colsample_bynode=None,\n",
       "                                    colsample_bytree=None, gamma=None,\n",
       "                                    gpu_id=None, importance_type='gain',\n",
       "                                    interaction_constraints=None,\n",
       "                                    learning_rate=None, max_delta_step=None,\n",
       "                                    max_depth=None, min_child_weight=None,\n",
       "                                    missing=nan, monotone_constraints=None,\n",
       "                                    n_estimators=100, n_jobs=...\n",
       "                                    num_parallel_tree=None, random_state=None,\n",
       "                                    reg_alpha=None, reg_lambda=None,\n",
       "                                    scale_pos_weight=None, subsample=None,\n",
       "                                    tree_method=None, validate_parameters=None,\n",
       "                                    verbosity=None),\n",
       "             n_jobs=-1,\n",
       "             param_grid={'colsample_bytree': [0.7],\n",
       "                         'learning_rate': [0.03, 0.05, 0.07],\n",
       "                         'max_depth': [5, 6, 7], 'min_child_weight': [4],\n",
       "                         'n_estimators': [500], 'nthread': [4],\n",
       "                         'objective': ['reg:linear'], 'subsample': [0.7]},\n",
       "             verbose=True)"
      ]
     },
     "execution_count": 87,
     "metadata": {},
     "output_type": "execute_result"
    }
   ],
   "source": [
    "xgb_grid.fit(X_mat,\n",
    "         y)"
   ]
  },
  {
   "cell_type": "code",
   "execution_count": 88,
   "metadata": {
    "execution": {
     "iopub.execute_input": "2020-10-18T18:24:09.381376Z",
     "iopub.status.busy": "2020-10-18T18:24:09.360904Z",
     "iopub.status.idle": "2020-10-18T18:24:09.470194Z",
     "shell.execute_reply": "2020-10-18T18:24:09.469432Z"
    },
    "papermill": {
     "duration": 0.261605,
     "end_time": "2020-10-18T18:24:09.470355",
     "exception": false,
     "start_time": "2020-10-18T18:24:09.208750",
     "status": "completed"
    },
    "tags": []
   },
   "outputs": [],
   "source": [
    "xgbtuned_predictions=xgb_grid.predict(test_mat)"
   ]
  },
  {
   "cell_type": "code",
   "execution_count": 89,
   "metadata": {
    "execution": {
     "iopub.execute_input": "2020-10-18T18:24:09.802150Z",
     "iopub.status.busy": "2020-10-18T18:24:09.801261Z",
     "iopub.status.idle": "2020-10-18T18:24:09.806487Z",
     "shell.execute_reply": "2020-10-18T18:24:09.805751Z"
    },
    "papermill": {
     "duration": 0.143307,
     "end_time": "2020-10-18T18:24:09.806611",
     "exception": false,
     "start_time": "2020-10-18T18:24:09.663304",
     "status": "completed"
    },
    "tags": []
   },
   "outputs": [
    {
     "name": "stdout",
     "output_type": "stream",
     "text": [
      "0.8751992607203685\n",
      "{'colsample_bytree': 0.7, 'learning_rate': 0.05, 'max_depth': 5, 'min_child_weight': 4, 'n_estimators': 500, 'nthread': 4, 'objective': 'reg:linear', 'subsample': 0.7}\n"
     ]
    }
   ],
   "source": [
    "print(xgb_grid.best_score_)\n",
    "print(xgb_grid.best_params_)"
   ]
  },
  {
   "cell_type": "code",
   "execution_count": 90,
   "metadata": {
    "execution": {
     "iopub.execute_input": "2020-10-18T18:24:10.083145Z",
     "iopub.status.busy": "2020-10-18T18:24:10.081988Z",
     "iopub.status.idle": "2020-10-18T18:24:10.086717Z",
     "shell.execute_reply": "2020-10-18T18:24:10.085979Z"
    },
    "papermill": {
     "duration": 0.14711,
     "end_time": "2020-10-18T18:24:10.086845",
     "exception": false,
     "start_time": "2020-10-18T18:24:09.939735",
     "status": "completed"
    },
    "tags": []
   },
   "outputs": [
    {
     "data": {
      "text/plain": [
       "177483.95"
      ]
     },
     "execution_count": 90,
     "metadata": {},
     "output_type": "execute_result"
    }
   ],
   "source": [
    "xgbtuned_predictions.mean()"
   ]
  },
  {
   "cell_type": "markdown",
   "metadata": {
    "papermill": {
     "duration": 0.134623,
     "end_time": "2020-10-18T18:24:10.356701",
     "exception": false,
     "start_time": "2020-10-18T18:24:10.222078",
     "status": "completed"
    },
    "tags": []
   },
   "source": [
    "## This predictions was not better than the old xgboost predictions so I would recommend to stick with the older xgboost model"
   ]
  }
 ],
 "metadata": {
  "kernelspec": {
   "display_name": "Python 3",
   "language": "python",
   "name": "python3"
  },
  "language_info": {
   "codemirror_mode": {
    "name": "ipython",
    "version": 3
   },
   "file_extension": ".py",
   "mimetype": "text/x-python",
   "name": "python",
   "nbconvert_exporter": "python",
   "pygments_lexer": "ipython3",
   "version": "3.7.6"
  },
  "papermill": {
   "duration": 146.716714,
   "end_time": "2020-10-18T18:24:10.616105",
   "environment_variables": {},
   "exception": null,
   "input_path": "__notebook__.ipynb",
   "output_path": "__notebook__.ipynb",
   "parameters": {},
   "start_time": "2020-10-18T18:21:43.899391",
   "version": "2.1.0"
  }
 },
 "nbformat": 4,
 "nbformat_minor": 4
}
